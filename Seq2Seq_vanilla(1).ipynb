{
 "cells": [
  {
   "cell_type": "markdown",
   "id": "27fda922",
   "metadata": {},
   "source": [
    "## CS6910 Assignment 3\n",
    "#### This code file contains all the classes and functions \n",
    "#### needed to train the Sequence to sequence model without attention mechansism \n",
    "#### I have mentioned the Reference sources that i have used to write the code in the README.me file"
   ]
  },
  {
   "cell_type": "markdown",
   "id": "8f1579bd",
   "metadata": {},
   "source": [
    "## Importing the required Libraries"
   ]
  },
  {
   "cell_type": "code",
   "execution_count": 1,
   "id": "07b4a31a",
   "metadata": {},
   "outputs": [
    {
     "data": {
      "text/plain": [
       "device(type='cuda')"
      ]
     },
     "execution_count": 1,
     "metadata": {},
     "output_type": "execute_result"
    }
   ],
   "source": [
    "import os\n",
    "import pandas as pd\n",
    "import torch\n",
    "from torch.nn.utils.rnn import pad_sequence\n",
    "from torch.utils.data import DataLoader, Dataset\n",
    "\n",
    "import torch\n",
    "import torch.nn as nn\n",
    "import torch.optim as optim\n",
    "import numpy as np\n",
    "import random\n",
    "import csv\n",
    "from prettytable import PrettyTable\n",
    "\n",
    "device = torch.device(\"cuda\" if torch.cuda.is_available() else \"cpu\")\n",
    "device"
   ]
  },
  {
   "cell_type": "code",
   "execution_count": 45,
   "id": "86e469ff",
   "metadata": {},
   "outputs": [],
   "source": [
    "#pip install prettytable"
   ]
  },
  {
   "cell_type": "markdown",
   "id": "8e94f4b0",
   "metadata": {},
   "source": [
    "## Argparse"
   ]
  },
  {
   "cell_type": "code",
   "execution_count": 19,
   "id": "9b4fa78b",
   "metadata": {},
   "outputs": [],
   "source": [
    "# Using argparse, I have define the arguments and options that my program accepts,\n",
    "# and argparse will run the code, pass arguments from command line and \n",
    "# automatically generate help messages. I have given the defaults values for \n",
    "# all the arguments, so code can be run without passing any arguments.\n",
    "# lastly returning the arguments to be used in the running of the code.\n",
    "\n",
    "import argparse\n",
    "\n",
    "parser = argparse.ArgumentParser(description=\"Stores all the hyperpamaters for the model.\")\n",
    "parser.add_argument(\"-wp\", \"--wandb_project\",default=\"cs6910_assignment 3 new\" ,type=str,\n",
    "                    help=\"Enter the Name of your Wandb Project\")\n",
    "parser.add_argument(\"-we\", \"--wandb_entity\", default=\"am22s020\",type=str,\n",
    "                    help=\"Wandb Entity used to track experiments in the Weights & Biases dashboard.\")\n",
    "parser.add_argument(\"-ws\", \"--wandb_sweep\", default=\"False\", type=bool,\n",
    "                    help=\"If you want to run wandb sweep then give True\")\n",
    "parser.add_argument(\"-e\", \"--epochs\",default=\"1\", type=int, choices=[1, 5, 10],\n",
    "                    help=\"Number of epochs to train neural network.\")\n",
    "parser.add_argument(\"-hs\", \"--hidden_size\",default=\"256\", type=int, help=\"no. of neurons in the hidden layer of the N/W\")\n",
    "parser.add_argument(\"-c\", \"--cell_type\",default=\"lstm\", type=str, choices=[\"lstm\", \"gru\", \"rnn\"])\n",
    "parser.add_argument(\"-nl\", \"--num_layers\",default=\"2\", type=int, \n",
    "                    choices=[2, 3, 4], help=\"number of recurrent layers\")\n",
    "parser.add_argument(\"-ems\", \"--embedding_size\", default=\"256\", type=int, choices=[64, 128, 256])\n",
    "parser.add_argument(\"-bd\", \"--bi_directional\", default=\"True\", type=bool)\n",
    "\n",
    "args = parser.parse_args()\n",
    "\n",
    "wandb_project = args.wandb_project\n",
    "wandb_entity = args.wandb_entity\n",
    "wandb_sweep = args.wandb_sweep\n",
    "num_epochs = args.epochs\n",
    "hidden_size = args.hidden_size\n",
    "cell_type = args.cell_type\n",
    "num_layers = args.num_layers\n",
    "embedding_size = args.embedding_size\n",
    "bi_directional = args.bi_directional\n",
    "\n",
    "print(\"wandb_project :\", wandb_project , \"wandb_entity: \", wandb_entity,\"wandb_sweep: \",wandb_sweep,\n",
    "      \"epochs: \",num_epochs,\"hidden_size: \",hidden_size, \"cell_type: \", cell_type,\n",
    "      \"num_layers: \",num_layers,\"embedding_size: \",embedding_size, \n",
    "      \"bi_directional: \", bi_directional)"
   ]
  },
  {
   "cell_type": "markdown",
   "id": "19fc68e6",
   "metadata": {},
   "source": [
    "## Preparing the datasets"
   ]
  },
  {
   "cell_type": "code",
   "execution_count": 2,
   "id": "f28ebf3f",
   "metadata": {},
   "outputs": [],
   "source": [
    "class Vocabulary():\n",
    "    \"\"\"\n",
    "    This class(Vocabulary), builds a character-level vocabulary for a given list of words.\n",
    "    It initializes the vocabulary with four special tokens (PAD, SOW, EOW, and UNK) and creates\n",
    "    two dictionaries (stoi and itos) to map characters to integers and vice versa.\n",
    "    Tokenizer: Tokenizes a given text into individual characters.\n",
    "    build_vocabulary(): Takes a list of words and adds each unique character \n",
    "    to the vocabulary, along with a unique integer ID.\n",
    "    numericalize(): Converts a given text into a list of integers, where each \n",
    "    integer corresponds to the ID of a character in the vocabulary.\n",
    "    \n",
    "    \"\"\"\n",
    "    def __init__(self):\n",
    "        self.itos = {0:\"<PAD>\",1:\"<SOW>\",2:\"<EOW>\",3:\"<UNK>\"}\n",
    "        self.stoi = {\"<PAD>\":0,\"<SOW>\":1,\"<EOW>\":2,\"<UNK>\":3}\n",
    "        #self.freq_threshold = freq_threshold\n",
    "    \n",
    "    def __len__(self):\n",
    "        return len(self.itos)\n",
    "    \n",
    "    @staticmethod\n",
    "    def tokenizer(text):\n",
    "        return [*text]\n",
    "    \n",
    "    def build_vocabulary(self, word_list):\n",
    "        char_list = []\n",
    "        idx = 4\n",
    "        \n",
    "        for word in word_list:\n",
    "            for char in self.tokenizer(word):\n",
    "                if char not in char_list:\n",
    "                    char_list.append(char)\n",
    "                    self.stoi[char] = idx\n",
    "                    self.itos[idx] = char\n",
    "                    idx+=1\n",
    "                    \n",
    "                    \n",
    "    def numericalize(self, text):\n",
    "        tokenized_text = self.tokenizer(text)\n",
    "        \n",
    "        return [self.stoi[token] if token in self.stoi else self.stoi[\"<UNK>\"] for token in tokenized_text]\n",
    "                 "
   ]
  },
  {
   "cell_type": "code",
   "execution_count": 3,
   "id": "c678159e",
   "metadata": {},
   "outputs": [],
   "source": [
    "class aksharantar(Dataset):\n",
    "    \"\"\"\n",
    "    This class used to process text data for a machine translation task.\n",
    "    root_dir: the root directory where the data is stored\n",
    "    out_lang: the target language for translation \n",
    "    dataset_type: either \"train\", \"test\", or \"val\" indicating which dataset is being used.\n",
    "    After loadinf data __init__() builds the vocabulary for each language by adding all unique characters in \n",
    "    the language's text data to the corresponding Vocabulary object.\n",
    "    The __getitem__() method takes an index and returns the numericalized form of the corresponding input \n",
    "    and output sentences.\n",
    "    It tokenizes each sentence into characters and adds special start-of-word (<SOW>) and end-of-word (<EOW>) \n",
    "    tokens to the beginning and end of the numericalized output sentence.\n",
    "    Finally, it returns PyTorch tensors of the numericalized input and output sentences.\n",
    "    \n",
    "    \"\"\"\n",
    "        \n",
    "    def __init__(self, root_dir, out_lang, dataset_type): \n",
    "        \n",
    "        # Read file\n",
    "        self.file_name = out_lang + \"_\" + dataset_type + \".csv\"\n",
    "        self.file_dir = os.path.join(root_dir, out_lang, self.file_name)\n",
    "        self.df = pd.read_csv(self.file_dir, names = [\"latin\", \"hindi\"])\n",
    "        \n",
    "        # Get columns of input and output language\n",
    "        self.latin = self.df[\"latin\"]\n",
    "        self.hindi = self.df[\"hindi\"]\n",
    "        \n",
    "        # Initialize vocabulary and build vocab\n",
    "        self.vocab_eng = Vocabulary()\n",
    "        self.vocab_eng.build_vocabulary(self.latin.tolist())\n",
    "        \n",
    "        # Initialize vocabulary and build vocab\n",
    "        self.vocab_hin = Vocabulary()\n",
    "        self.vocab_hin.build_vocabulary(self.hindi.tolist())\n",
    "        \n",
    "        \n",
    "    def __len__(self):\n",
    "        return len(self.df)\n",
    "    \n",
    "    def __getitem__(self, index):\n",
    "        latin = self.latin[index]\n",
    "        hindi = self.hindi[index]\n",
    "        \n",
    "        numericalized_hindi = [self.vocab_hin.stoi[\"<SOW>\"]]\n",
    "        numericalized_hindi += self.vocab_hin.numericalize(hindi)\n",
    "        numericalized_hindi.append(self.vocab_hin.stoi[\"<EOW>\"])\n",
    "        \n",
    "        numericalized_latin = [self.vocab_eng.stoi[\"<SOW>\"]]\n",
    "        numericalized_latin += self.vocab_eng.numericalize(latin)\n",
    "        numericalized_latin.append(self.vocab_eng.stoi[\"<EOW>\"])\n",
    "        \n",
    "        return torch.tensor(numericalized_latin), torch.tensor(numericalized_hindi) \n",
    "               \n",
    "        "
   ]
  },
  {
   "cell_type": "code",
   "execution_count": 4,
   "id": "e6cf7247",
   "metadata": {},
   "outputs": [],
   "source": [
    "class MyCollate:\n",
    "    \"\"\"\n",
    "    This class is used to collate the data items into batches for DataLoader. \n",
    "    It takes two arguments, pad_idx_eng and pad_idx_hin, which are the index of the <PAD> token\n",
    "    in the English and Hindi vocabularies respectively.\n",
    "    \n",
    "    \n",
    "    \"\"\"\n",
    "    def __init__(self, pad_idx_eng, pad_idx_hin):\n",
    "        self.pad_idx_eng = pad_idx_eng\n",
    "        self.pad_idx_hin = pad_idx_hin\n",
    "        \n",
    "    def __call__(self, batch):\n",
    "        inputs = [item[0] for item in batch]\n",
    "        inputs = pad_sequence(inputs, batch_first=False, padding_value=self.pad_idx_eng)\n",
    "        \n",
    "        targets = [item[1] for item in batch]\n",
    "        targets = pad_sequence(targets, batch_first=False, padding_value=self.pad_idx_hin)\n",
    "        \n",
    "        return inputs, targets\n",
    "        \n",
    "        "
   ]
  },
  {
   "cell_type": "code",
   "execution_count": 5,
   "id": "cf72221a",
   "metadata": {},
   "outputs": [],
   "source": [
    "def get_loader(root_dir, out_lang, dataset_type, batch_size, pin_memory=True ):\n",
    "    \"\"\"\n",
    "    This class returns a PyTorch DataLoader object and a custom dataset object. \n",
    "    The DataLoader object loads the data in batches.\n",
    "    \n",
    "    \"\"\"\n",
    "    \n",
    "    dataset = aksharantar(root_dir, out_lang, dataset_type)\n",
    "    \n",
    "    pad_idx_eng = dataset.vocab_eng.stoi[\"<PAD>\"]\n",
    "    pad_idx_hin = dataset.vocab_hin.stoi[\"<PAD>\"]\n",
    "    \n",
    "    loader = DataLoader(dataset=dataset,batch_size=batch_size,\n",
    "                       pin_memory=pin_memory,\n",
    "                       collate_fn=MyCollate(pad_idx_eng=pad_idx_eng, pad_idx_hin=pad_idx_hin),\n",
    "                       shuffle=True)\n",
    "    return loader, dataset\n"
   ]
  },
  {
   "cell_type": "markdown",
   "id": "efbc85ae",
   "metadata": {},
   "source": [
    "## Getting the model Ready"
   ]
  },
  {
   "cell_type": "code",
   "execution_count": 6,
   "id": "6f8d39dd",
   "metadata": {},
   "outputs": [],
   "source": [
    "class Encoder(nn.Module):\n",
    "    \"\"\"\n",
    "    This code defines an Encoder class for a sequence-to-sequence model.\n",
    "    \n",
    "    embedding_size:The embedding size is the dimensionality of the dense vector representation\n",
    "    hidden_size: the number of units or neurons in the hidden layer of the network.\n",
    "    num_layers: The number of layers in an RNN refers to the number of recurrent layers that are\n",
    "    stacked on top of each other to process sequential input.\n",
    "    bi_directional : input sequence to be processed in both forward and backward directions.\n",
    "    \n",
    "    The class takes in an input size, embedding size, hidden size, \n",
    "    number of layers, dropout rate, cell type (GRU, LSTM, or RNN), \n",
    "    and whether the network is bidirectional. The forward method takes in \n",
    "    an input tensor x, applies dropout to its embedded representation, and \n",
    "    passes it through a GRU, LSTM, or RNN layer depending on the cell type specified. \n",
    "    The final hidden states of the layer(s) are returned.\n",
    "    \n",
    "    \"\"\"\n",
    "    #input_size represents the dimensionality of the \n",
    "    #encoder's input space, indicating the number of possible input tokens or\n",
    "    #categories that the coder can generate.\n",
    "    \n",
    "    def __init__(self, input_size, embedding_size, hidden_size, num_layers, p, cell_type, bi_directional):\n",
    "        super(Encoder, self).__init__()\n",
    "        self.hidden_size = hidden_size\n",
    "        self.num_layers = num_layers\n",
    "        self.cell_type = cell_type\n",
    "        self.dropout = nn.Dropout(p)\n",
    "        self.embedding = nn.Embedding(input_size, embedding_size)\n",
    "        self.gru = nn.GRU(embedding_size, hidden_size, num_layers, dropout=p, bidirectional=bi_directional)\n",
    "        self.lstm = nn.LSTM(embedding_size, hidden_size, num_layers, dropout=p,bidirectional=bi_directional)\n",
    "        self.rnn = nn.RNN(embedding_size, hidden_size, num_layers, dropout=p,bidirectional=bi_directional)\n",
    "\n",
    "    def forward(self, x):\n",
    "        # x, shape=(seq_length, N)\n",
    "        embedding = self.dropout(self.embedding(x))\n",
    "        # embedding shape = (seq_length, N,embedding_size )\n",
    "        \n",
    "        if self.cell_type == 'gru':\n",
    "            _, hidden = self.gru(embedding)\n",
    "            return hidden\n",
    "        \n",
    "        if self.cell_type == 'lstm':\n",
    "            _, (hidden, cell) = self.lstm(embedding)\n",
    "            return hidden, cell\n",
    "        \n",
    "        if self.cell_type == 'rnn':\n",
    "            _, hidden = self.rnn(embedding)\n",
    "            return hidden\n",
    "          \n",
    "    # This method is called at the beginning of each new input sequence\n",
    "    # to reset the hidden state.\n",
    "#     def initHidden(self):\n",
    "#         return torch.zeros(1, 1, self.hidden_size, device=device)"
   ]
  },
  {
   "cell_type": "code",
   "execution_count": 7,
   "id": "38b5d1a2",
   "metadata": {},
   "outputs": [],
   "source": [
    "class Decoder(nn.Module):\n",
    "    \"\"\"\n",
    "    This code defines the Decoder class, which is responsible for decoding the encoded input sequence\n",
    "    and generating the target sequence. \n",
    "    The method first unsqueezes x to add a batch dimension and then applies dropout to the embedding layer. \n",
    "    It then passes the embedded input sequence through the decoder's RNN layer, \n",
    "    which can be either GRU, LSTM, or RNN.\n",
    "    Then passes the output through a linear layer to get the predictions, which are returned \n",
    "    along with the hidden and cell states.\n",
    "    Finally, the method squeezes the predictions tensor to remove the batch dimension before returning \n",
    "    the predictions and hidden/cell states.\n",
    "    \n",
    "    \"\"\"\n",
    "    def __init__(self, input_size, embedding_size, hidden_size, output_size, num_layers,\n",
    "                 p, cell_type, bi_directional ):\n",
    "        super(Decoder, self).__init__()\n",
    "        self.hidden_size = hidden_size\n",
    "        self.num_layers = num_layers\n",
    "        self.cell_type = cell_type\n",
    "        self.dropout = nn.Dropout(p)\n",
    "        self.embedding = nn.Embedding(input_size, embedding_size)\n",
    "        self.gru = nn.GRU(embedding_size, hidden_size, num_layers, dropout=p,bidirectional=bi_directional )\n",
    "        self.lstm = nn.LSTM(embedding_size, hidden_size,num_layers, dropout=p, bidirectional=bi_directional)\n",
    "        self.rnn = nn.RNN(embedding_size, hidden_size,num_layers, dropout=p, bidirectional=bi_directional)\n",
    "        if bi_directional:\n",
    "            self.fc = nn.Linear(2*hidden_size, output_size)\n",
    "        else:\n",
    "            self.fc = nn.Linear(hidden_size, output_size)        \n",
    "        \n",
    "    def forward(self, x, hidden, cell):\n",
    "        # x, shape=(N) but we want (1, N)\n",
    "        x = x.unsqueeze(0)\n",
    "        \n",
    "        embedding = self.dropout(self.embedding(x))\n",
    "        # embedding shape = (1, N,embedding_size )\n",
    "        \n",
    "        if self.cell_type == 'gru':\n",
    "            outputs, hidden = self.gru(embedding, hidden)\n",
    "            #shape of output (1,N,hidden_size)\n",
    "            \n",
    "        if self.cell_type == 'lstm':\n",
    "            outputs, (hidden, cell) = self.lstm(embedding, (hidden, cell))\n",
    "            \n",
    "        if self.cell_type == 'rnn':\n",
    "            outputs, hidden = self.rnn(embedding, hidden)\n",
    "            \n",
    "        predictions = self.fc(outputs)\n",
    "        # shape of predictions = (1, N, length_of_vocabs)\n",
    "        \n",
    "        predictions = predictions.squeeze(0)\n",
    "        \n",
    "        if self.cell_type == 'lstm':\n",
    "            return predictions, hidden, cell\n",
    "        else:\n",
    "            return predictions, hidden\n",
    "    "
   ]
  },
  {
   "cell_type": "code",
   "execution_count": 8,
   "id": "6f20b878",
   "metadata": {},
   "outputs": [],
   "source": [
    "class Seq2Seq(nn.Module):\n",
    "    \"\"\"\n",
    "    This class have functions which takes words as input and target words to find the \n",
    "    predictions using the model build in the forward function.\n",
    "    This function uses the encoder and decoder formed earlier.\n",
    "    \n",
    "    \"\"\"\n",
    "    def __init__(self, encoder, decoder, cell_type):\n",
    "        super(Seq2Seq, self).__init__()\n",
    "        self.encoder = encoder\n",
    "        self.decoder = decoder\n",
    "        self.cell_type = cell_type\n",
    "        \n",
    "    def forward(self, word_input, word_target, teacher_force_ratio=0.5):\n",
    "        \n",
    "        batch_size = word_input.shape[1]\n",
    "        target_length = word_target.shape[0]\n",
    "        \n",
    "        outputs = torch.zeros(target_length, batch_size, len(train_data.vocab_hin)).to(device)\n",
    "        \n",
    "        if self.cell_type == 'lstm':\n",
    "             hidden, cell = self.encoder(word_input)\n",
    "        else:\n",
    "            hidden = self.encoder(word_input)\n",
    "            \n",
    "        # grab start token\n",
    "        x= word_target[0]\n",
    "        \n",
    "        for t in range(1, target_length):\n",
    "            if self.cell_type == \"lstm\":\n",
    "                output, hidden, cell = self.decoder(x, hidden, cell)\n",
    "            else:\n",
    "                output, hidden = self.decoder(x, hidden, 0)\n",
    "                \n",
    "            outputs[t] = output\n",
    "            \n",
    "            best_pred = output.argmax(1)\n",
    "            \n",
    "            x = word_target[t] if random.random() < teacher_force_ratio else best_pred\n",
    "            \n",
    "        return outputs\n",
    "    "
   ]
  },
  {
   "cell_type": "markdown",
   "id": "504549cf",
   "metadata": {},
   "source": [
    "## Functions to find accuracy and print and save outputs"
   ]
  },
  {
   "cell_type": "code",
   "execution_count": 9,
   "id": "1e0d741d",
   "metadata": {},
   "outputs": [],
   "source": [
    "def predict(model, input_list, cell_type, max_length=30):\n",
    "    \n",
    "    '''\n",
    "    max_length: The maximum length of latin input.\n",
    "    The purpose of this function is to accept a list of characters in the input \n",
    "    language and then provide a list of characters in the output language.\n",
    "    cell_type: to use which among lstm, rnn or gru cell\n",
    "    \n",
    "    \n",
    "    '''\n",
    "    \n",
    "    # Making the indexes of the input according to the training data vocabulary\n",
    "    # Because the index2str dicts of train data and val/test datasets are diffent\n",
    "    \n",
    "    input_word = [train_data.vocab_eng.stoi[char] for char in input_list]\n",
    "    input_word = torch.LongTensor(input_word)\n",
    "\n",
    "    # Input word is of shape (seq_length) but we want it to be (seq_length, 1) where 1 represents batch size\n",
    "    input_word = input_word.view(input_word.shape[0],1).to(device)\n",
    "    \n",
    "    start_token_index = 1\n",
    "    end_token_index = 2\n",
    "   \n",
    "    # Encoder\n",
    "    with torch.no_grad():\n",
    "        if model.cell_type == \"lstm\":\n",
    "            hidden, cell = model.encoder(input_word)\n",
    "        else:\n",
    "            hidden = model.encoder(input_word)\n",
    "    \n",
    "    # Add start token to outputs\n",
    "    outputs = [start_token_index]\n",
    "\n",
    "    for _ in range(max_length):\n",
    "        prev_char = torch.LongTensor([outputs[-1]]).to(device)\n",
    "\n",
    "        with torch.no_grad():\n",
    "            if model.cell_type == \"lstm\":\n",
    "                output, hidden, cell = model.decoder(prev_char, hidden, cell)\n",
    "            else:\n",
    "                output, hidden = model.decoder(prev_char, hidden, 0)\n",
    "            \n",
    "            best_guess = output.argmax(1).item()\n",
    "\n",
    "        outputs.append(best_guess)\n",
    "\n",
    "        # Model predicts it's the end of the sentence\n",
    "        if output.argmax(1).item() == end_token_index:\n",
    "            break\n",
    "    \n",
    "    # Convert outputs to character list\n",
    "    prediction = [train_data.vocab_hin.itos[index] for index in outputs]\n",
    "    \n",
    "    return prediction\n"
   ]
  },
  {
   "cell_type": "code",
   "execution_count": 10,
   "id": "1c4f3373",
   "metadata": {},
   "outputs": [],
   "source": [
    "def accuracy(dataset, model, cell_type):\n",
    "    \n",
    "    \"\"\"\n",
    "    This function will comapre the prediction given by the predict function and the target output.\n",
    "    I will do word by word, so may take little more time.\n",
    "    \n",
    "    \"\"\"\n",
    "    \n",
    "    # Initializing the count\n",
    "    correct_count = 0\n",
    "    # Number of data in our dataset\n",
    "    words_count = len(dataset)\n",
    "    \n",
    "    for i in range(words_count):\n",
    "           \n",
    "        char_input = [dataset.vocab_eng.itos[index] for index in dataset[i][0].tolist()]\n",
    "        \n",
    "        prediction = predict(model, char_input, cell_type)\n",
    "        \n",
    "        actual_word = [dataset.vocab_hin.itos[index] for index in dataset[i][1].tolist()]\n",
    "        \n",
    "        if prediction == actual_word:\n",
    "            correct_count+=1\n",
    "            \n",
    "            \n",
    "    return 100*(correct_count/words_count)"
   ]
  },
  {
   "cell_type": "code",
   "execution_count": 11,
   "id": "c25f1028",
   "metadata": {},
   "outputs": [],
   "source": [
    "def prediction_csv(dataset, model, cell_type):\n",
    "    \n",
    "    \"\"\"\n",
    "    This function will generate the csv file containig the inputs their \n",
    "    predictions and corresponding target word.\n",
    "    model: Trained model\n",
    "    \n",
    "    \"\"\"\n",
    "    \n",
    "    correct_count = 0\n",
    "    words_count = len(dataset)\n",
    "    \n",
    "    list_of_words = []\n",
    "    \n",
    "    for i in range(words_count):\n",
    "        list1 = []\n",
    "        \n",
    "        char_input = [dataset.vocab_eng.itos[index] for index in dataset[i][0].tolist()]\n",
    "        \n",
    "        input_string = ''.join(char_input[1:len(char_input)-1])\n",
    "        list1.append(input_string)\n",
    "        \n",
    "        prediction = predict(model, char_input, cell_type)\n",
    "        \n",
    "        pred_string = ''.join(prediction[1:len(prediction)-1])\n",
    "        list1.append(pred_string)\n",
    "        \n",
    "        actual_word = [dataset.vocab_hin.itos[index] for index in dataset[i][1].tolist()]\n",
    "        \n",
    "        target_string = ''.join(actual_word[1:len(actual_word)-1])\n",
    "        list1.append(target_string)\n",
    "        list_of_words.append(list1)\n",
    "        \n",
    "        if prediction == actual_word:\n",
    "            correct_count+=1\n",
    "            \n",
    "    with open('predictions_vanilla.csv', mode='w', encoding='utf-8', newline='') as file:\n",
    "        writer = csv.writer(file)\n",
    "    \n",
    "        header = [\"Input\", \"Prediction\",\"Target\"]\n",
    "    \n",
    "        # Write header row\n",
    "        writer.writerow(header)\n",
    "        \n",
    "        for i in range(words_count):\n",
    "            writer.writerow(list_of_words[i])\n",
    "            "
   ]
  },
  {
   "cell_type": "code",
   "execution_count": 12,
   "id": "1ba3b96c",
   "metadata": {},
   "outputs": [],
   "source": [
    "def print_prediction(dataset, model, cell_type):\n",
    "    \n",
    "    \"\"\"\n",
    "    This function will generate the print the inputs, their \n",
    "    predictions and corresponding target word.\n",
    "    model: Trained model\n",
    "    \n",
    "    \"\"\"\n",
    "    \n",
    "    words_count = len(dataset)\n",
    "    \n",
    "    # For better looks of printed elements\n",
    "    table = PrettyTable()\n",
    "    table.field_names = [\"Input\", \"Prediction\", \"Target\"]\n",
    "    \n",
    "    #Creating the dataframe to store the 3 values\n",
    "    df = pd.DataFrame(columns=['Input', 'prediction', 'Target'])\n",
    "    \n",
    "    for i in range(16):\n",
    "        list1 = []\n",
    "        \n",
    "        # changing the word into list of characters.\n",
    "        char_input = [dataset.vocab_eng.itos[index] for index in dataset[i][0].tolist()]\n",
    "        \n",
    "        input_string = ''.join(char_input[1:len(char_input)-1])\n",
    "        list1.append(input_string)\n",
    "        \n",
    "        # getting the prediction using the predict function\n",
    "        prediction = predict(model, char_input, cell_type)\n",
    "        \n",
    "        pred_string = ''.join(prediction[1:len(prediction)-1])\n",
    "        list1.append(pred_string)\n",
    "        \n",
    "        # Preparing target word\n",
    "        actual_word = [dataset.vocab_hin.itos[index] for index in dataset[i][1].tolist()]\n",
    "        \n",
    "        target_string = ''.join(actual_word[1:len(actual_word)-1])\n",
    "        list1.append(target_string)\n",
    "\n",
    "        # appending all the three vaues in their respective columns\n",
    "        df = df.append({'Input': list1[0], 'prediction': list1[1], 'Target': list1[2]}, ignore_index=True)\n",
    "    \n",
    "    # Adding the content of dataframe in the the table\n",
    "    for row in df.itertuples(index=False):\n",
    "        table.add_row(row)\n",
    "    \n",
    "    print(table)\n",
    "        \n"
   ]
  },
  {
   "cell_type": "code",
   "execution_count": 15,
   "id": "879e0c34",
   "metadata": {},
   "outputs": [],
   "source": [
    "def train(num_epochs, learning_rate, batch_size, load_model, \n",
    "         input_size_encoder, input_size_decoder, output_size,\n",
    "         encoder_embedding_size, decoder_embedding_size,\n",
    "         hidden_size, num_layers, enc_dropout, de_dropout):\n",
    "    \n",
    "    \"\"\"\n",
    "    This function is created to train the Seq2Seq model manually(without wandb).\n",
    "    It takes the all the arguments needed for the encoder, decoder and Seq2seq model.\n",
    "    Using this function we can test our model on test dataset, just uncomment the relevant line \n",
    "    commented in the lower part of the code.\n",
    "    We can also generate prediction_vanilla csv file just by uncomment the \n",
    "    second last commented part of this code.\n",
    "    We can also print the prediction by uncommenting the last part\n",
    "    \n",
    "    \"\"\"\n",
    "   \n",
    "    \n",
    "    # Importing the Encoder class\n",
    "    encoder_net = Encoder(input_size_encoder, encoder_embedding_size,\n",
    "                         hidden_size, num_layers, enc_dropout, cell_type,\n",
    "                          bi_directional).to(device)\n",
    "    \n",
    "    # Importing the Decoder class\n",
    "    decoder_net = Decoder(input_size_decoder, decoder_embedding_size,\n",
    "                         hidden_size, output_size, num_layers, dec_dropout, \n",
    "                          cell_type ,bi_directional).to(device)\n",
    "\n",
    "    # Preparing the model\n",
    "    model = Seq2Seq(encoder_net, decoder_net, cell_type).to(device)\n",
    "    \n",
    "    # Importing the optimizer and loss function\n",
    "    optimizer = optim.Adam(model.parameters(), lr=learning_rate)\n",
    "    pad_index = 0\n",
    "    criterion = nn.CrossEntropyLoss(ignore_index=pad_index)\n",
    "\n",
    "    if load_model:\n",
    "        load_checkpoint(torch.load('my_checkpoint.pth.ptar'),model, optimizer)\n",
    "    \n",
    "    print(\"Training the model...\")\n",
    "    for epoch in range(num_epochs):\n",
    "        print('Epoch: ', epoch+1, '/', num_epochs)\n",
    "        \n",
    "        for batch_idx, (inputs, targets) in enumerate(train_loader):\n",
    "            \n",
    "            input_word = inputs.to(device)\n",
    "            target_word = targets.to(device)\n",
    "\n",
    "            output = model(input_word, target_word)\n",
    "            # output shape: (target_len, batch_size, output_vocab_size)\n",
    "            \n",
    "            output = output[1:].reshape(-1, output.shape[2])\n",
    "            target_word = target_word[1:].reshape(-1)\n",
    "\n",
    "            optimizer.zero_grad()\n",
    "            loss = criterion(output, target_word)\n",
    "\n",
    "            loss.backward()\n",
    "\n",
    "            # To handle large gradients:\n",
    "            torch.nn.utils.clip_grad_norm_(model.parameters(), max_norm=1)\n",
    "            optimizer.step()\n",
    "            \n",
    "        print(\"Training Loss: \", loss.item())\n",
    "        model.eval()\n",
    "        print(\"Finding accuracy of the model...\")\n",
    "        train_accu =  accuracy(train_data, model, cell_type)\n",
    "        valid_accu =  accuracy(valid_data, model, cell_type)\n",
    "        model.train()\n",
    "\n",
    "        print(\"valid accuracy: \", valid_accu)\n",
    "        print(\"train accuracy: \", train_accu)\n",
    "                        \n",
    "        \n",
    "    ##=> For testing the model uncomment the code\n",
    "    #model.eval()        \n",
    "    #test_accur =  accuracy(test_data, model, cell_type) \n",
    "\n",
    "    ##=> Uncomment  prediction_csv only if you want to generate the csv file of predictions\n",
    "    #prediction_csv(test_data, model, cell_type)  \n",
    "    #model.train()  \n",
    "    \n",
    "#     print(\"Printing the predictions of Input words:\")\n",
    "#     print()\n",
    "#     model.eval()\n",
    "#     print_prediction(test_data, model, cell_type)\n",
    "#     model.train()    \n",
    "    \n",
    "    \n"
   ]
  },
  {
   "cell_type": "code",
   "execution_count": 16,
   "id": "60d5ad60",
   "metadata": {},
   "outputs": [],
   "source": [
    "# # Data Uploading\n",
    "# You can change the directory according to your data location\n",
    "# out_lang: Choose which output language you want transliteration.\n",
    "# 'hin':Hindi, 'urd':Urdu, 'tel':Telgu etc\n",
    "root_dir = r'C:\\Users\\HICLIPS-ASK\\aksharantar_sampled'\n",
    "out_lang = 'hin'\n",
    "batch_size = 64\n",
    "train_loader, train_data = get_loader(root_dir, out_lang, 'train', batch_size=batch_size, pin_memory=True )\n",
    "valid_loader, valid_data = get_loader(root_dir, out_lang, 'valid', batch_size=batch_size, pin_memory=True)\n",
    "test_loader, test_data = get_loader(root_dir, out_lang, 'test', batch_size=batch_size, pin_memory=True)"
   ]
  },
  {
   "cell_type": "code",
   "execution_count": 17,
   "id": "8584da76",
   "metadata": {},
   "outputs": [],
   "source": [
    "#wandb_sweep = False"
   ]
  },
  {
   "cell_type": "code",
   "execution_count": 47,
   "id": "286997b8",
   "metadata": {},
   "outputs": [
    {
     "name": "stdout",
     "output_type": "stream",
     "text": [
      "Epoch:  1 / 10\n",
      "Training Loss:  0.8664389848709106\n",
      "Epoch:  2 / 10\n",
      "Training Loss:  0.7912437319755554\n",
      "Epoch:  3 / 10\n",
      "Training Loss:  0.5755021572113037\n",
      "Epoch:  4 / 10\n",
      "Training Loss:  0.8873854875564575\n",
      "Epoch:  5 / 10\n",
      "Training Loss:  0.6402363181114197\n",
      "Epoch:  6 / 10\n",
      "Training Loss:  0.5890380144119263\n",
      "Epoch:  7 / 10\n",
      "Training Loss:  0.44841286540031433\n",
      "Epoch:  8 / 10\n",
      "Training Loss:  0.4370160698890686\n",
      "Epoch:  9 / 10\n",
      "Training Loss:  0.480361670255661\n",
      "Epoch:  10 / 10\n",
      "Training Loss:  0.3889986276626587\n",
      "Printing the predictions of Input words:\n",
      "\n",
      "+--------------+------------+----------+\n",
      "|    Input     | Prediction |  Target  |\n",
      "+--------------+------------+----------+\n",
      "|   thermax    |   थर्माक्स   |  थरमैक्स   |\n",
      "|  sikhaaega   |  सिखाएगा   | सिखाएगा  |\n",
      "|    learn     |   लीअर्न    |   लर्न    |\n",
      "|   twitters   |   ट्विटर्स   |  ट्विटर्स  |\n",
      "| tirunelveli  |  तिरुनेलवेली  | तिरुनेलवेली |\n",
      "| independence |   इंडेपेंडेंस    |  इंडिपेंडेंस  |\n",
      "|  speshiyon   |   स्पेशियों   |  स्पेशियों  |\n",
      "|   shurooh    |    शुरूह     |   शुरूः    |\n",
      "|   kolhapur   |  कोल्हापुर   | कोल्हापुर  |\n",
      "|    ajhar     |    अझर     |   अजहर   |\n",
      "|    karaar    |    करार    |   क़रार   |\n",
      "|     anka     |    अंका     |    अंक    |\n",
      "|     wpd      |   वीपीडी   | डब्ल्यूपीडी |\n",
      "|   haashie    |   हाशीए    |  हाशिए   |\n",
      "|   glendale   |    ग्लेंडले    |   ग्लेंडल   |\n",
      "|    udhed     |    उधेद     |   उधेड़    |\n",
      "+--------------+------------+----------+\n"
     ]
    }
   ],
   "source": [
    "# To run manually Uncomment the 'wandb_sweep = False' in above line\n",
    "if wandb_sweep == False:\n",
    "    ## Giving the argument values for manual training\n",
    "    num_epochs =1\n",
    "    learning_rate = 0.001\n",
    "    load_model = False\n",
    "    input_size_encoder = len(train_data.vocab_eng)\n",
    "    input_size_decoder = len(train_data.vocab_hin)\n",
    "    output_size = len(train_data.vocab_hin)\n",
    "    encoder_embedding_size = 256\n",
    "    decoder_embedding_size = 256\n",
    "    hidden_size = 256\n",
    "    num_layers = 2\n",
    "    enc_dropout = 0.2\n",
    "    dec_dropout = 0.2\n",
    "    load_model = False\n",
    "    cell_type = 'lstm'\n",
    "    bi_directional = True\n",
    "\n",
    "    ## Training the model\n",
    "    train(num_epochs, learning_rate, batch_size, load_model, \n",
    "             input_size_encoder, input_size_decoder, output_size,\n",
    "             encoder_embedding_size, decoder_embedding_size,\n",
    "             hidden_size, num_layers, enc_dropout, dec_dropout)"
   ]
  },
  {
   "cell_type": "markdown",
   "id": "0fcab330",
   "metadata": {},
   "source": [
    "## Train with Wandb"
   ]
  },
  {
   "cell_type": "code",
   "execution_count": 20,
   "id": "16a58a89",
   "metadata": {},
   "outputs": [],
   "source": [
    "project_name = \"Assignment 3\"\n",
    "entity_name = \"am22s020\"\n",
    "import wandb"
   ]
  },
  {
   "cell_type": "code",
   "execution_count": 21,
   "id": "87ef0d97",
   "metadata": {},
   "outputs": [],
   "source": [
    "def train_with_wandb():\n",
    "\n",
    "\n",
    "    config_defaults = {\"cell_type\": \"lstm\",\n",
    "                       \"num_layers\": 4,\n",
    "                       \"hidden_size\": 256,\n",
    "                       \"num_epochs\":10,\n",
    "                       \"bi_dir\":True,\n",
    "                       \"dropout\": 0.2,\n",
    "                       \"embed_size\":256\n",
    "                      } \n",
    "\n",
    "    wandb.init(config=config_defaults, project=project_name, resume=False)\n",
    "    \n",
    "    config = wandb.config \n",
    "    \n",
    "    \n",
    "    learning_rate = 0.001\n",
    "    load_model = False\n",
    "    num_epochs = config.num_epochs\n",
    "    encoder_embedding_size = config.embed_size\n",
    "    decoder_embedding_size = config.embed_size\n",
    "    input_size_encoder = len(train_data.vocab_eng)\n",
    "    input_size_decoder = len(train_data.vocab_hin)\n",
    "    output_size = len(train_data.vocab_hin)\n",
    "    hidden_size = config.hidden_size\n",
    "    num_layers = config.num_layers\n",
    "    enc_dropout = config.dropout\n",
    "    dec_dropout = config.dropout\n",
    "    cell_type = config.cell_type\n",
    "    bi_directional = config.bi_dir\n",
    "    Test = True\n",
    "\n",
    "    wandb.run.name  = \"test_{}_cell_{}_nl_{}_hs_{}_e_{}_bd_{}_dr_{}_ems_{}\".format(Test, cell_type,\n",
    "                                                                          num_layers,\n",
    "                                                                          hidden_size,\n",
    "                                                                          num_epochs,\n",
    "                                                                          bi_directional,\n",
    "                                                                          enc_dropout,\n",
    "                                                                          encoder_embedding_size\n",
    "                                                                          )\n",
    "                                                                              \n",
    "                                                                                  \n",
    "  \n",
    "    print(wandb.run.name )\n",
    "    \n",
    "    encoder_net = Encoder(input_size_encoder, encoder_embedding_size,\n",
    "                         hidden_size, num_layers, enc_dropout, cell_type,\n",
    "                          bi_directional).to(device)\n",
    "\n",
    "    decoder_net = Decoder(input_size_decoder, decoder_embedding_size,\n",
    "                         hidden_size, output_size, num_layers, dec_dropout, \n",
    "                          cell_type ,bi_directional).to(device)\n",
    "\n",
    "    model = Seq2Seq(encoder_net, decoder_net, cell_type).to(device)\n",
    "\n",
    "    optimizer = optim.Adam(model.parameters(), lr=learning_rate)\n",
    "    pad_index = 0\n",
    "    criterion = nn.CrossEntropyLoss(ignore_index=pad_index)\n",
    "\n",
    "    if load_model:\n",
    "        load_checkpoint(torch.load('my_checkpoint.pth.ptar'),model, optimizer)\n",
    "    \n",
    "    print(\"Training the model.....\")\n",
    "    for epoch in range(num_epochs):\n",
    "        print('Epoch: ', epoch+1, '/', num_epochs)\n",
    "\n",
    "        for batch_idx, (inputs, targets) in enumerate(train_loader):\n",
    "\n",
    "            input_word = inputs.to(device)\n",
    "            target_word = targets.to(device)\n",
    "\n",
    "            output = model(input_word, target_word)\n",
    "            # output shape: (target_len, batch_size, output_vocab_size)\n",
    "\n",
    "            output = output[1:].reshape(-1, output.shape[2])\n",
    "            target_word = target_word[1:].reshape(-1)\n",
    "\n",
    "            optimizer.zero_grad()\n",
    "            loss = criterion(output, target_word)\n",
    "\n",
    "            loss.backward()\n",
    "\n",
    "            # To handle large gradients:\n",
    "            torch.nn.utils.clip_grad_norm_(model.parameters(), max_norm=1)\n",
    "            optimizer.step()\n",
    "\n",
    "        print(\"Training Loss: \", loss.item())\n",
    "        \n",
    "        train_loss = loss.item()\n",
    "        if (epoch+1)%2 == 0:\n",
    "            model.eval()\n",
    "            print(\"Finding accuracy of the model.....\")\n",
    "            train_accu =  accuracy(train_data, model, cell_type)\n",
    "            valid_accu =  accuracy(valid_data, model, cell_type)\n",
    "            model.train()\n",
    "\n",
    "            wandb.log({\"valid accuracy\": valid_accu, \"train accuracy\": train_accu,\n",
    "                        \"train loss\": train_loss, 'epoch': epoch+1})\n",
    "        else:\n",
    "            wandb.log({\"train loss\": train_loss, 'epoch': epoch+1}) \n",
    "            \n",
    "    ## For testing the model uncomment the code\n",
    "#     model.eval()        \n",
    "#     test_accur =  accuracy(test_data, model, cell_type) \n",
    "\n",
    "     # Uncomment  prediction_csv only if you want to generate the csv file of predictions\n",
    "#     prediction_csv(test_data, model, cell_type)  \n",
    "#     model.train()                                            \n",
    "    \n",
    "#     wandb.log({\"test accuracy\": test_accur})\n",
    "        \n",
    "    wandb.run.finish()\n",
    "    "
   ]
  },
  {
   "cell_type": "code",
   "execution_count": 18,
   "id": "239a8e42",
   "metadata": {},
   "outputs": [
    {
     "data": {
      "text/html": [
       "Finishing last run (ID:3n0nsjba) before initializing another..."
      ],
      "text/plain": [
       "<IPython.core.display.HTML object>"
      ]
     },
     "metadata": {},
     "output_type": "display_data"
    },
    {
     "data": {
      "text/html": [
       "Waiting for W&B process to finish... <strong style=\"color:green\">(success).</strong>"
      ],
      "text/plain": [
       "<IPython.core.display.HTML object>"
      ]
     },
     "metadata": {},
     "output_type": "display_data"
    },
    {
     "data": {
      "application/vnd.jupyter.widget-view+json": {
       "model_id": "23f74079bcbf4bda93c49d677bb56664",
       "version_major": 2,
       "version_minor": 0
      },
      "text/plain": [
       "VBox(children=(Label(value='0.001 MB of 0.001 MB uploaded (0.000 MB deduped)\\r'), FloatProgress(value=1.0, max…"
      ]
     },
     "metadata": {},
     "output_type": "display_data"
    },
    {
     "data": {
      "text/html": [
       "<style>\n",
       "    table.wandb td:nth-child(1) { padding: 0 10px; text-align: left ; width: auto;} td:nth-child(2) {text-align: left ; width: 100%}\n",
       "    .wandb-row { display: flex; flex-direction: row; flex-wrap: wrap; justify-content: flex-start; width: 100% }\n",
       "    .wandb-col { display: flex; flex-direction: column; flex-basis: 100%; flex: 1; padding: 10px; }\n",
       "    </style>\n",
       "<div class=\"wandb-row\"><div class=\"wandb-col\"><h3>Run history:</h3><br/><table class=\"wandb\"><tr><td>epoch</td><td>▁▂▃▃▄▅▆▆▇█</td></tr><tr><td>train loss</td><td>█▅▆▃▃▄▂▂▂▁</td></tr></table><br/></div><div class=\"wandb-col\"><h3>Run summary:</h3><br/><table class=\"wandb\"><tr><td>epoch</td><td>10</td></tr><tr><td>train loss</td><td>0.25989</td></tr></table><br/></div></div>"
      ],
      "text/plain": [
       "<IPython.core.display.HTML object>"
      ]
     },
     "metadata": {},
     "output_type": "display_data"
    },
    {
     "data": {
      "text/html": [
       " View run <strong style=\"color:#cdcd00\">magic-meadow-10</strong> at: <a href='https://wandb.ai/am22s020/Assignment%203/runs/3n0nsjba' target=\"_blank\">https://wandb.ai/am22s020/Assignment%203/runs/3n0nsjba</a><br/>Synced 6 W&B file(s), 0 media file(s), 0 artifact file(s) and 0 other file(s)"
      ],
      "text/plain": [
       "<IPython.core.display.HTML object>"
      ]
     },
     "metadata": {},
     "output_type": "display_data"
    },
    {
     "data": {
      "text/html": [
       "Find logs at: <code>.\\wandb\\run-20230512_103931-3n0nsjba\\logs</code>"
      ],
      "text/plain": [
       "<IPython.core.display.HTML object>"
      ]
     },
     "metadata": {},
     "output_type": "display_data"
    },
    {
     "data": {
      "text/html": [
       "Successfully finished last run (ID:3n0nsjba). Initializing new run:<br/>"
      ],
      "text/plain": [
       "<IPython.core.display.HTML object>"
      ]
     },
     "metadata": {},
     "output_type": "display_data"
    },
    {
     "data": {
      "application/vnd.jupyter.widget-view+json": {
       "model_id": "69538f28c43a417d91b8a671c460c075",
       "version_major": 2,
       "version_minor": 0
      },
      "text/plain": [
       "VBox(children=(Label(value='Waiting for wandb.init()...\\r'), FloatProgress(value=0.016933333332902596, max=1.0…"
      ]
     },
     "metadata": {},
     "output_type": "display_data"
    },
    {
     "data": {
      "text/html": [
       "wandb version 0.15.2 is available!  To upgrade, please run:\n",
       " $ pip install wandb --upgrade"
      ],
      "text/plain": [
       "<IPython.core.display.HTML object>"
      ]
     },
     "metadata": {},
     "output_type": "display_data"
    },
    {
     "data": {
      "text/html": [
       "Tracking run with wandb version 0.13.11"
      ],
      "text/plain": [
       "<IPython.core.display.HTML object>"
      ]
     },
     "metadata": {},
     "output_type": "display_data"
    },
    {
     "data": {
      "text/html": [
       "Run data is saved locally in <code>C:\\Users\\HICLIPS-ASK\\wandb\\run-20230512_105359-m0rybk0t</code>"
      ],
      "text/plain": [
       "<IPython.core.display.HTML object>"
      ]
     },
     "metadata": {},
     "output_type": "display_data"
    },
    {
     "data": {
      "text/html": [
       "Syncing run <strong><a href='https://wandb.ai/am22s020/Assignment%203/runs/m0rybk0t' target=\"_blank\">kind-sea-11</a></strong> to <a href='https://wandb.ai/am22s020/Assignment%203' target=\"_blank\">Weights & Biases</a> (<a href='https://wandb.me/run' target=\"_blank\">docs</a>)<br/>"
      ],
      "text/plain": [
       "<IPython.core.display.HTML object>"
      ]
     },
     "metadata": {},
     "output_type": "display_data"
    },
    {
     "data": {
      "text/html": [
       " View project at <a href='https://wandb.ai/am22s020/Assignment%203' target=\"_blank\">https://wandb.ai/am22s020/Assignment%203</a>"
      ],
      "text/plain": [
       "<IPython.core.display.HTML object>"
      ]
     },
     "metadata": {},
     "output_type": "display_data"
    },
    {
     "data": {
      "text/html": [
       " View run at <a href='https://wandb.ai/am22s020/Assignment%203/runs/m0rybk0t' target=\"_blank\">https://wandb.ai/am22s020/Assignment%203/runs/m0rybk0t</a>"
      ],
      "text/plain": [
       "<IPython.core.display.HTML object>"
      ]
     },
     "metadata": {},
     "output_type": "display_data"
    },
    {
     "name": "stdout",
     "output_type": "stream",
     "text": [
      "test_True_cell_lstm_nl_4_hs_256_e_10_bd_True_dr_0.2_ems_256\n",
      "Epoch:  1 / 10\n",
      "Training Loss:  0.8337882161140442\n",
      "Epoch:  2 / 10\n",
      "Training Loss:  0.8129757642745972\n",
      "Epoch:  3 / 10\n",
      "Training Loss:  0.6103125810623169\n",
      "Epoch:  4 / 10\n",
      "Training Loss:  0.4861854910850525\n",
      "Epoch:  5 / 10\n",
      "Training Loss:  0.5185434222221375\n",
      "Epoch:  6 / 10\n",
      "Training Loss:  0.4606669247150421\n",
      "Epoch:  7 / 10\n",
      "Training Loss:  0.4174833297729492\n",
      "Epoch:  8 / 10\n",
      "Training Loss:  0.544682502746582\n",
      "Epoch:  9 / 10\n",
      "Training Loss:  0.36857840418815613\n",
      "Epoch:  10 / 10\n",
      "Training Loss:  0.27932241559028625\n"
     ]
    },
    {
     "data": {
      "text/html": [
       "Waiting for W&B process to finish... <strong style=\"color:green\">(success).</strong>"
      ],
      "text/plain": [
       "<IPython.core.display.HTML object>"
      ]
     },
     "metadata": {},
     "output_type": "display_data"
    },
    {
     "data": {
      "application/vnd.jupyter.widget-view+json": {
       "model_id": "c798a3cbe8234ce8b3189b33b94567e6",
       "version_major": 2,
       "version_minor": 0
      },
      "text/plain": [
       "VBox(children=(Label(value='0.001 MB of 0.001 MB uploaded (0.000 MB deduped)\\r'), FloatProgress(value=1.0, max…"
      ]
     },
     "metadata": {},
     "output_type": "display_data"
    },
    {
     "data": {
      "text/html": [
       "<style>\n",
       "    table.wandb td:nth-child(1) { padding: 0 10px; text-align: left ; width: auto;} td:nth-child(2) {text-align: left ; width: 100%}\n",
       "    .wandb-row { display: flex; flex-direction: row; flex-wrap: wrap; justify-content: flex-start; width: 100% }\n",
       "    .wandb-col { display: flex; flex-direction: column; flex-basis: 100%; flex: 1; padding: 10px; }\n",
       "    </style>\n",
       "<div class=\"wandb-row\"><div class=\"wandb-col\"><h3>Run history:</h3><br/><table class=\"wandb\"><tr><td>epoch</td><td>▁▂▃▃▄▅▆▆▇█</td></tr><tr><td>test accuracy</td><td>▁</td></tr><tr><td>train loss</td><td>██▅▄▄▃▃▄▂▁</td></tr></table><br/></div><div class=\"wandb-col\"><h3>Run summary:</h3><br/><table class=\"wandb\"><tr><td>epoch</td><td>10</td></tr><tr><td>test accuracy</td><td>39.0625</td></tr><tr><td>train loss</td><td>0.27932</td></tr></table><br/></div></div>"
      ],
      "text/plain": [
       "<IPython.core.display.HTML object>"
      ]
     },
     "metadata": {},
     "output_type": "display_data"
    },
    {
     "data": {
      "text/html": [
       " View run <strong style=\"color:#cdcd00\">kind-sea-11</strong> at: <a href='https://wandb.ai/am22s020/Assignment%203/runs/m0rybk0t' target=\"_blank\">https://wandb.ai/am22s020/Assignment%203/runs/m0rybk0t</a><br/>Synced 6 W&B file(s), 0 media file(s), 0 artifact file(s) and 0 other file(s)"
      ],
      "text/plain": [
       "<IPython.core.display.HTML object>"
      ]
     },
     "metadata": {},
     "output_type": "display_data"
    },
    {
     "data": {
      "text/html": [
       "Find logs at: <code>.\\wandb\\run-20230512_105359-m0rybk0t\\logs</code>"
      ],
      "text/plain": [
       "<IPython.core.display.HTML object>"
      ]
     },
     "metadata": {},
     "output_type": "display_data"
    }
   ],
   "source": [
    "#train_with_wandb()"
   ]
  },
  {
   "cell_type": "code",
   "execution_count": 22,
   "id": "3df0fbdc",
   "metadata": {},
   "outputs": [],
   "source": [
    "hyperparameters = {\n",
    "\n",
    "        \"num_layers\": {\n",
    "            \"values\": [2, 3, 4]\n",
    "        },\n",
    "        \"hidden_size\": {\n",
    "            \"values\": [64, 128, 256]\n",
    "        },\n",
    "        \"cell_type\": {\n",
    "            \"values\": [\"rnn\", \"gru\", \"lstm\"]\n",
    "        },\n",
    "        \"num_epochs\":{\n",
    "            \"values\": [10, 15, 20]\n",
    "        },\n",
    "        \"bi_dir\":{\n",
    "            \"values\": [False, True]\n",
    "        },\n",
    "        \"dropout\": {\n",
    "            \"values\": [0.2, 0.3, 0.5]\n",
    "        },\n",
    "        \"embed_size\":{\n",
    "            \"values\": [64, 128, 256]\n",
    "        },\n",
    "  }\n"
   ]
  },
  {
   "cell_type": "code",
   "execution_count": 23,
   "id": "7457d1c0",
   "metadata": {},
   "outputs": [],
   "source": [
    "def wandb_sweep(project_name, entity_name):\n",
    "    '''\n",
    "    This function is used to run the wandb sweeps. \n",
    "    It takes in project name and entity name as input , and does not return any value.\n",
    "\n",
    "    '''\n",
    "    sweep_config={\n",
    "\n",
    "      \"method\": \"bayes\",\n",
    "      \"metric\": {\n",
    "          \"name\": \"valid_accu\", \n",
    "          \"goal\": \"maximize\"\n",
    "          },\n",
    "      \"parameters\":hyperparameters\n",
    "    }\n",
    "\n",
    "    sweep_id=wandb.sweep(sweep_config, project=project_name, entity=entity_name)\n",
    "    wandb.agent(sweep_id,train_with_wandb)"
   ]
  },
  {
   "cell_type": "code",
   "execution_count": 23,
   "id": "86302291",
   "metadata": {
    "scrolled": true
   },
   "outputs": [
    {
     "name": "stdout",
     "output_type": "stream",
     "text": [
      "Create sweep with ID: a7mxe1u0\n",
      "Sweep URL: https://wandb.ai/am22s020/Assignment%203/sweeps/a7mxe1u0\n"
     ]
    },
    {
     "name": "stderr",
     "output_type": "stream",
     "text": [
      "\u001b[34m\u001b[1mwandb\u001b[0m: Agent Starting Run: mdrvba44 with config:\n",
      "\u001b[34m\u001b[1mwandb\u001b[0m: \tbi_dir: False\n",
      "\u001b[34m\u001b[1mwandb\u001b[0m: \tcell_type: rnn\n",
      "\u001b[34m\u001b[1mwandb\u001b[0m: \tdropout: 0.3\n",
      "\u001b[34m\u001b[1mwandb\u001b[0m: \tembed_size: 64\n",
      "\u001b[34m\u001b[1mwandb\u001b[0m: \thidden_size: 256\n",
      "\u001b[34m\u001b[1mwandb\u001b[0m: \tnum_epochs: 20\n",
      "\u001b[34m\u001b[1mwandb\u001b[0m: \tnum_layers: 3\n",
      "\u001b[34m\u001b[1mwandb\u001b[0m: Currently logged in as: \u001b[33mam22s020\u001b[0m. Use \u001b[1m`wandb login --relogin`\u001b[0m to force relogin\n",
      "\u001b[34m\u001b[1mwandb\u001b[0m: \u001b[33mWARNING\u001b[0m Ignored wandb.init() arg project when running a sweep.\n",
      "\u001b[34m\u001b[1mwandb\u001b[0m: \u001b[33mWARNING\u001b[0m Tried to auto resume run with id 4mrocykc but id mdrvba44 is set.\n"
     ]
    },
    {
     "data": {
      "text/html": [
       "wandb version 0.15.2 is available!  To upgrade, please run:\n",
       " $ pip install wandb --upgrade"
      ],
      "text/plain": [
       "<IPython.core.display.HTML object>"
      ]
     },
     "metadata": {},
     "output_type": "display_data"
    },
    {
     "data": {
      "text/html": [
       "Tracking run with wandb version 0.13.11"
      ],
      "text/plain": [
       "<IPython.core.display.HTML object>"
      ]
     },
     "metadata": {},
     "output_type": "display_data"
    },
    {
     "data": {
      "text/html": [
       "Run data is saved locally in <code>C:\\Users\\HICLIPS-ASK\\wandb\\run-20230507_175730-mdrvba44</code>"
      ],
      "text/plain": [
       "<IPython.core.display.HTML object>"
      ]
     },
     "metadata": {},
     "output_type": "display_data"
    },
    {
     "data": {
      "text/html": [
       "Resuming run <strong><a href='https://wandb.ai/am22s020/Assignment%203/runs/mdrvba44' target=\"_blank\">splendid-sweep-1</a></strong> to <a href='https://wandb.ai/am22s020/Assignment%203' target=\"_blank\">Weights & Biases</a> (<a href='https://wandb.me/run' target=\"_blank\">docs</a>)<br/>Sweep page: <a href='https://wandb.ai/am22s020/Assignment%203/sweeps/a7mxe1u0' target=\"_blank\">https://wandb.ai/am22s020/Assignment%203/sweeps/a7mxe1u0</a>"
      ],
      "text/plain": [
       "<IPython.core.display.HTML object>"
      ]
     },
     "metadata": {},
     "output_type": "display_data"
    },
    {
     "data": {
      "text/html": [
       " View project at <a href='https://wandb.ai/am22s020/Assignment%203' target=\"_blank\">https://wandb.ai/am22s020/Assignment%203</a>"
      ],
      "text/plain": [
       "<IPython.core.display.HTML object>"
      ]
     },
     "metadata": {},
     "output_type": "display_data"
    },
    {
     "data": {
      "text/html": [
       " View sweep at <a href='https://wandb.ai/am22s020/Assignment%203/sweeps/a7mxe1u0' target=\"_blank\">https://wandb.ai/am22s020/Assignment%203/sweeps/a7mxe1u0</a>"
      ],
      "text/plain": [
       "<IPython.core.display.HTML object>"
      ]
     },
     "metadata": {},
     "output_type": "display_data"
    },
    {
     "data": {
      "text/html": [
       " View run at <a href='https://wandb.ai/am22s020/Assignment%203/runs/mdrvba44' target=\"_blank\">https://wandb.ai/am22s020/Assignment%203/runs/mdrvba44</a>"
      ],
      "text/plain": [
       "<IPython.core.display.HTML object>"
      ]
     },
     "metadata": {},
     "output_type": "display_data"
    },
    {
     "name": "stdout",
     "output_type": "stream",
     "text": [
      "cell_rnn_nl_3_hs_256_e_20_bd_False_dr_0.3_ems_64\n",
      "Epoch:  1 / 20\n",
      "Training Loss:  3.0478715896606445\n",
      "Epoch:  2 / 20\n",
      "Training Loss:  2.8362088203430176\n",
      "Epoch:  3 / 20\n",
      "Training Loss:  3.0664327144622803\n",
      "Epoch:  4 / 20\n",
      "Training Loss:  2.8907670974731445\n",
      "Epoch:  5 / 20\n",
      "Training Loss:  2.9632322788238525\n",
      "Epoch:  6 / 20\n",
      "Training Loss:  2.850958824157715\n",
      "Epoch:  7 / 20\n",
      "Training Loss:  2.7554028034210205\n",
      "Epoch:  8 / 20\n",
      "Training Loss:  2.886122703552246\n",
      "Epoch:  9 / 20\n",
      "Training Loss:  2.846931219100952\n",
      "Epoch:  10 / 20\n",
      "Training Loss:  2.8242266178131104\n",
      "Epoch:  11 / 20\n",
      "Training Loss:  2.814845323562622\n",
      "Epoch:  12 / 20\n",
      "Training Loss:  2.8845555782318115\n",
      "Epoch:  13 / 20\n",
      "Training Loss:  2.862987518310547\n"
     ]
    },
    {
     "data": {
      "text/html": [
       "Waiting for W&B process to finish... <strong style=\"color:red\">(failed 1).</strong> Press Ctrl-C to abort syncing."
      ],
      "text/plain": [
       "<IPython.core.display.HTML object>"
      ]
     },
     "metadata": {},
     "output_type": "display_data"
    },
    {
     "data": {
      "application/vnd.jupyter.widget-view+json": {
       "model_id": "ec458240824d472a8874a4cd39151a78",
       "version_major": 2,
       "version_minor": 0
      },
      "text/plain": [
       "VBox(children=(Label(value='0.000 MB of 0.001 MB uploaded (0.000 MB deduped)\\r'), FloatProgress(value=0.0, max…"
      ]
     },
     "metadata": {},
     "output_type": "display_data"
    },
    {
     "data": {
      "text/html": [
       "<style>\n",
       "    table.wandb td:nth-child(1) { padding: 0 10px; text-align: left ; width: auto;} td:nth-child(2) {text-align: left ; width: 100%}\n",
       "    .wandb-row { display: flex; flex-direction: row; flex-wrap: wrap; justify-content: flex-start; width: 100% }\n",
       "    .wandb-col { display: flex; flex-direction: column; flex-basis: 100%; flex: 1; padding: 10px; }\n",
       "    </style>\n",
       "<div class=\"wandb-row\"><div class=\"wandb-col\"><h3>Run history:</h3><br/><table class=\"wandb\"><tr><td>epoch</td><td>▁▂▂▃▄▄▅▅▆▇▇█</td></tr><tr><td>train accuracy</td><td>▁▁▁▁▁▁▁▁▁▁▁▁</td></tr><tr><td>train loss</td><td>█▃█▄▆▃▁▄▃▃▂▄</td></tr><tr><td>valid accuracy</td><td>▁▁▁▁▁▁▁▁▁▁▁▁</td></tr></table><br/></div><div class=\"wandb-col\"><h3>Run summary:</h3><br/><table class=\"wandb\"><tr><td>epoch</td><td>12</td></tr><tr><td>train accuracy</td><td>0.0</td></tr><tr><td>train loss</td><td>2.88456</td></tr><tr><td>valid accuracy</td><td>0.0</td></tr></table><br/></div></div>"
      ],
      "text/plain": [
       "<IPython.core.display.HTML object>"
      ]
     },
     "metadata": {},
     "output_type": "display_data"
    },
    {
     "data": {
      "text/html": [
       " View run <strong style=\"color:#cdcd00\">splendid-sweep-1</strong> at: <a href='https://wandb.ai/am22s020/Assignment%203/runs/mdrvba44' target=\"_blank\">https://wandb.ai/am22s020/Assignment%203/runs/mdrvba44</a><br/>Synced 3 W&B file(s), 0 media file(s), 0 artifact file(s) and 0 other file(s)"
      ],
      "text/plain": [
       "<IPython.core.display.HTML object>"
      ]
     },
     "metadata": {},
     "output_type": "display_data"
    },
    {
     "data": {
      "text/html": [
       "Find logs at: <code>.\\wandb\\run-20230507_175730-mdrvba44\\logs</code>"
      ],
      "text/plain": [
       "<IPython.core.display.HTML object>"
      ]
     },
     "metadata": {},
     "output_type": "display_data"
    },
    {
     "name": "stderr",
     "output_type": "stream",
     "text": [
      "\u001b[34m\u001b[1mwandb\u001b[0m: Agent Starting Run: 0hassjm2 with config:\n",
      "\u001b[34m\u001b[1mwandb\u001b[0m: \tbi_dir: True\n",
      "\u001b[34m\u001b[1mwandb\u001b[0m: \tcell_type: lstm\n",
      "\u001b[34m\u001b[1mwandb\u001b[0m: \tdropout: 0.2\n",
      "\u001b[34m\u001b[1mwandb\u001b[0m: \tembed_size: 256\n",
      "\u001b[34m\u001b[1mwandb\u001b[0m: \thidden_size: 128\n",
      "\u001b[34m\u001b[1mwandb\u001b[0m: \tnum_epochs: 10\n",
      "\u001b[34m\u001b[1mwandb\u001b[0m: \tnum_layers: 4\n",
      "\u001b[34m\u001b[1mwandb\u001b[0m: \u001b[33mWARNING\u001b[0m Ignored wandb.init() arg project when running a sweep.\n",
      "\u001b[34m\u001b[1mwandb\u001b[0m: \u001b[33mWARNING\u001b[0m Tried to auto resume run with id mdrvba44 but id 0hassjm2 is set.\n"
     ]
    },
    {
     "data": {
      "application/vnd.jupyter.widget-view+json": {
       "model_id": "63d07372de2d4df1b6ed93efcbbc9919",
       "version_major": 2,
       "version_minor": 0
      },
      "text/plain": [
       "VBox(children=(Label(value='Waiting for wandb.init()...\\r'), FloatProgress(value=0.016666666666666666, max=1.0…"
      ]
     },
     "metadata": {},
     "output_type": "display_data"
    },
    {
     "data": {
      "text/html": [
       "wandb version 0.15.2 is available!  To upgrade, please run:\n",
       " $ pip install wandb --upgrade"
      ],
      "text/plain": [
       "<IPython.core.display.HTML object>"
      ]
     },
     "metadata": {},
     "output_type": "display_data"
    },
    {
     "data": {
      "text/html": [
       "Tracking run with wandb version 0.13.11"
      ],
      "text/plain": [
       "<IPython.core.display.HTML object>"
      ]
     },
     "metadata": {},
     "output_type": "display_data"
    },
    {
     "data": {
      "text/html": [
       "Run data is saved locally in <code>C:\\Users\\HICLIPS-ASK\\wandb\\run-20230507_190218-0hassjm2</code>"
      ],
      "text/plain": [
       "<IPython.core.display.HTML object>"
      ]
     },
     "metadata": {},
     "output_type": "display_data"
    },
    {
     "data": {
      "text/html": [
       "Resuming run <strong><a href='https://wandb.ai/am22s020/Assignment%203/runs/0hassjm2' target=\"_blank\">valiant-sweep-2</a></strong> to <a href='https://wandb.ai/am22s020/Assignment%203' target=\"_blank\">Weights & Biases</a> (<a href='https://wandb.me/run' target=\"_blank\">docs</a>)<br/>Sweep page: <a href='https://wandb.ai/am22s020/Assignment%203/sweeps/a7mxe1u0' target=\"_blank\">https://wandb.ai/am22s020/Assignment%203/sweeps/a7mxe1u0</a>"
      ],
      "text/plain": [
       "<IPython.core.display.HTML object>"
      ]
     },
     "metadata": {},
     "output_type": "display_data"
    },
    {
     "data": {
      "text/html": [
       " View project at <a href='https://wandb.ai/am22s020/Assignment%203' target=\"_blank\">https://wandb.ai/am22s020/Assignment%203</a>"
      ],
      "text/plain": [
       "<IPython.core.display.HTML object>"
      ]
     },
     "metadata": {},
     "output_type": "display_data"
    },
    {
     "data": {
      "text/html": [
       " View sweep at <a href='https://wandb.ai/am22s020/Assignment%203/sweeps/a7mxe1u0' target=\"_blank\">https://wandb.ai/am22s020/Assignment%203/sweeps/a7mxe1u0</a>"
      ],
      "text/plain": [
       "<IPython.core.display.HTML object>"
      ]
     },
     "metadata": {},
     "output_type": "display_data"
    },
    {
     "data": {
      "text/html": [
       " View run at <a href='https://wandb.ai/am22s020/Assignment%203/runs/0hassjm2' target=\"_blank\">https://wandb.ai/am22s020/Assignment%203/runs/0hassjm2</a>"
      ],
      "text/plain": [
       "<IPython.core.display.HTML object>"
      ]
     },
     "metadata": {},
     "output_type": "display_data"
    },
    {
     "name": "stdout",
     "output_type": "stream",
     "text": [
      "cell_lstm_nl_4_hs_128_e_10_bd_True_dr_0.2_ems_256\n",
      "Epoch:  1 / 10\n",
      "Training Loss:  1.2406724691390991\n",
      "Epoch:  2 / 10\n",
      "Training Loss:  1.0732945203781128\n",
      "Epoch:  3 / 10\n",
      "Training Loss:  0.6862814426422119\n",
      "Epoch:  4 / 10\n",
      "Training Loss:  0.6769680380821228\n",
      "Epoch:  5 / 10\n",
      "Training Loss:  0.850723385810852\n",
      "Epoch:  6 / 10\n",
      "Training Loss:  0.8917537927627563\n",
      "Epoch:  7 / 10\n",
      "Training Loss:  0.6394501328468323\n",
      "Epoch:  8 / 10\n",
      "Training Loss:  0.661053478717804\n",
      "Epoch:  9 / 10\n",
      "Training Loss:  0.43119263648986816\n",
      "Epoch:  10 / 10\n",
      "Training Loss:  0.7015020847320557\n"
     ]
    },
    {
     "data": {
      "text/html": [
       "Waiting for W&B process to finish... <strong style=\"color:green\">(success).</strong>"
      ],
      "text/plain": [
       "<IPython.core.display.HTML object>"
      ]
     },
     "metadata": {},
     "output_type": "display_data"
    },
    {
     "data": {
      "text/html": [
       "<style>\n",
       "    table.wandb td:nth-child(1) { padding: 0 10px; text-align: left ; width: auto;} td:nth-child(2) {text-align: left ; width: 100%}\n",
       "    .wandb-row { display: flex; flex-direction: row; flex-wrap: wrap; justify-content: flex-start; width: 100% }\n",
       "    .wandb-col { display: flex; flex-direction: column; flex-basis: 100%; flex: 1; padding: 10px; }\n",
       "    </style>\n",
       "<div class=\"wandb-row\"><div class=\"wandb-col\"><h3>Run history:</h3><br/><table class=\"wandb\"><tr><td>epoch</td><td>▁▂▃▃▄▅▆▆▇█</td></tr><tr><td>train accuracy</td><td>▁▃▄▅▆▆▇▇██</td></tr><tr><td>train loss</td><td>█▇▃▃▅▅▃▃▁▃</td></tr><tr><td>valid accuracy</td><td>▁▄▆▆▇▇████</td></tr></table><br/></div><div class=\"wandb-col\"><h3>Run summary:</h3><br/><table class=\"wandb\"><tr><td>epoch</td><td>10</td></tr><tr><td>train accuracy</td><td>45.51367</td></tr><tr><td>train loss</td><td>0.7015</td></tr><tr><td>valid accuracy</td><td>37.03613</td></tr></table><br/></div></div>"
      ],
      "text/plain": [
       "<IPython.core.display.HTML object>"
      ]
     },
     "metadata": {},
     "output_type": "display_data"
    },
    {
     "data": {
      "text/html": [
       " View run <strong style=\"color:#cdcd00\">valiant-sweep-2</strong> at: <a href='https://wandb.ai/am22s020/Assignment%203/runs/0hassjm2' target=\"_blank\">https://wandb.ai/am22s020/Assignment%203/runs/0hassjm2</a><br/>Synced 3 W&B file(s), 0 media file(s), 0 artifact file(s) and 0 other file(s)"
      ],
      "text/plain": [
       "<IPython.core.display.HTML object>"
      ]
     },
     "metadata": {},
     "output_type": "display_data"
    },
    {
     "data": {
      "text/html": [
       "Find logs at: <code>.\\wandb\\run-20230507_190218-0hassjm2\\logs</code>"
      ],
      "text/plain": [
       "<IPython.core.display.HTML object>"
      ]
     },
     "metadata": {},
     "output_type": "display_data"
    },
    {
     "name": "stderr",
     "output_type": "stream",
     "text": [
      "\u001b[34m\u001b[1mwandb\u001b[0m: Sweep Agent: Waiting for job.\n",
      "\u001b[34m\u001b[1mwandb\u001b[0m: Job received.\n",
      "\u001b[34m\u001b[1mwandb\u001b[0m: Agent Starting Run: 9snw6td4 with config:\n",
      "\u001b[34m\u001b[1mwandb\u001b[0m: \tbi_dir: False\n",
      "\u001b[34m\u001b[1mwandb\u001b[0m: \tcell_type: lstm\n",
      "\u001b[34m\u001b[1mwandb\u001b[0m: \tdropout: 0.2\n",
      "\u001b[34m\u001b[1mwandb\u001b[0m: \tembed_size: 256\n",
      "\u001b[34m\u001b[1mwandb\u001b[0m: \thidden_size: 64\n",
      "\u001b[34m\u001b[1mwandb\u001b[0m: \tnum_epochs: 20\n",
      "\u001b[34m\u001b[1mwandb\u001b[0m: \tnum_layers: 2\n",
      "\u001b[34m\u001b[1mwandb\u001b[0m: \u001b[33mWARNING\u001b[0m Ignored wandb.init() arg project when running a sweep.\n"
     ]
    },
    {
     "data": {
      "application/vnd.jupyter.widget-view+json": {
       "model_id": "fa6ee845a28b485bb96ef8b88e8bb57e",
       "version_major": 2,
       "version_minor": 0
      },
      "text/plain": [
       "VBox(children=(Label(value='Waiting for wandb.init()...\\r'), FloatProgress(value=0.016933333333327028, max=1.0…"
      ]
     },
     "metadata": {},
     "output_type": "display_data"
    },
    {
     "data": {
      "text/html": [
       "wandb version 0.15.2 is available!  To upgrade, please run:\n",
       " $ pip install wandb --upgrade"
      ],
      "text/plain": [
       "<IPython.core.display.HTML object>"
      ]
     },
     "metadata": {},
     "output_type": "display_data"
    },
    {
     "data": {
      "text/html": [
       "Tracking run with wandb version 0.13.11"
      ],
      "text/plain": [
       "<IPython.core.display.HTML object>"
      ]
     },
     "metadata": {},
     "output_type": "display_data"
    },
    {
     "data": {
      "text/html": [
       "Run data is saved locally in <code>C:\\Users\\HICLIPS-ASK\\wandb\\run-20230507_201018-9snw6td4</code>"
      ],
      "text/plain": [
       "<IPython.core.display.HTML object>"
      ]
     },
     "metadata": {},
     "output_type": "display_data"
    },
    {
     "data": {
      "text/html": [
       "Resuming run <strong><a href='https://wandb.ai/am22s020/Assignment%203/runs/9snw6td4' target=\"_blank\">decent-sweep-3</a></strong> to <a href='https://wandb.ai/am22s020/Assignment%203' target=\"_blank\">Weights & Biases</a> (<a href='https://wandb.me/run' target=\"_blank\">docs</a>)<br/>Sweep page: <a href='https://wandb.ai/am22s020/Assignment%203/sweeps/a7mxe1u0' target=\"_blank\">https://wandb.ai/am22s020/Assignment%203/sweeps/a7mxe1u0</a>"
      ],
      "text/plain": [
       "<IPython.core.display.HTML object>"
      ]
     },
     "metadata": {},
     "output_type": "display_data"
    },
    {
     "data": {
      "text/html": [
       " View project at <a href='https://wandb.ai/am22s020/Assignment%203' target=\"_blank\">https://wandb.ai/am22s020/Assignment%203</a>"
      ],
      "text/plain": [
       "<IPython.core.display.HTML object>"
      ]
     },
     "metadata": {},
     "output_type": "display_data"
    },
    {
     "data": {
      "text/html": [
       " View sweep at <a href='https://wandb.ai/am22s020/Assignment%203/sweeps/a7mxe1u0' target=\"_blank\">https://wandb.ai/am22s020/Assignment%203/sweeps/a7mxe1u0</a>"
      ],
      "text/plain": [
       "<IPython.core.display.HTML object>"
      ]
     },
     "metadata": {},
     "output_type": "display_data"
    },
    {
     "data": {
      "text/html": [
       " View run at <a href='https://wandb.ai/am22s020/Assignment%203/runs/9snw6td4' target=\"_blank\">https://wandb.ai/am22s020/Assignment%203/runs/9snw6td4</a>"
      ],
      "text/plain": [
       "<IPython.core.display.HTML object>"
      ]
     },
     "metadata": {},
     "output_type": "display_data"
    },
    {
     "name": "stdout",
     "output_type": "stream",
     "text": [
      "cell_lstm_nl_2_hs_64_e_20_bd_False_dr_0.2_ems_256\n",
      "Epoch:  1 / 20\n",
      "Training Loss:  2.7114460468292236\n",
      "Epoch:  2 / 20\n",
      "Training Loss:  2.1377992630004883\n",
      "Epoch:  3 / 20\n",
      "Training Loss:  1.8603490591049194\n",
      "Epoch:  4 / 20\n",
      "Training Loss:  1.4554076194763184\n",
      "Epoch:  5 / 20\n",
      "Training Loss:  1.395287036895752\n",
      "Epoch:  6 / 20\n",
      "Training Loss:  1.238165259361267\n",
      "Epoch:  7 / 20\n",
      "Training Loss:  1.4008246660232544\n",
      "Epoch:  8 / 20\n",
      "Training Loss:  1.1270248889923096\n",
      "Epoch:  9 / 20\n",
      "Training Loss:  1.2872295379638672\n",
      "Epoch:  10 / 20\n",
      "Training Loss:  1.10170578956604\n",
      "Epoch:  11 / 20\n",
      "Training Loss:  0.980254590511322\n",
      "Epoch:  12 / 20\n",
      "Training Loss:  0.9743590354919434\n",
      "Epoch:  13 / 20\n",
      "Training Loss:  1.0085052251815796\n",
      "Epoch:  14 / 20\n",
      "Training Loss:  0.9857277870178223\n",
      "Epoch:  15 / 20\n",
      "Training Loss:  1.0388023853302002\n",
      "Epoch:  16 / 20\n",
      "Training Loss:  0.9821643829345703\n",
      "Epoch:  17 / 20\n",
      "Training Loss:  1.085750937461853\n",
      "Epoch:  18 / 20\n",
      "Training Loss:  0.83897465467453\n",
      "Epoch:  19 / 20\n",
      "Training Loss:  0.8325780034065247\n",
      "Epoch:  20 / 20\n",
      "Training Loss:  1.2511485815048218\n"
     ]
    },
    {
     "data": {
      "text/html": [
       "Waiting for W&B process to finish... <strong style=\"color:green\">(success).</strong>"
      ],
      "text/plain": [
       "<IPython.core.display.HTML object>"
      ]
     },
     "metadata": {},
     "output_type": "display_data"
    },
    {
     "data": {
      "application/vnd.jupyter.widget-view+json": {
       "model_id": "8742162a6c554ae29a6e347dab721f84",
       "version_major": 2,
       "version_minor": 0
      },
      "text/plain": [
       "VBox(children=(Label(value='0.000 MB of 0.002 MB uploaded (0.000 MB deduped)\\r'), FloatProgress(value=0.0, max…"
      ]
     },
     "metadata": {},
     "output_type": "display_data"
    },
    {
     "data": {
      "text/html": [
       "<style>\n",
       "    table.wandb td:nth-child(1) { padding: 0 10px; text-align: left ; width: auto;} td:nth-child(2) {text-align: left ; width: 100%}\n",
       "    .wandb-row { display: flex; flex-direction: row; flex-wrap: wrap; justify-content: flex-start; width: 100% }\n",
       "    .wandb-col { display: flex; flex-direction: column; flex-basis: 100%; flex: 1; padding: 10px; }\n",
       "    </style>\n",
       "<div class=\"wandb-row\"><div class=\"wandb-col\"><h3>Run history:</h3><br/><table class=\"wandb\"><tr><td>epoch</td><td>▁▁▂▂▂▃▃▄▄▄▅▅▅▆▆▇▇▇██</td></tr><tr><td>train accuracy</td><td>▁▁▂▂▃▄▄▅▆▆▆▆▇▇▇▇▇▇██</td></tr><tr><td>train loss</td><td>█▆▅▃▃▃▃▂▃▂▂▂▂▂▂▂▂▁▁▃</td></tr><tr><td>valid accuracy</td><td>▁▁▂▃▄▅▅▆▇▇▇▇▇██▇▇███</td></tr></table><br/></div><div class=\"wandb-col\"><h3>Run summary:</h3><br/><table class=\"wandb\"><tr><td>epoch</td><td>20</td></tr><tr><td>train accuracy</td><td>11.75195</td></tr><tr><td>train loss</td><td>1.25115</td></tr><tr><td>valid accuracy</td><td>13.94043</td></tr></table><br/></div></div>"
      ],
      "text/plain": [
       "<IPython.core.display.HTML object>"
      ]
     },
     "metadata": {},
     "output_type": "display_data"
    },
    {
     "data": {
      "text/html": [
       " View run <strong style=\"color:#cdcd00\">decent-sweep-3</strong> at: <a href='https://wandb.ai/am22s020/Assignment%203/runs/9snw6td4' target=\"_blank\">https://wandb.ai/am22s020/Assignment%203/runs/9snw6td4</a><br/>Synced 3 W&B file(s), 0 media file(s), 0 artifact file(s) and 0 other file(s)"
      ],
      "text/plain": [
       "<IPython.core.display.HTML object>"
      ]
     },
     "metadata": {},
     "output_type": "display_data"
    },
    {
     "data": {
      "text/html": [
       "Find logs at: <code>.\\wandb\\run-20230507_201018-9snw6td4\\logs</code>"
      ],
      "text/plain": [
       "<IPython.core.display.HTML object>"
      ]
     },
     "metadata": {},
     "output_type": "display_data"
    },
    {
     "name": "stderr",
     "output_type": "stream",
     "text": [
      "\u001b[34m\u001b[1mwandb\u001b[0m: Agent Starting Run: lf0f5ayl with config:\n",
      "\u001b[34m\u001b[1mwandb\u001b[0m: \tbi_dir: True\n",
      "\u001b[34m\u001b[1mwandb\u001b[0m: \tcell_type: gru\n",
      "\u001b[34m\u001b[1mwandb\u001b[0m: \tdropout: 0.2\n",
      "\u001b[34m\u001b[1mwandb\u001b[0m: \tembed_size: 128\n",
      "\u001b[34m\u001b[1mwandb\u001b[0m: \thidden_size: 256\n",
      "\u001b[34m\u001b[1mwandb\u001b[0m: \tnum_epochs: 20\n",
      "\u001b[34m\u001b[1mwandb\u001b[0m: \tnum_layers: 3\n",
      "\u001b[34m\u001b[1mwandb\u001b[0m: \u001b[33mWARNING\u001b[0m Ignored wandb.init() arg project when running a sweep.\n"
     ]
    },
    {
     "data": {
      "application/vnd.jupyter.widget-view+json": {
       "model_id": "bdb001dd818f42a8841519cd70ae0047",
       "version_major": 2,
       "version_minor": 0
      },
      "text/plain": [
       "VBox(children=(Label(value='Waiting for wandb.init()...\\r'), FloatProgress(value=0.016666666666666666, max=1.0…"
      ]
     },
     "metadata": {},
     "output_type": "display_data"
    },
    {
     "data": {
      "text/html": [
       "wandb version 0.15.2 is available!  To upgrade, please run:\n",
       " $ pip install wandb --upgrade"
      ],
      "text/plain": [
       "<IPython.core.display.HTML object>"
      ]
     },
     "metadata": {},
     "output_type": "display_data"
    },
    {
     "data": {
      "text/html": [
       "Tracking run with wandb version 0.13.11"
      ],
      "text/plain": [
       "<IPython.core.display.HTML object>"
      ]
     },
     "metadata": {},
     "output_type": "display_data"
    },
    {
     "data": {
      "text/html": [
       "Run data is saved locally in <code>C:\\Users\\HICLIPS-ASK\\wandb\\run-20230507_214506-lf0f5ayl</code>"
      ],
      "text/plain": [
       "<IPython.core.display.HTML object>"
      ]
     },
     "metadata": {},
     "output_type": "display_data"
    },
    {
     "data": {
      "text/html": [
       "Resuming run <strong><a href='https://wandb.ai/am22s020/Assignment%203/runs/lf0f5ayl' target=\"_blank\">soft-sweep-4</a></strong> to <a href='https://wandb.ai/am22s020/Assignment%203' target=\"_blank\">Weights & Biases</a> (<a href='https://wandb.me/run' target=\"_blank\">docs</a>)<br/>Sweep page: <a href='https://wandb.ai/am22s020/Assignment%203/sweeps/a7mxe1u0' target=\"_blank\">https://wandb.ai/am22s020/Assignment%203/sweeps/a7mxe1u0</a>"
      ],
      "text/plain": [
       "<IPython.core.display.HTML object>"
      ]
     },
     "metadata": {},
     "output_type": "display_data"
    },
    {
     "data": {
      "text/html": [
       " View project at <a href='https://wandb.ai/am22s020/Assignment%203' target=\"_blank\">https://wandb.ai/am22s020/Assignment%203</a>"
      ],
      "text/plain": [
       "<IPython.core.display.HTML object>"
      ]
     },
     "metadata": {},
     "output_type": "display_data"
    },
    {
     "data": {
      "text/html": [
       " View sweep at <a href='https://wandb.ai/am22s020/Assignment%203/sweeps/a7mxe1u0' target=\"_blank\">https://wandb.ai/am22s020/Assignment%203/sweeps/a7mxe1u0</a>"
      ],
      "text/plain": [
       "<IPython.core.display.HTML object>"
      ]
     },
     "metadata": {},
     "output_type": "display_data"
    },
    {
     "data": {
      "text/html": [
       " View run at <a href='https://wandb.ai/am22s020/Assignment%203/runs/lf0f5ayl' target=\"_blank\">https://wandb.ai/am22s020/Assignment%203/runs/lf0f5ayl</a>"
      ],
      "text/plain": [
       "<IPython.core.display.HTML object>"
      ]
     },
     "metadata": {},
     "output_type": "display_data"
    },
    {
     "name": "stdout",
     "output_type": "stream",
     "text": [
      "cell_gru_nl_3_hs_256_e_20_bd_True_dr_0.2_ems_128\n",
      "Epoch:  1 / 20\n",
      "Training Loss:  1.0315338373184204\n",
      "Epoch:  2 / 20\n",
      "Training Loss:  0.7239575982093811\n",
      "Epoch:  3 / 20\n",
      "Training Loss:  0.8687513470649719\n",
      "Epoch:  4 / 20\n",
      "Training Loss:  0.4988389313220978\n",
      "Epoch:  5 / 20\n",
      "Training Loss:  0.5611096024513245\n",
      "Epoch:  6 / 20\n",
      "Training Loss:  0.5542365908622742\n",
      "Epoch:  7 / 20\n",
      "Training Loss:  0.5384493470191956\n",
      "Epoch:  8 / 20\n",
      "Training Loss:  0.791782557964325\n",
      "Epoch:  9 / 20\n",
      "Training Loss:  0.5379714369773865\n",
      "Epoch:  10 / 20\n",
      "Training Loss:  0.48269346356391907\n",
      "Epoch:  11 / 20\n",
      "Training Loss:  0.4925650954246521\n",
      "Epoch:  12 / 20\n",
      "Training Loss:  0.3599168360233307\n",
      "Epoch:  13 / 20\n",
      "Training Loss:  0.4609505534172058\n",
      "Epoch:  14 / 20\n",
      "Training Loss:  0.44660183787345886\n",
      "Epoch:  15 / 20\n",
      "Training Loss:  0.34377458691596985\n",
      "Epoch:  16 / 20\n",
      "Training Loss:  0.35803118348121643\n",
      "Epoch:  17 / 20\n",
      "Training Loss:  0.7098659873008728\n",
      "Epoch:  18 / 20\n",
      "Training Loss:  0.5002330541610718\n",
      "Epoch:  19 / 20\n",
      "Training Loss:  0.53559410572052\n",
      "Epoch:  20 / 20\n",
      "Training Loss:  0.4621872305870056\n"
     ]
    },
    {
     "data": {
      "text/html": [
       "Waiting for W&B process to finish... <strong style=\"color:green\">(success).</strong>"
      ],
      "text/plain": [
       "<IPython.core.display.HTML object>"
      ]
     },
     "metadata": {},
     "output_type": "display_data"
    },
    {
     "data": {
      "text/html": [
       "<style>\n",
       "    table.wandb td:nth-child(1) { padding: 0 10px; text-align: left ; width: auto;} td:nth-child(2) {text-align: left ; width: 100%}\n",
       "    .wandb-row { display: flex; flex-direction: row; flex-wrap: wrap; justify-content: flex-start; width: 100% }\n",
       "    .wandb-col { display: flex; flex-direction: column; flex-basis: 100%; flex: 1; padding: 10px; }\n",
       "    </style>\n",
       "<div class=\"wandb-row\"><div class=\"wandb-col\"><h3>Run history:</h3><br/><table class=\"wandb\"><tr><td>epoch</td><td>▁▁▂▂▂▃▃▄▄▄▅▅▅▆▆▇▇▇██</td></tr><tr><td>train accuracy</td><td>▁▃▄▅▅▆▆▇▇▇▇▇▇███████</td></tr><tr><td>train loss</td><td>█▅▆▃▃▃▃▆▃▂▃▁▂▂▁▁▅▃▃▂</td></tr><tr><td>valid accuracy</td><td>▁▅▆▇▇▇▇████▇███▇████</td></tr></table><br/></div><div class=\"wandb-col\"><h3>Run summary:</h3><br/><table class=\"wandb\"><tr><td>epoch</td><td>20</td></tr><tr><td>train accuracy</td><td>58.15625</td></tr><tr><td>train loss</td><td>0.46219</td></tr><tr><td>valid accuracy</td><td>35.79102</td></tr></table><br/></div></div>"
      ],
      "text/plain": [
       "<IPython.core.display.HTML object>"
      ]
     },
     "metadata": {},
     "output_type": "display_data"
    },
    {
     "data": {
      "text/html": [
       " View run <strong style=\"color:#cdcd00\">soft-sweep-4</strong> at: <a href='https://wandb.ai/am22s020/Assignment%203/runs/lf0f5ayl' target=\"_blank\">https://wandb.ai/am22s020/Assignment%203/runs/lf0f5ayl</a><br/>Synced 3 W&B file(s), 0 media file(s), 0 artifact file(s) and 0 other file(s)"
      ],
      "text/plain": [
       "<IPython.core.display.HTML object>"
      ]
     },
     "metadata": {},
     "output_type": "display_data"
    },
    {
     "data": {
      "text/html": [
       "Find logs at: <code>.\\wandb\\run-20230507_214506-lf0f5ayl\\logs</code>"
      ],
      "text/plain": [
       "<IPython.core.display.HTML object>"
      ]
     },
     "metadata": {},
     "output_type": "display_data"
    },
    {
     "name": "stderr",
     "output_type": "stream",
     "text": [
      "\u001b[34m\u001b[1mwandb\u001b[0m: Agent Starting Run: mqtxyr13 with config:\n",
      "\u001b[34m\u001b[1mwandb\u001b[0m: \tbi_dir: True\n",
      "\u001b[34m\u001b[1mwandb\u001b[0m: \tcell_type: gru\n",
      "\u001b[34m\u001b[1mwandb\u001b[0m: \tdropout: 0.3\n",
      "\u001b[34m\u001b[1mwandb\u001b[0m: \tembed_size: 128\n",
      "\u001b[34m\u001b[1mwandb\u001b[0m: \thidden_size: 256\n",
      "\u001b[34m\u001b[1mwandb\u001b[0m: \tnum_epochs: 15\n",
      "\u001b[34m\u001b[1mwandb\u001b[0m: \tnum_layers: 4\n",
      "\u001b[34m\u001b[1mwandb\u001b[0m: \u001b[33mWARNING\u001b[0m Ignored wandb.init() arg project when running a sweep.\n"
     ]
    },
    {
     "data": {
      "application/vnd.jupyter.widget-view+json": {
       "model_id": "2752dd162feb4c1c8edaa792e8c68673",
       "version_major": 2,
       "version_minor": 0
      },
      "text/plain": [
       "VBox(children=(Label(value='Waiting for wandb.init()...\\r'), FloatProgress(value=0.01693333333338766, max=1.0)…"
      ]
     },
     "metadata": {},
     "output_type": "display_data"
    },
    {
     "data": {
      "text/html": [
       "wandb version 0.15.2 is available!  To upgrade, please run:\n",
       " $ pip install wandb --upgrade"
      ],
      "text/plain": [
       "<IPython.core.display.HTML object>"
      ]
     },
     "metadata": {},
     "output_type": "display_data"
    },
    {
     "data": {
      "text/html": [
       "Tracking run with wandb version 0.13.11"
      ],
      "text/plain": [
       "<IPython.core.display.HTML object>"
      ]
     },
     "metadata": {},
     "output_type": "display_data"
    },
    {
     "data": {
      "text/html": [
       "Run data is saved locally in <code>C:\\Users\\HICLIPS-ASK\\wandb\\run-20230508_000044-mqtxyr13</code>"
      ],
      "text/plain": [
       "<IPython.core.display.HTML object>"
      ]
     },
     "metadata": {},
     "output_type": "display_data"
    },
    {
     "data": {
      "text/html": [
       "Resuming run <strong><a href='https://wandb.ai/am22s020/Assignment%203/runs/mqtxyr13' target=\"_blank\">winter-sweep-5</a></strong> to <a href='https://wandb.ai/am22s020/Assignment%203' target=\"_blank\">Weights & Biases</a> (<a href='https://wandb.me/run' target=\"_blank\">docs</a>)<br/>Sweep page: <a href='https://wandb.ai/am22s020/Assignment%203/sweeps/a7mxe1u0' target=\"_blank\">https://wandb.ai/am22s020/Assignment%203/sweeps/a7mxe1u0</a>"
      ],
      "text/plain": [
       "<IPython.core.display.HTML object>"
      ]
     },
     "metadata": {},
     "output_type": "display_data"
    },
    {
     "data": {
      "text/html": [
       " View project at <a href='https://wandb.ai/am22s020/Assignment%203' target=\"_blank\">https://wandb.ai/am22s020/Assignment%203</a>"
      ],
      "text/plain": [
       "<IPython.core.display.HTML object>"
      ]
     },
     "metadata": {},
     "output_type": "display_data"
    },
    {
     "data": {
      "text/html": [
       " View sweep at <a href='https://wandb.ai/am22s020/Assignment%203/sweeps/a7mxe1u0' target=\"_blank\">https://wandb.ai/am22s020/Assignment%203/sweeps/a7mxe1u0</a>"
      ],
      "text/plain": [
       "<IPython.core.display.HTML object>"
      ]
     },
     "metadata": {},
     "output_type": "display_data"
    },
    {
     "data": {
      "text/html": [
       " View run at <a href='https://wandb.ai/am22s020/Assignment%203/runs/mqtxyr13' target=\"_blank\">https://wandb.ai/am22s020/Assignment%203/runs/mqtxyr13</a>"
      ],
      "text/plain": [
       "<IPython.core.display.HTML object>"
      ]
     },
     "metadata": {},
     "output_type": "display_data"
    },
    {
     "name": "stdout",
     "output_type": "stream",
     "text": [
      "cell_gru_nl_4_hs_256_e_15_bd_True_dr_0.3_ems_128\n",
      "Epoch:  1 / 15\n",
      "Training Loss:  0.8319637775421143\n",
      "Epoch:  2 / 15\n",
      "Training Loss:  0.7701839804649353\n",
      "Epoch:  3 / 15\n",
      "Training Loss:  0.8049006462097168\n",
      "Epoch:  4 / 15\n",
      "Training Loss:  0.5651125311851501\n",
      "Epoch:  5 / 15\n",
      "Training Loss:  0.7360684871673584\n",
      "Epoch:  6 / 15\n",
      "Training Loss:  0.6167250275611877\n",
      "Epoch:  7 / 15\n",
      "Training Loss:  1.0255573987960815\n",
      "Epoch:  8 / 15\n",
      "Training Loss:  0.5690497159957886\n",
      "Epoch:  9 / 15\n",
      "Training Loss:  0.6525317430496216\n",
      "Epoch:  10 / 15\n",
      "Training Loss:  0.6679001450538635\n",
      "Epoch:  11 / 15\n",
      "Training Loss:  0.4454616904258728\n",
      "Epoch:  12 / 15\n",
      "Training Loss:  0.5680645704269409\n",
      "Epoch:  13 / 15\n",
      "Training Loss:  0.6487757563591003\n",
      "Epoch:  14 / 15\n",
      "Training Loss:  0.6032973527908325\n",
      "Epoch:  15 / 15\n",
      "Training Loss:  0.48512396216392517\n"
     ]
    },
    {
     "data": {
      "text/html": [
       "Waiting for W&B process to finish... <strong style=\"color:green\">(success).</strong>"
      ],
      "text/plain": [
       "<IPython.core.display.HTML object>"
      ]
     },
     "metadata": {},
     "output_type": "display_data"
    },
    {
     "data": {
      "application/vnd.jupyter.widget-view+json": {
       "model_id": "f41a183f598c45cab1abe7c9b0deede7",
       "version_major": 2,
       "version_minor": 0
      },
      "text/plain": [
       "VBox(children=(Label(value='0.000 MB of 0.001 MB uploaded (0.000 MB deduped)\\r'), FloatProgress(value=0.0, max…"
      ]
     },
     "metadata": {},
     "output_type": "display_data"
    },
    {
     "data": {
      "text/html": [
       "<style>\n",
       "    table.wandb td:nth-child(1) { padding: 0 10px; text-align: left ; width: auto;} td:nth-child(2) {text-align: left ; width: 100%}\n",
       "    .wandb-row { display: flex; flex-direction: row; flex-wrap: wrap; justify-content: flex-start; width: 100% }\n",
       "    .wandb-col { display: flex; flex-direction: column; flex-basis: 100%; flex: 1; padding: 10px; }\n",
       "    </style>\n",
       "<div class=\"wandb-row\"><div class=\"wandb-col\"><h3>Run history:</h3><br/><table class=\"wandb\"><tr><td>epoch</td><td>▁▁▂▃▃▃▄▅▅▅▆▇▇▇█</td></tr><tr><td>train accuracy</td><td>▁▃▅▅▆▇▇▇▇██████</td></tr><tr><td>train loss</td><td>▆▅▅▂▅▃█▂▃▄▁▂▃▃▁</td></tr><tr><td>valid accuracy</td><td>▁▃▆▅▇▇▇████████</td></tr></table><br/></div><div class=\"wandb-col\"><h3>Run summary:</h3><br/><table class=\"wandb\"><tr><td>epoch</td><td>15</td></tr><tr><td>train accuracy</td><td>45.25977</td></tr><tr><td>train loss</td><td>0.48512</td></tr><tr><td>valid accuracy</td><td>35.54688</td></tr></table><br/></div></div>"
      ],
      "text/plain": [
       "<IPython.core.display.HTML object>"
      ]
     },
     "metadata": {},
     "output_type": "display_data"
    },
    {
     "data": {
      "text/html": [
       " View run <strong style=\"color:#cdcd00\">winter-sweep-5</strong> at: <a href='https://wandb.ai/am22s020/Assignment%203/runs/mqtxyr13' target=\"_blank\">https://wandb.ai/am22s020/Assignment%203/runs/mqtxyr13</a><br/>Synced 3 W&B file(s), 0 media file(s), 0 artifact file(s) and 0 other file(s)"
      ],
      "text/plain": [
       "<IPython.core.display.HTML object>"
      ]
     },
     "metadata": {},
     "output_type": "display_data"
    },
    {
     "data": {
      "text/html": [
       "Find logs at: <code>.\\wandb\\run-20230508_000044-mqtxyr13\\logs</code>"
      ],
      "text/plain": [
       "<IPython.core.display.HTML object>"
      ]
     },
     "metadata": {},
     "output_type": "display_data"
    },
    {
     "name": "stderr",
     "output_type": "stream",
     "text": [
      "\u001b[34m\u001b[1mwandb\u001b[0m: Agent Starting Run: c1vpffyj with config:\n",
      "\u001b[34m\u001b[1mwandb\u001b[0m: \tbi_dir: True\n",
      "\u001b[34m\u001b[1mwandb\u001b[0m: \tcell_type: lstm\n",
      "\u001b[34m\u001b[1mwandb\u001b[0m: \tdropout: 0.2\n",
      "\u001b[34m\u001b[1mwandb\u001b[0m: \tembed_size: 256\n",
      "\u001b[34m\u001b[1mwandb\u001b[0m: \thidden_size: 256\n",
      "\u001b[34m\u001b[1mwandb\u001b[0m: \tnum_epochs: 20\n",
      "\u001b[34m\u001b[1mwandb\u001b[0m: \tnum_layers: 4\n",
      "\u001b[34m\u001b[1mwandb\u001b[0m: \u001b[33mWARNING\u001b[0m Ignored wandb.init() arg project when running a sweep.\n"
     ]
    },
    {
     "data": {
      "application/vnd.jupyter.widget-view+json": {
       "model_id": "d82dd7a50c1148f69c4b5709b7a9f6f4",
       "version_major": 2,
       "version_minor": 0
      },
      "text/plain": [
       "VBox(children=(Label(value='Waiting for wandb.init()...\\r'), FloatProgress(value=0.016916666666656966, max=1.0…"
      ]
     },
     "metadata": {},
     "output_type": "display_data"
    },
    {
     "data": {
      "text/html": [
       "wandb version 0.15.2 is available!  To upgrade, please run:\n",
       " $ pip install wandb --upgrade"
      ],
      "text/plain": [
       "<IPython.core.display.HTML object>"
      ]
     },
     "metadata": {},
     "output_type": "display_data"
    },
    {
     "data": {
      "text/html": [
       "Tracking run with wandb version 0.13.11"
      ],
      "text/plain": [
       "<IPython.core.display.HTML object>"
      ]
     },
     "metadata": {},
     "output_type": "display_data"
    },
    {
     "data": {
      "text/html": [
       "Run data is saved locally in <code>C:\\Users\\HICLIPS-ASK\\wandb\\run-20230508_015755-c1vpffyj</code>"
      ],
      "text/plain": [
       "<IPython.core.display.HTML object>"
      ]
     },
     "metadata": {},
     "output_type": "display_data"
    },
    {
     "data": {
      "text/html": [
       "Resuming run <strong><a href='https://wandb.ai/am22s020/Assignment%203/runs/c1vpffyj' target=\"_blank\">cool-sweep-6</a></strong> to <a href='https://wandb.ai/am22s020/Assignment%203' target=\"_blank\">Weights & Biases</a> (<a href='https://wandb.me/run' target=\"_blank\">docs</a>)<br/>Sweep page: <a href='https://wandb.ai/am22s020/Assignment%203/sweeps/a7mxe1u0' target=\"_blank\">https://wandb.ai/am22s020/Assignment%203/sweeps/a7mxe1u0</a>"
      ],
      "text/plain": [
       "<IPython.core.display.HTML object>"
      ]
     },
     "metadata": {},
     "output_type": "display_data"
    },
    {
     "data": {
      "text/html": [
       " View project at <a href='https://wandb.ai/am22s020/Assignment%203' target=\"_blank\">https://wandb.ai/am22s020/Assignment%203</a>"
      ],
      "text/plain": [
       "<IPython.core.display.HTML object>"
      ]
     },
     "metadata": {},
     "output_type": "display_data"
    },
    {
     "data": {
      "text/html": [
       " View sweep at <a href='https://wandb.ai/am22s020/Assignment%203/sweeps/a7mxe1u0' target=\"_blank\">https://wandb.ai/am22s020/Assignment%203/sweeps/a7mxe1u0</a>"
      ],
      "text/plain": [
       "<IPython.core.display.HTML object>"
      ]
     },
     "metadata": {},
     "output_type": "display_data"
    },
    {
     "data": {
      "text/html": [
       " View run at <a href='https://wandb.ai/am22s020/Assignment%203/runs/c1vpffyj' target=\"_blank\">https://wandb.ai/am22s020/Assignment%203/runs/c1vpffyj</a>"
      ],
      "text/plain": [
       "<IPython.core.display.HTML object>"
      ]
     },
     "metadata": {},
     "output_type": "display_data"
    },
    {
     "name": "stdout",
     "output_type": "stream",
     "text": [
      "cell_lstm_nl_4_hs_256_e_20_bd_True_dr_0.2_ems_256\n",
      "Epoch:  1 / 20\n",
      "Training Loss:  1.1742550134658813\n",
      "Epoch:  2 / 20\n",
      "Training Loss:  0.760231077671051\n",
      "Epoch:  3 / 20\n",
      "Training Loss:  0.7279675602912903\n",
      "Epoch:  4 / 20\n",
      "Training Loss:  0.5604379177093506\n",
      "Epoch:  5 / 20\n",
      "Training Loss:  0.4031890034675598\n",
      "Epoch:  6 / 20\n",
      "Training Loss:  0.423007071018219\n",
      "Epoch:  7 / 20\n",
      "Training Loss:  0.38270169496536255\n",
      "Epoch:  8 / 20\n",
      "Training Loss:  0.3946875035762787\n",
      "Epoch:  9 / 20\n",
      "Training Loss:  0.29807034134864807\n",
      "Epoch:  10 / 20\n",
      "Training Loss:  0.32540154457092285\n",
      "Epoch:  11 / 20\n",
      "Training Loss:  0.5148805379867554\n",
      "Epoch:  12 / 20\n",
      "Training Loss:  0.4705757200717926\n",
      "Epoch:  13 / 20\n",
      "Training Loss:  0.4529900848865509\n",
      "Epoch:  14 / 20\n",
      "Training Loss:  0.43131476640701294\n",
      "Epoch:  15 / 20\n",
      "Training Loss:  0.2386656254529953\n",
      "Epoch:  16 / 20\n",
      "Training Loss:  0.3397161066532135\n",
      "Epoch:  17 / 20\n",
      "Training Loss:  0.28883934020996094\n",
      "Epoch:  18 / 20\n",
      "Training Loss:  0.19707071781158447\n",
      "Epoch:  19 / 20\n",
      "Training Loss:  0.2375723123550415\n",
      "Epoch:  20 / 20\n",
      "Training Loss:  0.1476142406463623\n"
     ]
    },
    {
     "data": {
      "text/html": [
       "Waiting for W&B process to finish... <strong style=\"color:green\">(success).</strong>"
      ],
      "text/plain": [
       "<IPython.core.display.HTML object>"
      ]
     },
     "metadata": {},
     "output_type": "display_data"
    },
    {
     "data": {
      "application/vnd.jupyter.widget-view+json": {
       "model_id": "1b0f4bde80ad467fb30823df874176a6",
       "version_major": 2,
       "version_minor": 0
      },
      "text/plain": [
       "VBox(children=(Label(value='0.000 MB of 0.000 MB uploaded (0.000 MB deduped)\\r'), FloatProgress(value=1.0, max…"
      ]
     },
     "metadata": {},
     "output_type": "display_data"
    },
    {
     "data": {
      "text/html": [
       "<style>\n",
       "    table.wandb td:nth-child(1) { padding: 0 10px; text-align: left ; width: auto;} td:nth-child(2) {text-align: left ; width: 100%}\n",
       "    .wandb-row { display: flex; flex-direction: row; flex-wrap: wrap; justify-content: flex-start; width: 100% }\n",
       "    .wandb-col { display: flex; flex-direction: column; flex-basis: 100%; flex: 1; padding: 10px; }\n",
       "    </style>\n",
       "<div class=\"wandb-row\"><div class=\"wandb-col\"><h3>Run history:</h3><br/><table class=\"wandb\"><tr><td>epoch</td><td>▁▁▂▂▂▃▃▄▄▄▅▅▅▆▆▇▇▇██</td></tr><tr><td>train accuracy</td><td>▁▂▃▄▄▅▅▅▆▆▆▇▇▇▇▇████</td></tr><tr><td>train loss</td><td>█▅▅▄▃▃▃▃▂▂▄▃▃▃▂▂▂▁▂▁</td></tr><tr><td>valid accuracy</td><td>▁▄▅▆▇▇██████████████</td></tr></table><br/></div><div class=\"wandb-col\"><h3>Run summary:</h3><br/><table class=\"wandb\"><tr><td>epoch</td><td>20</td></tr><tr><td>train accuracy</td><td>81.46289</td></tr><tr><td>train loss</td><td>0.14761</td></tr><tr><td>valid accuracy</td><td>40.55176</td></tr></table><br/></div></div>"
      ],
      "text/plain": [
       "<IPython.core.display.HTML object>"
      ]
     },
     "metadata": {},
     "output_type": "display_data"
    },
    {
     "data": {
      "text/html": [
       " View run <strong style=\"color:#cdcd00\">cool-sweep-6</strong> at: <a href='https://wandb.ai/am22s020/Assignment%203/runs/c1vpffyj' target=\"_blank\">https://wandb.ai/am22s020/Assignment%203/runs/c1vpffyj</a><br/>Synced 3 W&B file(s), 0 media file(s), 0 artifact file(s) and 0 other file(s)"
      ],
      "text/plain": [
       "<IPython.core.display.HTML object>"
      ]
     },
     "metadata": {},
     "output_type": "display_data"
    },
    {
     "data": {
      "text/html": [
       "Find logs at: <code>.\\wandb\\run-20230508_015755-c1vpffyj\\logs</code>"
      ],
      "text/plain": [
       "<IPython.core.display.HTML object>"
      ]
     },
     "metadata": {},
     "output_type": "display_data"
    },
    {
     "name": "stderr",
     "output_type": "stream",
     "text": [
      "\u001b[34m\u001b[1mwandb\u001b[0m: Agent Starting Run: oma55f5r with config:\n",
      "\u001b[34m\u001b[1mwandb\u001b[0m: \tbi_dir: True\n",
      "\u001b[34m\u001b[1mwandb\u001b[0m: \tcell_type: lstm\n",
      "\u001b[34m\u001b[1mwandb\u001b[0m: \tdropout: 0.5\n",
      "\u001b[34m\u001b[1mwandb\u001b[0m: \tembed_size: 64\n",
      "\u001b[34m\u001b[1mwandb\u001b[0m: \thidden_size: 64\n",
      "\u001b[34m\u001b[1mwandb\u001b[0m: \tnum_epochs: 10\n",
      "\u001b[34m\u001b[1mwandb\u001b[0m: \tnum_layers: 2\n",
      "\u001b[34m\u001b[1mwandb\u001b[0m: \u001b[33mWARNING\u001b[0m Ignored wandb.init() arg project when running a sweep.\n"
     ]
    },
    {
     "data": {
      "application/vnd.jupyter.widget-view+json": {
       "model_id": "4979e7f621f34f7e8b179bfcc9dc2ed5",
       "version_major": 2,
       "version_minor": 0
      },
      "text/plain": [
       "VBox(children=(Label(value='Waiting for wandb.init()...\\r'), FloatProgress(value=0.016666666666666666, max=1.0…"
      ]
     },
     "metadata": {},
     "output_type": "display_data"
    },
    {
     "data": {
      "text/html": [
       "wandb version 0.15.2 is available!  To upgrade, please run:\n",
       " $ pip install wandb --upgrade"
      ],
      "text/plain": [
       "<IPython.core.display.HTML object>"
      ]
     },
     "metadata": {},
     "output_type": "display_data"
    },
    {
     "data": {
      "text/html": [
       "Tracking run with wandb version 0.13.11"
      ],
      "text/plain": [
       "<IPython.core.display.HTML object>"
      ]
     },
     "metadata": {},
     "output_type": "display_data"
    },
    {
     "data": {
      "text/html": [
       "Run data is saved locally in <code>C:\\Users\\HICLIPS-ASK\\wandb\\run-20230508_043635-oma55f5r</code>"
      ],
      "text/plain": [
       "<IPython.core.display.HTML object>"
      ]
     },
     "metadata": {},
     "output_type": "display_data"
    },
    {
     "data": {
      "text/html": [
       "Resuming run <strong><a href='https://wandb.ai/am22s020/Assignment%203/runs/oma55f5r' target=\"_blank\">polar-sweep-7</a></strong> to <a href='https://wandb.ai/am22s020/Assignment%203' target=\"_blank\">Weights & Biases</a> (<a href='https://wandb.me/run' target=\"_blank\">docs</a>)<br/>Sweep page: <a href='https://wandb.ai/am22s020/Assignment%203/sweeps/a7mxe1u0' target=\"_blank\">https://wandb.ai/am22s020/Assignment%203/sweeps/a7mxe1u0</a>"
      ],
      "text/plain": [
       "<IPython.core.display.HTML object>"
      ]
     },
     "metadata": {},
     "output_type": "display_data"
    },
    {
     "data": {
      "text/html": [
       " View project at <a href='https://wandb.ai/am22s020/Assignment%203' target=\"_blank\">https://wandb.ai/am22s020/Assignment%203</a>"
      ],
      "text/plain": [
       "<IPython.core.display.HTML object>"
      ]
     },
     "metadata": {},
     "output_type": "display_data"
    },
    {
     "data": {
      "text/html": [
       " View sweep at <a href='https://wandb.ai/am22s020/Assignment%203/sweeps/a7mxe1u0' target=\"_blank\">https://wandb.ai/am22s020/Assignment%203/sweeps/a7mxe1u0</a>"
      ],
      "text/plain": [
       "<IPython.core.display.HTML object>"
      ]
     },
     "metadata": {},
     "output_type": "display_data"
    },
    {
     "data": {
      "text/html": [
       " View run at <a href='https://wandb.ai/am22s020/Assignment%203/runs/oma55f5r' target=\"_blank\">https://wandb.ai/am22s020/Assignment%203/runs/oma55f5r</a>"
      ],
      "text/plain": [
       "<IPython.core.display.HTML object>"
      ]
     },
     "metadata": {},
     "output_type": "display_data"
    },
    {
     "name": "stdout",
     "output_type": "stream",
     "text": [
      "cell_lstm_nl_2_hs_64_e_10_bd_True_dr_0.5_ems_64\n",
      "Epoch:  1 / 10\n",
      "Training Loss:  1.9937938451766968\n",
      "Epoch:  2 / 10\n",
      "Training Loss:  1.7591896057128906\n",
      "Epoch:  3 / 10\n",
      "Training Loss:  1.2852426767349243\n",
      "Epoch:  4 / 10\n",
      "Training Loss:  1.2852590084075928\n",
      "Epoch:  5 / 10\n",
      "Training Loss:  1.2821885347366333\n",
      "Epoch:  6 / 10\n",
      "Training Loss:  1.152632713317871\n",
      "Epoch:  7 / 10\n",
      "Training Loss:  1.1045602560043335\n",
      "Epoch:  8 / 10\n",
      "Training Loss:  1.0628716945648193\n",
      "Epoch:  9 / 10\n",
      "Training Loss:  0.9616380929946899\n",
      "Epoch:  10 / 10\n",
      "Training Loss:  1.0727113485336304\n"
     ]
    },
    {
     "data": {
      "text/html": [
       "Waiting for W&B process to finish... <strong style=\"color:green\">(success).</strong>"
      ],
      "text/plain": [
       "<IPython.core.display.HTML object>"
      ]
     },
     "metadata": {},
     "output_type": "display_data"
    },
    {
     "data": {
      "application/vnd.jupyter.widget-view+json": {
       "model_id": "bac824c010184adc9a4d4ee149cf1a2b",
       "version_major": 2,
       "version_minor": 0
      },
      "text/plain": [
       "VBox(children=(Label(value='0.000 MB of 0.001 MB uploaded (0.000 MB deduped)\\r'), FloatProgress(value=0.0, max…"
      ]
     },
     "metadata": {},
     "output_type": "display_data"
    },
    {
     "data": {
      "text/html": [
       "<style>\n",
       "    table.wandb td:nth-child(1) { padding: 0 10px; text-align: left ; width: auto;} td:nth-child(2) {text-align: left ; width: 100%}\n",
       "    .wandb-row { display: flex; flex-direction: row; flex-wrap: wrap; justify-content: flex-start; width: 100% }\n",
       "    .wandb-col { display: flex; flex-direction: column; flex-basis: 100%; flex: 1; padding: 10px; }\n",
       "    </style>\n",
       "<div class=\"wandb-row\"><div class=\"wandb-col\"><h3>Run history:</h3><br/><table class=\"wandb\"><tr><td>epoch</td><td>▁▂▃▃▄▅▆▆▇█</td></tr><tr><td>train accuracy</td><td>▁▂▃▄▅▆▆▇▇█</td></tr><tr><td>train loss</td><td>█▆▃▃▃▂▂▂▁▂</td></tr><tr><td>valid accuracy</td><td>▁▃▄▅▆▆▆▇██</td></tr></table><br/></div><div class=\"wandb-col\"><h3>Run summary:</h3><br/><table class=\"wandb\"><tr><td>epoch</td><td>10</td></tr><tr><td>train accuracy</td><td>20.16602</td></tr><tr><td>train loss</td><td>1.07271</td></tr><tr><td>valid accuracy</td><td>24.41406</td></tr></table><br/></div></div>"
      ],
      "text/plain": [
       "<IPython.core.display.HTML object>"
      ]
     },
     "metadata": {},
     "output_type": "display_data"
    },
    {
     "data": {
      "text/html": [
       " View run <strong style=\"color:#cdcd00\">polar-sweep-7</strong> at: <a href='https://wandb.ai/am22s020/Assignment%203/runs/oma55f5r' target=\"_blank\">https://wandb.ai/am22s020/Assignment%203/runs/oma55f5r</a><br/>Synced 3 W&B file(s), 0 media file(s), 0 artifact file(s) and 0 other file(s)"
      ],
      "text/plain": [
       "<IPython.core.display.HTML object>"
      ]
     },
     "metadata": {},
     "output_type": "display_data"
    },
    {
     "data": {
      "text/html": [
       "Find logs at: <code>.\\wandb\\run-20230508_043635-oma55f5r\\logs</code>"
      ],
      "text/plain": [
       "<IPython.core.display.HTML object>"
      ]
     },
     "metadata": {},
     "output_type": "display_data"
    },
    {
     "name": "stderr",
     "output_type": "stream",
     "text": [
      "\u001b[34m\u001b[1mwandb\u001b[0m: Agent Starting Run: fc1v6csz with config:\n",
      "\u001b[34m\u001b[1mwandb\u001b[0m: \tbi_dir: True\n",
      "\u001b[34m\u001b[1mwandb\u001b[0m: \tcell_type: rnn\n",
      "\u001b[34m\u001b[1mwandb\u001b[0m: \tdropout: 0.2\n",
      "\u001b[34m\u001b[1mwandb\u001b[0m: \tembed_size: 128\n",
      "\u001b[34m\u001b[1mwandb\u001b[0m: \thidden_size: 64\n",
      "\u001b[34m\u001b[1mwandb\u001b[0m: \tnum_epochs: 15\n",
      "\u001b[34m\u001b[1mwandb\u001b[0m: \tnum_layers: 4\n",
      "\u001b[34m\u001b[1mwandb\u001b[0m: \u001b[33mWARNING\u001b[0m Ignored wandb.init() arg project when running a sweep.\n"
     ]
    },
    {
     "data": {
      "application/vnd.jupyter.widget-view+json": {
       "model_id": "bf1732fb24ff44c18fc683fd499836a3",
       "version_major": 2,
       "version_minor": 0
      },
      "text/plain": [
       "VBox(children=(Label(value='Waiting for wandb.init()...\\r'), FloatProgress(value=0.016666666666666666, max=1.0…"
      ]
     },
     "metadata": {},
     "output_type": "display_data"
    },
    {
     "data": {
      "text/html": [
       "wandb version 0.15.2 is available!  To upgrade, please run:\n",
       " $ pip install wandb --upgrade"
      ],
      "text/plain": [
       "<IPython.core.display.HTML object>"
      ]
     },
     "metadata": {},
     "output_type": "display_data"
    },
    {
     "data": {
      "text/html": [
       "Tracking run with wandb version 0.13.11"
      ],
      "text/plain": [
       "<IPython.core.display.HTML object>"
      ]
     },
     "metadata": {},
     "output_type": "display_data"
    },
    {
     "data": {
      "text/html": [
       "Run data is saved locally in <code>C:\\Users\\HICLIPS-ASK\\wandb\\run-20230508_052717-fc1v6csz</code>"
      ],
      "text/plain": [
       "<IPython.core.display.HTML object>"
      ]
     },
     "metadata": {},
     "output_type": "display_data"
    },
    {
     "data": {
      "text/html": [
       "Resuming run <strong><a href='https://wandb.ai/am22s020/Assignment%203/runs/fc1v6csz' target=\"_blank\">good-sweep-8</a></strong> to <a href='https://wandb.ai/am22s020/Assignment%203' target=\"_blank\">Weights & Biases</a> (<a href='https://wandb.me/run' target=\"_blank\">docs</a>)<br/>Sweep page: <a href='https://wandb.ai/am22s020/Assignment%203/sweeps/a7mxe1u0' target=\"_blank\">https://wandb.ai/am22s020/Assignment%203/sweeps/a7mxe1u0</a>"
      ],
      "text/plain": [
       "<IPython.core.display.HTML object>"
      ]
     },
     "metadata": {},
     "output_type": "display_data"
    },
    {
     "data": {
      "text/html": [
       " View project at <a href='https://wandb.ai/am22s020/Assignment%203' target=\"_blank\">https://wandb.ai/am22s020/Assignment%203</a>"
      ],
      "text/plain": [
       "<IPython.core.display.HTML object>"
      ]
     },
     "metadata": {},
     "output_type": "display_data"
    },
    {
     "data": {
      "text/html": [
       " View sweep at <a href='https://wandb.ai/am22s020/Assignment%203/sweeps/a7mxe1u0' target=\"_blank\">https://wandb.ai/am22s020/Assignment%203/sweeps/a7mxe1u0</a>"
      ],
      "text/plain": [
       "<IPython.core.display.HTML object>"
      ]
     },
     "metadata": {},
     "output_type": "display_data"
    },
    {
     "data": {
      "text/html": [
       " View run at <a href='https://wandb.ai/am22s020/Assignment%203/runs/fc1v6csz' target=\"_blank\">https://wandb.ai/am22s020/Assignment%203/runs/fc1v6csz</a>"
      ],
      "text/plain": [
       "<IPython.core.display.HTML object>"
      ]
     },
     "metadata": {},
     "output_type": "display_data"
    },
    {
     "name": "stdout",
     "output_type": "stream",
     "text": [
      "cell_rnn_nl_4_hs_64_e_15_bd_True_dr_0.2_ems_128\n",
      "Epoch:  1 / 15\n",
      "Training Loss:  2.328763723373413\n",
      "Epoch:  2 / 15\n",
      "Training Loss:  1.9709051847457886\n",
      "Epoch:  3 / 15\n",
      "Training Loss:  1.9200576543807983\n",
      "Epoch:  4 / 15\n",
      "Training Loss:  1.961483120918274\n",
      "Epoch:  5 / 15\n",
      "Training Loss:  1.6956756114959717\n",
      "Epoch:  6 / 15\n",
      "Training Loss:  1.6254582405090332\n",
      "Epoch:  7 / 15\n",
      "Training Loss:  1.7069753408432007\n",
      "Epoch:  8 / 15\n",
      "Training Loss:  1.4327038526535034\n",
      "Epoch:  9 / 15\n",
      "Training Loss:  1.3770476579666138\n",
      "Epoch:  10 / 15\n",
      "Training Loss:  1.4056748151779175\n",
      "Epoch:  11 / 15\n",
      "Training Loss:  1.3296442031860352\n",
      "Epoch:  12 / 15\n",
      "Training Loss:  1.4689027070999146\n",
      "Epoch:  13 / 15\n",
      "Training Loss:  1.1586112976074219\n",
      "Epoch:  14 / 15\n",
      "Training Loss:  1.3655487298965454\n",
      "Epoch:  15 / 15\n",
      "Training Loss:  1.3833591938018799\n"
     ]
    },
    {
     "data": {
      "text/html": [
       "Waiting for W&B process to finish... <strong style=\"color:green\">(success).</strong>"
      ],
      "text/plain": [
       "<IPython.core.display.HTML object>"
      ]
     },
     "metadata": {},
     "output_type": "display_data"
    },
    {
     "data": {
      "application/vnd.jupyter.widget-view+json": {
       "model_id": "e0ddb53b80194803a4f79209b4487290",
       "version_major": 2,
       "version_minor": 0
      },
      "text/plain": [
       "VBox(children=(Label(value='0.000 MB of 0.001 MB uploaded (0.000 MB deduped)\\r'), FloatProgress(value=0.0, max…"
      ]
     },
     "metadata": {},
     "output_type": "display_data"
    },
    {
     "data": {
      "text/html": [
       "<style>\n",
       "    table.wandb td:nth-child(1) { padding: 0 10px; text-align: left ; width: auto;} td:nth-child(2) {text-align: left ; width: 100%}\n",
       "    .wandb-row { display: flex; flex-direction: row; flex-wrap: wrap; justify-content: flex-start; width: 100% }\n",
       "    .wandb-col { display: flex; flex-direction: column; flex-basis: 100%; flex: 1; padding: 10px; }\n",
       "    </style>\n",
       "<div class=\"wandb-row\"><div class=\"wandb-col\"><h3>Run history:</h3><br/><table class=\"wandb\"><tr><td>epoch</td><td>▁▁▂▃▃▃▄▅▅▅▆▇▇▇█</td></tr><tr><td>train accuracy</td><td>▁▁▁▁▂▁▂▂▃▄▄▇▅▆█</td></tr><tr><td>train loss</td><td>█▆▆▆▄▄▄▃▂▂▂▃▁▂▂</td></tr><tr><td>valid accuracy</td><td>▁▁▁▁▂▂▂▂▃▄▅█▆▆█</td></tr></table><br/></div><div class=\"wandb-col\"><h3>Run summary:</h3><br/><table class=\"wandb\"><tr><td>epoch</td><td>15</td></tr><tr><td>train accuracy</td><td>3.75195</td></tr><tr><td>train loss</td><td>1.38336</td></tr><tr><td>valid accuracy</td><td>3.85742</td></tr></table><br/></div></div>"
      ],
      "text/plain": [
       "<IPython.core.display.HTML object>"
      ]
     },
     "metadata": {},
     "output_type": "display_data"
    },
    {
     "data": {
      "text/html": [
       " View run <strong style=\"color:#cdcd00\">good-sweep-8</strong> at: <a href='https://wandb.ai/am22s020/Assignment%203/runs/fc1v6csz' target=\"_blank\">https://wandb.ai/am22s020/Assignment%203/runs/fc1v6csz</a><br/>Synced 3 W&B file(s), 0 media file(s), 0 artifact file(s) and 0 other file(s)"
      ],
      "text/plain": [
       "<IPython.core.display.HTML object>"
      ]
     },
     "metadata": {},
     "output_type": "display_data"
    },
    {
     "data": {
      "text/html": [
       "Find logs at: <code>.\\wandb\\run-20230508_052717-fc1v6csz\\logs</code>"
      ],
      "text/plain": [
       "<IPython.core.display.HTML object>"
      ]
     },
     "metadata": {},
     "output_type": "display_data"
    },
    {
     "name": "stderr",
     "output_type": "stream",
     "text": [
      "\u001b[34m\u001b[1mwandb\u001b[0m: Agent Starting Run: orwgzu9f with config:\n",
      "\u001b[34m\u001b[1mwandb\u001b[0m: \tbi_dir: True\n",
      "\u001b[34m\u001b[1mwandb\u001b[0m: \tcell_type: gru\n",
      "\u001b[34m\u001b[1mwandb\u001b[0m: \tdropout: 0.2\n",
      "\u001b[34m\u001b[1mwandb\u001b[0m: \tembed_size: 256\n",
      "\u001b[34m\u001b[1mwandb\u001b[0m: \thidden_size: 128\n",
      "\u001b[34m\u001b[1mwandb\u001b[0m: \tnum_epochs: 10\n",
      "\u001b[34m\u001b[1mwandb\u001b[0m: \tnum_layers: 4\n",
      "\u001b[34m\u001b[1mwandb\u001b[0m: \u001b[33mWARNING\u001b[0m Ignored wandb.init() arg project when running a sweep.\n"
     ]
    },
    {
     "data": {
      "text/html": [
       "wandb version 0.15.2 is available!  To upgrade, please run:\n",
       " $ pip install wandb --upgrade"
      ],
      "text/plain": [
       "<IPython.core.display.HTML object>"
      ]
     },
     "metadata": {},
     "output_type": "display_data"
    },
    {
     "data": {
      "text/html": [
       "Tracking run with wandb version 0.13.11"
      ],
      "text/plain": [
       "<IPython.core.display.HTML object>"
      ]
     },
     "metadata": {},
     "output_type": "display_data"
    },
    {
     "data": {
      "text/html": [
       "Run data is saved locally in <code>C:\\Users\\HICLIPS-ASK\\wandb\\run-20230508_071424-orwgzu9f</code>"
      ],
      "text/plain": [
       "<IPython.core.display.HTML object>"
      ]
     },
     "metadata": {},
     "output_type": "display_data"
    },
    {
     "data": {
      "text/html": [
       "Resuming run <strong><a href='https://wandb.ai/am22s020/Assignment%203/runs/orwgzu9f' target=\"_blank\">magic-sweep-9</a></strong> to <a href='https://wandb.ai/am22s020/Assignment%203' target=\"_blank\">Weights & Biases</a> (<a href='https://wandb.me/run' target=\"_blank\">docs</a>)<br/>Sweep page: <a href='https://wandb.ai/am22s020/Assignment%203/sweeps/a7mxe1u0' target=\"_blank\">https://wandb.ai/am22s020/Assignment%203/sweeps/a7mxe1u0</a>"
      ],
      "text/plain": [
       "<IPython.core.display.HTML object>"
      ]
     },
     "metadata": {},
     "output_type": "display_data"
    },
    {
     "data": {
      "text/html": [
       " View project at <a href='https://wandb.ai/am22s020/Assignment%203' target=\"_blank\">https://wandb.ai/am22s020/Assignment%203</a>"
      ],
      "text/plain": [
       "<IPython.core.display.HTML object>"
      ]
     },
     "metadata": {},
     "output_type": "display_data"
    },
    {
     "data": {
      "text/html": [
       " View sweep at <a href='https://wandb.ai/am22s020/Assignment%203/sweeps/a7mxe1u0' target=\"_blank\">https://wandb.ai/am22s020/Assignment%203/sweeps/a7mxe1u0</a>"
      ],
      "text/plain": [
       "<IPython.core.display.HTML object>"
      ]
     },
     "metadata": {},
     "output_type": "display_data"
    },
    {
     "data": {
      "text/html": [
       " View run at <a href='https://wandb.ai/am22s020/Assignment%203/runs/orwgzu9f' target=\"_blank\">https://wandb.ai/am22s020/Assignment%203/runs/orwgzu9f</a>"
      ],
      "text/plain": [
       "<IPython.core.display.HTML object>"
      ]
     },
     "metadata": {},
     "output_type": "display_data"
    },
    {
     "name": "stdout",
     "output_type": "stream",
     "text": [
      "cell_gru_nl_4_hs_128_e_10_bd_True_dr_0.2_ems_256\n",
      "Epoch:  1 / 10\n",
      "Training Loss:  1.1538264751434326\n",
      "Epoch:  2 / 10\n",
      "Training Loss:  0.8379322290420532\n",
      "Epoch:  3 / 10\n",
      "Training Loss:  0.6871095895767212\n",
      "Epoch:  4 / 10\n",
      "Training Loss:  0.9325300455093384\n",
      "Epoch:  5 / 10\n",
      "Training Loss:  0.7006354331970215\n",
      "Epoch:  6 / 10\n",
      "Training Loss:  0.7318350672721863\n",
      "Epoch:  7 / 10\n",
      "Training Loss:  0.6332029700279236\n",
      "Epoch:  8 / 10\n",
      "Training Loss:  0.5876648426055908\n"
     ]
    },
    {
     "name": "stderr",
     "output_type": "stream",
     "text": [
      "\u001b[34m\u001b[1mwandb\u001b[0m: Network error (ConnectionError), entering retry loop.\n"
     ]
    },
    {
     "name": "stdout",
     "output_type": "stream",
     "text": [
      "Epoch:  9 / 10\n",
      "Training Loss:  0.5344516038894653\n",
      "Epoch:  10 / 10\n",
      "Training Loss:  0.4663931429386139\n"
     ]
    },
    {
     "data": {
      "text/html": [
       "Waiting for W&B process to finish... <strong style=\"color:green\">(success).</strong>"
      ],
      "text/plain": [
       "<IPython.core.display.HTML object>"
      ]
     },
     "metadata": {},
     "output_type": "display_data"
    },
    {
     "data": {
      "text/html": [
       "<style>\n",
       "    table.wandb td:nth-child(1) { padding: 0 10px; text-align: left ; width: auto;} td:nth-child(2) {text-align: left ; width: 100%}\n",
       "    .wandb-row { display: flex; flex-direction: row; flex-wrap: wrap; justify-content: flex-start; width: 100% }\n",
       "    .wandb-col { display: flex; flex-direction: column; flex-basis: 100%; flex: 1; padding: 10px; }\n",
       "    </style>\n",
       "<div class=\"wandb-row\"><div class=\"wandb-col\"><h3>Run history:</h3><br/><table class=\"wandb\"><tr><td>epoch</td><td>▁▂▃▃▄▅▆▆▇█</td></tr><tr><td>train accuracy</td><td>▁▃▄▅▆▆▇▇▇█</td></tr><tr><td>train loss</td><td>█▅▃▆▃▄▃▂▂▁</td></tr><tr><td>valid accuracy</td><td>▁▄▆▆▆▇▇▇██</td></tr></table><br/></div><div class=\"wandb-col\"><h3>Run summary:</h3><br/><table class=\"wandb\"><tr><td>epoch</td><td>10</td></tr><tr><td>train accuracy</td><td>42.65234</td></tr><tr><td>train loss</td><td>0.46639</td></tr><tr><td>valid accuracy</td><td>34.10645</td></tr></table><br/></div></div>"
      ],
      "text/plain": [
       "<IPython.core.display.HTML object>"
      ]
     },
     "metadata": {},
     "output_type": "display_data"
    },
    {
     "data": {
      "text/html": [
       " View run <strong style=\"color:#cdcd00\">magic-sweep-9</strong> at: <a href='https://wandb.ai/am22s020/Assignment%203/runs/orwgzu9f' target=\"_blank\">https://wandb.ai/am22s020/Assignment%203/runs/orwgzu9f</a><br/>Synced 3 W&B file(s), 0 media file(s), 0 artifact file(s) and 0 other file(s)"
      ],
      "text/plain": [
       "<IPython.core.display.HTML object>"
      ]
     },
     "metadata": {},
     "output_type": "display_data"
    },
    {
     "data": {
      "text/html": [
       "Find logs at: <code>.\\wandb\\run-20230508_071424-orwgzu9f\\logs</code>"
      ],
      "text/plain": [
       "<IPython.core.display.HTML object>"
      ]
     },
     "metadata": {},
     "output_type": "display_data"
    },
    {
     "name": "stderr",
     "output_type": "stream",
     "text": [
      "\u001b[34m\u001b[1mwandb\u001b[0m: Agent Starting Run: srmmb8oz with config:\n",
      "\u001b[34m\u001b[1mwandb\u001b[0m: \tbi_dir: True\n",
      "\u001b[34m\u001b[1mwandb\u001b[0m: \tcell_type: gru\n",
      "\u001b[34m\u001b[1mwandb\u001b[0m: \tdropout: 0.2\n",
      "\u001b[34m\u001b[1mwandb\u001b[0m: \tembed_size: 256\n",
      "\u001b[34m\u001b[1mwandb\u001b[0m: \thidden_size: 64\n",
      "\u001b[34m\u001b[1mwandb\u001b[0m: \tnum_epochs: 20\n",
      "\u001b[34m\u001b[1mwandb\u001b[0m: \tnum_layers: 3\n",
      "\u001b[34m\u001b[1mwandb\u001b[0m: \u001b[33mWARNING\u001b[0m Ignored wandb.init() arg project when running a sweep.\n"
     ]
    },
    {
     "data": {
      "text/html": [
       "wandb version 0.15.2 is available!  To upgrade, please run:\n",
       " $ pip install wandb --upgrade"
      ],
      "text/plain": [
       "<IPython.core.display.HTML object>"
      ]
     },
     "metadata": {},
     "output_type": "display_data"
    },
    {
     "data": {
      "text/html": [
       "Tracking run with wandb version 0.13.11"
      ],
      "text/plain": [
       "<IPython.core.display.HTML object>"
      ]
     },
     "metadata": {},
     "output_type": "display_data"
    },
    {
     "data": {
      "text/html": [
       "Run data is saved locally in <code>C:\\Users\\HICLIPS-ASK\\wandb\\run-20230508_084217-srmmb8oz</code>"
      ],
      "text/plain": [
       "<IPython.core.display.HTML object>"
      ]
     },
     "metadata": {},
     "output_type": "display_data"
    },
    {
     "data": {
      "text/html": [
       "Resuming run <strong><a href='https://wandb.ai/am22s020/Assignment%203/runs/srmmb8oz' target=\"_blank\">logical-sweep-10</a></strong> to <a href='https://wandb.ai/am22s020/Assignment%203' target=\"_blank\">Weights & Biases</a> (<a href='https://wandb.me/run' target=\"_blank\">docs</a>)<br/>Sweep page: <a href='https://wandb.ai/am22s020/Assignment%203/sweeps/a7mxe1u0' target=\"_blank\">https://wandb.ai/am22s020/Assignment%203/sweeps/a7mxe1u0</a>"
      ],
      "text/plain": [
       "<IPython.core.display.HTML object>"
      ]
     },
     "metadata": {},
     "output_type": "display_data"
    },
    {
     "data": {
      "text/html": [
       " View project at <a href='https://wandb.ai/am22s020/Assignment%203' target=\"_blank\">https://wandb.ai/am22s020/Assignment%203</a>"
      ],
      "text/plain": [
       "<IPython.core.display.HTML object>"
      ]
     },
     "metadata": {},
     "output_type": "display_data"
    },
    {
     "data": {
      "text/html": [
       " View sweep at <a href='https://wandb.ai/am22s020/Assignment%203/sweeps/a7mxe1u0' target=\"_blank\">https://wandb.ai/am22s020/Assignment%203/sweeps/a7mxe1u0</a>"
      ],
      "text/plain": [
       "<IPython.core.display.HTML object>"
      ]
     },
     "metadata": {},
     "output_type": "display_data"
    },
    {
     "data": {
      "text/html": [
       " View run at <a href='https://wandb.ai/am22s020/Assignment%203/runs/srmmb8oz' target=\"_blank\">https://wandb.ai/am22s020/Assignment%203/runs/srmmb8oz</a>"
      ],
      "text/plain": [
       "<IPython.core.display.HTML object>"
      ]
     },
     "metadata": {},
     "output_type": "display_data"
    },
    {
     "name": "stdout",
     "output_type": "stream",
     "text": [
      "cell_gru_nl_3_hs_64_e_20_bd_True_dr_0.2_ems_256\n",
      "Epoch:  1 / 20\n",
      "Training Loss:  1.5755342245101929\n",
      "Epoch:  2 / 20\n",
      "Training Loss:  1.2679063081741333\n",
      "Epoch:  3 / 20\n",
      "Training Loss:  1.0722676515579224\n",
      "Epoch:  4 / 20\n",
      "Training Loss:  1.2267605066299438\n",
      "Epoch:  5 / 20\n",
      "Training Loss:  0.7481057643890381\n",
      "Epoch:  6 / 20\n",
      "Training Loss:  1.0017156600952148\n",
      "Epoch:  7 / 20\n",
      "Training Loss:  0.7943402528762817\n",
      "Epoch:  8 / 20\n",
      "Training Loss:  0.9339029788970947\n",
      "Epoch:  9 / 20\n",
      "Training Loss:  1.0701096057891846\n",
      "Epoch:  10 / 20\n",
      "Training Loss:  0.7303330302238464\n",
      "Epoch:  11 / 20\n",
      "Training Loss:  0.7375251054763794\n",
      "Epoch:  12 / 20\n",
      "Training Loss:  0.7538200616836548\n",
      "Epoch:  13 / 20\n",
      "Training Loss:  1.1178746223449707\n",
      "Epoch:  14 / 20\n",
      "Training Loss:  0.8165115714073181\n",
      "Epoch:  15 / 20\n",
      "Training Loss:  0.8711275458335876\n",
      "Epoch:  16 / 20\n",
      "Training Loss:  0.7784141302108765\n",
      "Epoch:  17 / 20\n",
      "Training Loss:  0.5989426970481873\n",
      "Epoch:  18 / 20\n",
      "Training Loss:  0.6824040412902832\n",
      "Epoch:  19 / 20\n",
      "Training Loss:  0.6714611649513245\n",
      "Epoch:  20 / 20\n",
      "Training Loss:  0.6009308099746704\n"
     ]
    },
    {
     "data": {
      "text/html": [
       "Waiting for W&B process to finish... <strong style=\"color:green\">(success).</strong>"
      ],
      "text/plain": [
       "<IPython.core.display.HTML object>"
      ]
     },
     "metadata": {},
     "output_type": "display_data"
    },
    {
     "data": {
      "application/vnd.jupyter.widget-view+json": {
       "model_id": "1ea5cf4b34a04c0098eef7eac7abab15",
       "version_major": 2,
       "version_minor": 0
      },
      "text/plain": [
       "VBox(children=(Label(value='0.000 MB of 0.000 MB uploaded (0.000 MB deduped)\\r'), FloatProgress(value=1.0, max…"
      ]
     },
     "metadata": {},
     "output_type": "display_data"
    },
    {
     "data": {
      "text/html": [
       "<style>\n",
       "    table.wandb td:nth-child(1) { padding: 0 10px; text-align: left ; width: auto;} td:nth-child(2) {text-align: left ; width: 100%}\n",
       "    .wandb-row { display: flex; flex-direction: row; flex-wrap: wrap; justify-content: flex-start; width: 100% }\n",
       "    .wandb-col { display: flex; flex-direction: column; flex-basis: 100%; flex: 1; padding: 10px; }\n",
       "    </style>\n",
       "<div class=\"wandb-row\"><div class=\"wandb-col\"><h3>Run history:</h3><br/><table class=\"wandb\"><tr><td>epoch</td><td>▁▁▂▂▂▃▃▄▄▄▅▅▅▆▆▇▇▇██</td></tr><tr><td>train accuracy</td><td>▁▃▄▄▅▅▆▆▆▇▇▇▇▇██████</td></tr><tr><td>train loss</td><td>█▆▄▆▂▄▂▃▄▂▂▂▅▃▃▂▁▂▂▁</td></tr><tr><td>valid accuracy</td><td>▁▃▄▆▆▆▆▇▇▇▇▇▇███████</td></tr></table><br/></div><div class=\"wandb-col\"><h3>Run summary:</h3><br/><table class=\"wandb\"><tr><td>epoch</td><td>20</td></tr><tr><td>train accuracy</td><td>32.98438</td></tr><tr><td>train loss</td><td>0.60093</td></tr><tr><td>valid accuracy</td><td>30.88379</td></tr></table><br/></div></div>"
      ],
      "text/plain": [
       "<IPython.core.display.HTML object>"
      ]
     },
     "metadata": {},
     "output_type": "display_data"
    },
    {
     "data": {
      "text/html": [
       " View run <strong style=\"color:#cdcd00\">logical-sweep-10</strong> at: <a href='https://wandb.ai/am22s020/Assignment%203/runs/srmmb8oz' target=\"_blank\">https://wandb.ai/am22s020/Assignment%203/runs/srmmb8oz</a><br/>Synced 3 W&B file(s), 0 media file(s), 0 artifact file(s) and 0 other file(s)"
      ],
      "text/plain": [
       "<IPython.core.display.HTML object>"
      ]
     },
     "metadata": {},
     "output_type": "display_data"
    },
    {
     "data": {
      "text/html": [
       "Find logs at: <code>.\\wandb\\run-20230508_084217-srmmb8oz\\logs</code>"
      ],
      "text/plain": [
       "<IPython.core.display.HTML object>"
      ]
     },
     "metadata": {},
     "output_type": "display_data"
    },
    {
     "name": "stderr",
     "output_type": "stream",
     "text": [
      "\u001b[34m\u001b[1mwandb\u001b[0m: Sweep Agent: Waiting for job.\n",
      "\u001b[34m\u001b[1mwandb\u001b[0m: Job received.\n",
      "\u001b[34m\u001b[1mwandb\u001b[0m: Agent Starting Run: y23o7qop with config:\n",
      "\u001b[34m\u001b[1mwandb\u001b[0m: \tbi_dir: False\n",
      "\u001b[34m\u001b[1mwandb\u001b[0m: \tcell_type: gru\n",
      "\u001b[34m\u001b[1mwandb\u001b[0m: \tdropout: 0.3\n",
      "\u001b[34m\u001b[1mwandb\u001b[0m: \tembed_size: 64\n",
      "\u001b[34m\u001b[1mwandb\u001b[0m: \thidden_size: 256\n",
      "\u001b[34m\u001b[1mwandb\u001b[0m: \tnum_epochs: 15\n",
      "\u001b[34m\u001b[1mwandb\u001b[0m: \tnum_layers: 4\n",
      "\u001b[34m\u001b[1mwandb\u001b[0m: \u001b[33mWARNING\u001b[0m Ignored wandb.init() arg project when running a sweep.\n"
     ]
    },
    {
     "data": {
      "application/vnd.jupyter.widget-view+json": {
       "model_id": "b2f65163efd049a3914985aa513c95c3",
       "version_major": 2,
       "version_minor": 0
      },
      "text/plain": [
       "VBox(children=(Label(value='Waiting for wandb.init()...\\r'), FloatProgress(value=0.01693333333338766, max=1.0)…"
      ]
     },
     "metadata": {},
     "output_type": "display_data"
    },
    {
     "data": {
      "text/html": [
       "wandb version 0.15.2 is available!  To upgrade, please run:\n",
       " $ pip install wandb --upgrade"
      ],
      "text/plain": [
       "<IPython.core.display.HTML object>"
      ]
     },
     "metadata": {},
     "output_type": "display_data"
    },
    {
     "data": {
      "text/html": [
       "Tracking run with wandb version 0.13.11"
      ],
      "text/plain": [
       "<IPython.core.display.HTML object>"
      ]
     },
     "metadata": {},
     "output_type": "display_data"
    },
    {
     "data": {
      "text/html": [
       "Run data is saved locally in <code>C:\\Users\\HICLIPS-ASK\\wandb\\run-20230508_102233-y23o7qop</code>"
      ],
      "text/plain": [
       "<IPython.core.display.HTML object>"
      ]
     },
     "metadata": {},
     "output_type": "display_data"
    },
    {
     "data": {
      "text/html": [
       "Resuming run <strong><a href='https://wandb.ai/am22s020/Assignment%203/runs/y23o7qop' target=\"_blank\">polar-sweep-11</a></strong> to <a href='https://wandb.ai/am22s020/Assignment%203' target=\"_blank\">Weights & Biases</a> (<a href='https://wandb.me/run' target=\"_blank\">docs</a>)<br/>Sweep page: <a href='https://wandb.ai/am22s020/Assignment%203/sweeps/a7mxe1u0' target=\"_blank\">https://wandb.ai/am22s020/Assignment%203/sweeps/a7mxe1u0</a>"
      ],
      "text/plain": [
       "<IPython.core.display.HTML object>"
      ]
     },
     "metadata": {},
     "output_type": "display_data"
    },
    {
     "data": {
      "text/html": [
       " View project at <a href='https://wandb.ai/am22s020/Assignment%203' target=\"_blank\">https://wandb.ai/am22s020/Assignment%203</a>"
      ],
      "text/plain": [
       "<IPython.core.display.HTML object>"
      ]
     },
     "metadata": {},
     "output_type": "display_data"
    },
    {
     "data": {
      "text/html": [
       " View sweep at <a href='https://wandb.ai/am22s020/Assignment%203/sweeps/a7mxe1u0' target=\"_blank\">https://wandb.ai/am22s020/Assignment%203/sweeps/a7mxe1u0</a>"
      ],
      "text/plain": [
       "<IPython.core.display.HTML object>"
      ]
     },
     "metadata": {},
     "output_type": "display_data"
    },
    {
     "data": {
      "text/html": [
       " View run at <a href='https://wandb.ai/am22s020/Assignment%203/runs/y23o7qop' target=\"_blank\">https://wandb.ai/am22s020/Assignment%203/runs/y23o7qop</a>"
      ],
      "text/plain": [
       "<IPython.core.display.HTML object>"
      ]
     },
     "metadata": {},
     "output_type": "display_data"
    },
    {
     "name": "stdout",
     "output_type": "stream",
     "text": [
      "cell_gru_nl_4_hs_256_e_15_bd_False_dr_0.3_ems_64\n",
      "Epoch:  1 / 15\n",
      "Training Loss:  1.4826678037643433\n",
      "Epoch:  2 / 15\n",
      "Training Loss:  1.1584174633026123\n",
      "Epoch:  3 / 15\n",
      "Training Loss:  0.8403890132904053\n",
      "Epoch:  4 / 15\n",
      "Training Loss:  1.1312596797943115\n",
      "Epoch:  5 / 15\n",
      "Training Loss:  0.7296562194824219\n",
      "Epoch:  6 / 15\n",
      "Training Loss:  0.6861956119537354\n",
      "Epoch:  7 / 15\n",
      "Training Loss:  0.7419924139976501\n",
      "Epoch:  8 / 15\n",
      "Training Loss:  0.6498790383338928\n",
      "Epoch:  9 / 15\n",
      "Training Loss:  0.7450131773948669\n",
      "Epoch:  10 / 15\n",
      "Training Loss:  0.656376838684082\n",
      "Epoch:  11 / 15\n",
      "Training Loss:  0.6276252865791321\n",
      "Epoch:  12 / 15\n",
      "Training Loss:  0.6139034628868103\n",
      "Epoch:  13 / 15\n",
      "Training Loss:  0.7513092160224915\n",
      "Epoch:  14 / 15\n",
      "Training Loss:  0.560623288154602\n",
      "Epoch:  15 / 15\n",
      "Training Loss:  0.5683655142784119\n"
     ]
    },
    {
     "data": {
      "text/html": [
       "Waiting for W&B process to finish... <strong style=\"color:green\">(success).</strong>"
      ],
      "text/plain": [
       "<IPython.core.display.HTML object>"
      ]
     },
     "metadata": {},
     "output_type": "display_data"
    },
    {
     "data": {
      "application/vnd.jupyter.widget-view+json": {
       "model_id": "6a3bd8ae898b4e3784b6274939bac887",
       "version_major": 2,
       "version_minor": 0
      },
      "text/plain": [
       "VBox(children=(Label(value='0.000 MB of 0.000 MB uploaded (0.000 MB deduped)\\r'), FloatProgress(value=1.0, max…"
      ]
     },
     "metadata": {},
     "output_type": "display_data"
    },
    {
     "data": {
      "text/html": [
       "<style>\n",
       "    table.wandb td:nth-child(1) { padding: 0 10px; text-align: left ; width: auto;} td:nth-child(2) {text-align: left ; width: 100%}\n",
       "    .wandb-row { display: flex; flex-direction: row; flex-wrap: wrap; justify-content: flex-start; width: 100% }\n",
       "    .wandb-col { display: flex; flex-direction: column; flex-basis: 100%; flex: 1; padding: 10px; }\n",
       "    </style>\n",
       "<div class=\"wandb-row\"><div class=\"wandb-col\"><h3>Run history:</h3><br/><table class=\"wandb\"><tr><td>epoch</td><td>▁▁▂▃▃▃▄▅▅▅▆▇▇▇█</td></tr><tr><td>train accuracy</td><td>▁▃▄▅▅▆▆▇▇▇▇████</td></tr><tr><td>train loss</td><td>█▆▃▅▂▂▂▂▂▂▂▁▂▁▁</td></tr><tr><td>valid accuracy</td><td>▁▃▅▆▅▇▆▇▇▇█████</td></tr></table><br/></div><div class=\"wandb-col\"><h3>Run summary:</h3><br/><table class=\"wandb\"><tr><td>epoch</td><td>15</td></tr><tr><td>train accuracy</td><td>43.17969</td></tr><tr><td>train loss</td><td>0.56837</td></tr><tr><td>valid accuracy</td><td>35.62012</td></tr></table><br/></div></div>"
      ],
      "text/plain": [
       "<IPython.core.display.HTML object>"
      ]
     },
     "metadata": {},
     "output_type": "display_data"
    },
    {
     "data": {
      "text/html": [
       " View run <strong style=\"color:#cdcd00\">polar-sweep-11</strong> at: <a href='https://wandb.ai/am22s020/Assignment%203/runs/y23o7qop' target=\"_blank\">https://wandb.ai/am22s020/Assignment%203/runs/y23o7qop</a><br/>Synced 3 W&B file(s), 0 media file(s), 0 artifact file(s) and 0 other file(s)"
      ],
      "text/plain": [
       "<IPython.core.display.HTML object>"
      ]
     },
     "metadata": {},
     "output_type": "display_data"
    },
    {
     "data": {
      "text/html": [
       "Find logs at: <code>.\\wandb\\run-20230508_102233-y23o7qop\\logs</code>"
      ],
      "text/plain": [
       "<IPython.core.display.HTML object>"
      ]
     },
     "metadata": {},
     "output_type": "display_data"
    },
    {
     "name": "stderr",
     "output_type": "stream",
     "text": [
      "\u001b[34m\u001b[1mwandb\u001b[0m: Agent Starting Run: 37wllc3l with config:\n",
      "\u001b[34m\u001b[1mwandb\u001b[0m: \tbi_dir: True\n",
      "\u001b[34m\u001b[1mwandb\u001b[0m: \tcell_type: lstm\n",
      "\u001b[34m\u001b[1mwandb\u001b[0m: \tdropout: 0.5\n",
      "\u001b[34m\u001b[1mwandb\u001b[0m: \tembed_size: 256\n",
      "\u001b[34m\u001b[1mwandb\u001b[0m: \thidden_size: 64\n",
      "\u001b[34m\u001b[1mwandb\u001b[0m: \tnum_epochs: 20\n",
      "\u001b[34m\u001b[1mwandb\u001b[0m: \tnum_layers: 4\n",
      "\u001b[34m\u001b[1mwandb\u001b[0m: \u001b[33mWARNING\u001b[0m Ignored wandb.init() arg project when running a sweep.\n"
     ]
    },
    {
     "data": {
      "text/html": [
       "wandb version 0.15.2 is available!  To upgrade, please run:\n",
       " $ pip install wandb --upgrade"
      ],
      "text/plain": [
       "<IPython.core.display.HTML object>"
      ]
     },
     "metadata": {},
     "output_type": "display_data"
    },
    {
     "data": {
      "text/html": [
       "Tracking run with wandb version 0.13.11"
      ],
      "text/plain": [
       "<IPython.core.display.HTML object>"
      ]
     },
     "metadata": {},
     "output_type": "display_data"
    },
    {
     "data": {
      "text/html": [
       "Run data is saved locally in <code>C:\\Users\\HICLIPS-ASK\\wandb\\run-20230508_115256-37wllc3l</code>"
      ],
      "text/plain": [
       "<IPython.core.display.HTML object>"
      ]
     },
     "metadata": {},
     "output_type": "display_data"
    },
    {
     "data": {
      "text/html": [
       "Resuming run <strong><a href='https://wandb.ai/am22s020/Assignment%203/runs/37wllc3l' target=\"_blank\">good-sweep-12</a></strong> to <a href='https://wandb.ai/am22s020/Assignment%203' target=\"_blank\">Weights & Biases</a> (<a href='https://wandb.me/run' target=\"_blank\">docs</a>)<br/>Sweep page: <a href='https://wandb.ai/am22s020/Assignment%203/sweeps/a7mxe1u0' target=\"_blank\">https://wandb.ai/am22s020/Assignment%203/sweeps/a7mxe1u0</a>"
      ],
      "text/plain": [
       "<IPython.core.display.HTML object>"
      ]
     },
     "metadata": {},
     "output_type": "display_data"
    },
    {
     "data": {
      "text/html": [
       " View project at <a href='https://wandb.ai/am22s020/Assignment%203' target=\"_blank\">https://wandb.ai/am22s020/Assignment%203</a>"
      ],
      "text/plain": [
       "<IPython.core.display.HTML object>"
      ]
     },
     "metadata": {},
     "output_type": "display_data"
    },
    {
     "data": {
      "text/html": [
       " View sweep at <a href='https://wandb.ai/am22s020/Assignment%203/sweeps/a7mxe1u0' target=\"_blank\">https://wandb.ai/am22s020/Assignment%203/sweeps/a7mxe1u0</a>"
      ],
      "text/plain": [
       "<IPython.core.display.HTML object>"
      ]
     },
     "metadata": {},
     "output_type": "display_data"
    },
    {
     "data": {
      "text/html": [
       " View run at <a href='https://wandb.ai/am22s020/Assignment%203/runs/37wllc3l' target=\"_blank\">https://wandb.ai/am22s020/Assignment%203/runs/37wllc3l</a>"
      ],
      "text/plain": [
       "<IPython.core.display.HTML object>"
      ]
     },
     "metadata": {},
     "output_type": "display_data"
    },
    {
     "name": "stdout",
     "output_type": "stream",
     "text": [
      "cell_lstm_nl_4_hs_64_e_20_bd_True_dr_0.5_ems_256\n",
      "Epoch:  1 / 20\n",
      "Training Loss:  2.621673107147217\n",
      "Epoch:  2 / 20\n",
      "Training Loss:  2.031122922897339\n",
      "Epoch:  3 / 20\n",
      "Training Loss:  1.6848623752593994\n",
      "Epoch:  4 / 20\n",
      "Training Loss:  1.4482020139694214\n",
      "Epoch:  5 / 20\n",
      "Training Loss:  1.2691023349761963\n",
      "Epoch:  6 / 20\n",
      "Training Loss:  1.2989557981491089\n",
      "Epoch:  7 / 20\n",
      "Training Loss:  1.2238961458206177\n",
      "Epoch:  8 / 20\n",
      "Training Loss:  1.0449508428573608\n",
      "Epoch:  9 / 20\n",
      "Training Loss:  1.070694088935852\n",
      "Epoch:  10 / 20\n",
      "Training Loss:  0.8999118804931641\n",
      "Epoch:  11 / 20\n",
      "Training Loss:  1.1086604595184326\n",
      "Epoch:  12 / 20\n",
      "Training Loss:  0.8795908093452454\n",
      "Epoch:  13 / 20\n",
      "Training Loss:  0.8477621674537659\n",
      "Epoch:  14 / 20\n",
      "Training Loss:  1.0488002300262451\n",
      "Epoch:  15 / 20\n",
      "Training Loss:  0.944308876991272\n",
      "Epoch:  16 / 20\n",
      "Training Loss:  0.795745849609375\n",
      "Epoch:  17 / 20\n",
      "Training Loss:  0.8276112675666809\n",
      "Epoch:  18 / 20\n",
      "Training Loss:  0.8584467768669128\n",
      "Epoch:  19 / 20\n",
      "Training Loss:  0.8635779023170471\n",
      "Epoch:  20 / 20\n",
      "Training Loss:  0.8189382553100586\n"
     ]
    },
    {
     "data": {
      "text/html": [
       "Waiting for W&B process to finish... <strong style=\"color:green\">(success).</strong>"
      ],
      "text/plain": [
       "<IPython.core.display.HTML object>"
      ]
     },
     "metadata": {},
     "output_type": "display_data"
    },
    {
     "data": {
      "application/vnd.jupyter.widget-view+json": {
       "model_id": "5921cae090db44dfb0af63e5d70c7f94",
       "version_major": 2,
       "version_minor": 0
      },
      "text/plain": [
       "VBox(children=(Label(value='0.000 MB of 0.000 MB uploaded (0.000 MB deduped)\\r'), FloatProgress(value=1.0, max…"
      ]
     },
     "metadata": {},
     "output_type": "display_data"
    },
    {
     "data": {
      "text/html": [
       "<style>\n",
       "    table.wandb td:nth-child(1) { padding: 0 10px; text-align: left ; width: auto;} td:nth-child(2) {text-align: left ; width: 100%}\n",
       "    .wandb-row { display: flex; flex-direction: row; flex-wrap: wrap; justify-content: flex-start; width: 100% }\n",
       "    .wandb-col { display: flex; flex-direction: column; flex-basis: 100%; flex: 1; padding: 10px; }\n",
       "    </style>\n",
       "<div class=\"wandb-row\"><div class=\"wandb-col\"><h3>Run history:</h3><br/><table class=\"wandb\"><tr><td>epoch</td><td>▁▁▂▂▂▃▃▄▄▄▅▅▅▆▆▇▇▇██</td></tr><tr><td>train accuracy</td><td>▁▁▂▃▄▄▅▅▅▆▆▆▇▇▇▇▇███</td></tr><tr><td>train loss</td><td>█▆▄▄▃▃▃▂▂▁▂▁▁▂▂▁▁▁▁▁</td></tr><tr><td>valid accuracy</td><td>▁▁▃▃▄▅▅▆▆▆▇▇▇▇▇▇████</td></tr></table><br/></div><div class=\"wandb-col\"><h3>Run summary:</h3><br/><table class=\"wandb\"><tr><td>epoch</td><td>20</td></tr><tr><td>train accuracy</td><td>28.8418</td></tr><tr><td>train loss</td><td>0.81894</td></tr><tr><td>valid accuracy</td><td>31.90918</td></tr></table><br/></div></div>"
      ],
      "text/plain": [
       "<IPython.core.display.HTML object>"
      ]
     },
     "metadata": {},
     "output_type": "display_data"
    },
    {
     "data": {
      "text/html": [
       " View run <strong style=\"color:#cdcd00\">good-sweep-12</strong> at: <a href='https://wandb.ai/am22s020/Assignment%203/runs/37wllc3l' target=\"_blank\">https://wandb.ai/am22s020/Assignment%203/runs/37wllc3l</a><br/>Synced 3 W&B file(s), 0 media file(s), 0 artifact file(s) and 0 other file(s)"
      ],
      "text/plain": [
       "<IPython.core.display.HTML object>"
      ]
     },
     "metadata": {},
     "output_type": "display_data"
    },
    {
     "data": {
      "text/html": [
       "Find logs at: <code>.\\wandb\\run-20230508_115256-37wllc3l\\logs</code>"
      ],
      "text/plain": [
       "<IPython.core.display.HTML object>"
      ]
     },
     "metadata": {},
     "output_type": "display_data"
    },
    {
     "name": "stderr",
     "output_type": "stream",
     "text": [
      "\u001b[34m\u001b[1mwandb\u001b[0m: Sweep Agent: Waiting for job.\n",
      "\u001b[34m\u001b[1mwandb\u001b[0m: Job received.\n",
      "\u001b[34m\u001b[1mwandb\u001b[0m: Agent Starting Run: px879v65 with config:\n",
      "\u001b[34m\u001b[1mwandb\u001b[0m: \tbi_dir: True\n",
      "\u001b[34m\u001b[1mwandb\u001b[0m: \tcell_type: rnn\n",
      "\u001b[34m\u001b[1mwandb\u001b[0m: \tdropout: 0.3\n",
      "\u001b[34m\u001b[1mwandb\u001b[0m: \tembed_size: 64\n",
      "\u001b[34m\u001b[1mwandb\u001b[0m: \thidden_size: 64\n",
      "\u001b[34m\u001b[1mwandb\u001b[0m: \tnum_epochs: 20\n",
      "\u001b[34m\u001b[1mwandb\u001b[0m: \tnum_layers: 4\n",
      "\u001b[34m\u001b[1mwandb\u001b[0m: \u001b[33mWARNING\u001b[0m Ignored wandb.init() arg project when running a sweep.\n"
     ]
    },
    {
     "data": {
      "application/vnd.jupyter.widget-view+json": {
       "model_id": "38c5b42ef6c6498fb4f19b51085e46e3",
       "version_major": 2,
       "version_minor": 0
      },
      "text/plain": [
       "VBox(children=(Label(value='Waiting for wandb.init()...\\r'), FloatProgress(value=0.016666666666666666, max=1.0…"
      ]
     },
     "metadata": {},
     "output_type": "display_data"
    },
    {
     "data": {
      "text/html": [
       "wandb version 0.15.2 is available!  To upgrade, please run:\n",
       " $ pip install wandb --upgrade"
      ],
      "text/plain": [
       "<IPython.core.display.HTML object>"
      ]
     },
     "metadata": {},
     "output_type": "display_data"
    },
    {
     "data": {
      "text/html": [
       "Tracking run with wandb version 0.13.11"
      ],
      "text/plain": [
       "<IPython.core.display.HTML object>"
      ]
     },
     "metadata": {},
     "output_type": "display_data"
    },
    {
     "data": {
      "text/html": [
       "Run data is saved locally in <code>C:\\Users\\HICLIPS-ASK\\wandb\\run-20230508_133600-px879v65</code>"
      ],
      "text/plain": [
       "<IPython.core.display.HTML object>"
      ]
     },
     "metadata": {},
     "output_type": "display_data"
    },
    {
     "data": {
      "text/html": [
       "Resuming run <strong><a href='https://wandb.ai/am22s020/Assignment%203/runs/px879v65' target=\"_blank\">leafy-sweep-13</a></strong> to <a href='https://wandb.ai/am22s020/Assignment%203' target=\"_blank\">Weights & Biases</a> (<a href='https://wandb.me/run' target=\"_blank\">docs</a>)<br/>Sweep page: <a href='https://wandb.ai/am22s020/Assignment%203/sweeps/a7mxe1u0' target=\"_blank\">https://wandb.ai/am22s020/Assignment%203/sweeps/a7mxe1u0</a>"
      ],
      "text/plain": [
       "<IPython.core.display.HTML object>"
      ]
     },
     "metadata": {},
     "output_type": "display_data"
    },
    {
     "data": {
      "text/html": [
       " View project at <a href='https://wandb.ai/am22s020/Assignment%203' target=\"_blank\">https://wandb.ai/am22s020/Assignment%203</a>"
      ],
      "text/plain": [
       "<IPython.core.display.HTML object>"
      ]
     },
     "metadata": {},
     "output_type": "display_data"
    },
    {
     "data": {
      "text/html": [
       " View sweep at <a href='https://wandb.ai/am22s020/Assignment%203/sweeps/a7mxe1u0' target=\"_blank\">https://wandb.ai/am22s020/Assignment%203/sweeps/a7mxe1u0</a>"
      ],
      "text/plain": [
       "<IPython.core.display.HTML object>"
      ]
     },
     "metadata": {},
     "output_type": "display_data"
    },
    {
     "data": {
      "text/html": [
       " View run at <a href='https://wandb.ai/am22s020/Assignment%203/runs/px879v65' target=\"_blank\">https://wandb.ai/am22s020/Assignment%203/runs/px879v65</a>"
      ],
      "text/plain": [
       "<IPython.core.display.HTML object>"
      ]
     },
     "metadata": {},
     "output_type": "display_data"
    },
    {
     "name": "stdout",
     "output_type": "stream",
     "text": [
      "cell_rnn_nl_4_hs_64_e_20_bd_True_dr_0.3_ems_64\n",
      "Epoch:  1 / 20\n",
      "Training Loss:  2.2962074279785156\n",
      "Epoch:  2 / 20\n",
      "Training Loss:  2.0648813247680664\n",
      "Epoch:  3 / 20\n",
      "Training Loss:  1.97859525680542\n",
      "Epoch:  4 / 20\n",
      "Training Loss:  1.8033088445663452\n",
      "Epoch:  5 / 20\n",
      "Training Loss:  1.6661126613616943\n",
      "Epoch:  6 / 20\n",
      "Training Loss:  1.838710904121399\n"
     ]
    },
    {
     "data": {
      "text/html": [
       "Waiting for W&B process to finish... <strong style=\"color:red\">(failed 1).</strong> Press Ctrl-C to abort syncing."
      ],
      "text/plain": [
       "<IPython.core.display.HTML object>"
      ]
     },
     "metadata": {},
     "output_type": "display_data"
    },
    {
     "data": {
      "application/vnd.jupyter.widget-view+json": {
       "model_id": "7dd150fa7bf24df9ad2a154fd1170be6",
       "version_major": 2,
       "version_minor": 0
      },
      "text/plain": [
       "VBox(children=(Label(value='0.000 MB of 0.000 MB uploaded (0.000 MB deduped)\\r'), FloatProgress(value=1.0, max…"
      ]
     },
     "metadata": {},
     "output_type": "display_data"
    },
    {
     "data": {
      "text/html": [
       "<style>\n",
       "    table.wandb td:nth-child(1) { padding: 0 10px; text-align: left ; width: auto;} td:nth-child(2) {text-align: left ; width: 100%}\n",
       "    .wandb-row { display: flex; flex-direction: row; flex-wrap: wrap; justify-content: flex-start; width: 100% }\n",
       "    .wandb-col { display: flex; flex-direction: column; flex-basis: 100%; flex: 1; padding: 10px; }\n",
       "    </style>\n",
       "<div class=\"wandb-row\"><div class=\"wandb-col\"><h3>Run history:</h3><br/><table class=\"wandb\"><tr><td>epoch</td><td>▁▃▅▆█</td></tr><tr><td>train accuracy</td><td>▅▁▁█▅</td></tr><tr><td>train loss</td><td>█▅▄▃▁</td></tr><tr><td>valid accuracy</td><td>▁▁▁▁▁</td></tr></table><br/></div><div class=\"wandb-col\"><h3>Run summary:</h3><br/><table class=\"wandb\"><tr><td>epoch</td><td>5</td></tr><tr><td>train accuracy</td><td>0.00195</td></tr><tr><td>train loss</td><td>1.66611</td></tr><tr><td>valid accuracy</td><td>0.0</td></tr></table><br/></div></div>"
      ],
      "text/plain": [
       "<IPython.core.display.HTML object>"
      ]
     },
     "metadata": {},
     "output_type": "display_data"
    },
    {
     "data": {
      "text/html": [
       " View run <strong style=\"color:#cdcd00\">leafy-sweep-13</strong> at: <a href='https://wandb.ai/am22s020/Assignment%203/runs/px879v65' target=\"_blank\">https://wandb.ai/am22s020/Assignment%203/runs/px879v65</a><br/>Synced 3 W&B file(s), 0 media file(s), 0 artifact file(s) and 0 other file(s)"
      ],
      "text/plain": [
       "<IPython.core.display.HTML object>"
      ]
     },
     "metadata": {},
     "output_type": "display_data"
    },
    {
     "data": {
      "text/html": [
       "Find logs at: <code>.\\wandb\\run-20230508_133600-px879v65\\logs</code>"
      ],
      "text/plain": [
       "<IPython.core.display.HTML object>"
      ]
     },
     "metadata": {},
     "output_type": "display_data"
    },
    {
     "name": "stderr",
     "output_type": "stream",
     "text": [
      "\u001b[34m\u001b[1mwandb\u001b[0m: Agent Starting Run: uke5c7fw with config:\n",
      "\u001b[34m\u001b[1mwandb\u001b[0m: \tbi_dir: True\n",
      "\u001b[34m\u001b[1mwandb\u001b[0m: \tcell_type: gru\n",
      "\u001b[34m\u001b[1mwandb\u001b[0m: \tdropout: 0.5\n",
      "\u001b[34m\u001b[1mwandb\u001b[0m: \tembed_size: 128\n",
      "\u001b[34m\u001b[1mwandb\u001b[0m: \thidden_size: 64\n",
      "\u001b[34m\u001b[1mwandb\u001b[0m: \tnum_epochs: 15\n",
      "\u001b[34m\u001b[1mwandb\u001b[0m: \tnum_layers: 3\n",
      "\u001b[34m\u001b[1mwandb\u001b[0m: \u001b[33mWARNING\u001b[0m Ignored wandb.init() arg project when running a sweep.\n",
      "\u001b[34m\u001b[1mwandb\u001b[0m: \u001b[33mWARNING\u001b[0m Tried to auto resume run with id px879v65 but id uke5c7fw is set.\n"
     ]
    },
    {
     "data": {
      "application/vnd.jupyter.widget-view+json": {
       "model_id": "16b42fd8f1b44252a73af8ab02c47dc7",
       "version_major": 2,
       "version_minor": 0
      },
      "text/plain": [
       "VBox(children=(Label(value='Waiting for wandb.init()...\\r'), FloatProgress(value=0.016666666666666666, max=1.0…"
      ]
     },
     "metadata": {},
     "output_type": "display_data"
    },
    {
     "data": {
      "text/html": [
       "wandb version 0.15.2 is available!  To upgrade, please run:\n",
       " $ pip install wandb --upgrade"
      ],
      "text/plain": [
       "<IPython.core.display.HTML object>"
      ]
     },
     "metadata": {},
     "output_type": "display_data"
    },
    {
     "data": {
      "text/html": [
       "Tracking run with wandb version 0.13.11"
      ],
      "text/plain": [
       "<IPython.core.display.HTML object>"
      ]
     },
     "metadata": {},
     "output_type": "display_data"
    },
    {
     "data": {
      "text/html": [
       "Run data is saved locally in <code>C:\\Users\\HICLIPS-ASK\\wandb\\run-20230508_141947-uke5c7fw</code>"
      ],
      "text/plain": [
       "<IPython.core.display.HTML object>"
      ]
     },
     "metadata": {},
     "output_type": "display_data"
    },
    {
     "data": {
      "text/html": [
       "Resuming run <strong><a href='https://wandb.ai/am22s020/Assignment%203/runs/uke5c7fw' target=\"_blank\">fearless-sweep-14</a></strong> to <a href='https://wandb.ai/am22s020/Assignment%203' target=\"_blank\">Weights & Biases</a> (<a href='https://wandb.me/run' target=\"_blank\">docs</a>)<br/>Sweep page: <a href='https://wandb.ai/am22s020/Assignment%203/sweeps/a7mxe1u0' target=\"_blank\">https://wandb.ai/am22s020/Assignment%203/sweeps/a7mxe1u0</a>"
      ],
      "text/plain": [
       "<IPython.core.display.HTML object>"
      ]
     },
     "metadata": {},
     "output_type": "display_data"
    },
    {
     "data": {
      "text/html": [
       " View project at <a href='https://wandb.ai/am22s020/Assignment%203' target=\"_blank\">https://wandb.ai/am22s020/Assignment%203</a>"
      ],
      "text/plain": [
       "<IPython.core.display.HTML object>"
      ]
     },
     "metadata": {},
     "output_type": "display_data"
    },
    {
     "data": {
      "text/html": [
       " View sweep at <a href='https://wandb.ai/am22s020/Assignment%203/sweeps/a7mxe1u0' target=\"_blank\">https://wandb.ai/am22s020/Assignment%203/sweeps/a7mxe1u0</a>"
      ],
      "text/plain": [
       "<IPython.core.display.HTML object>"
      ]
     },
     "metadata": {},
     "output_type": "display_data"
    },
    {
     "data": {
      "text/html": [
       " View run at <a href='https://wandb.ai/am22s020/Assignment%203/runs/uke5c7fw' target=\"_blank\">https://wandb.ai/am22s020/Assignment%203/runs/uke5c7fw</a>"
      ],
      "text/plain": [
       "<IPython.core.display.HTML object>"
      ]
     },
     "metadata": {},
     "output_type": "display_data"
    },
    {
     "name": "stdout",
     "output_type": "stream",
     "text": [
      "cell_gru_nl_3_hs_64_e_15_bd_True_dr_0.5_ems_128\n",
      "Epoch:  1 / 15\n",
      "Training Loss:  2.064755916595459\n",
      "Epoch:  2 / 15\n",
      "Training Loss:  1.7709590196609497\n",
      "Epoch:  3 / 15\n",
      "Training Loss:  1.862329125404358\n",
      "Epoch:  4 / 15\n",
      "Training Loss:  1.4062758684158325\n",
      "Epoch:  5 / 15\n",
      "Training Loss:  1.3275519609451294\n",
      "Epoch:  6 / 15\n",
      "Training Loss:  1.4658101797103882\n",
      "Epoch:  7 / 15\n",
      "Training Loss:  1.1509983539581299\n",
      "Epoch:  8 / 15\n",
      "Training Loss:  0.9444053769111633\n",
      "Epoch:  9 / 15\n",
      "Training Loss:  1.0004630088806152\n",
      "Epoch:  10 / 15\n",
      "Training Loss:  1.1278265714645386\n",
      "Epoch:  11 / 15\n",
      "Training Loss:  1.2420284748077393\n",
      "Epoch:  12 / 15\n",
      "Training Loss:  1.1983771324157715\n",
      "Epoch:  13 / 15\n",
      "Training Loss:  1.100089192390442\n",
      "Epoch:  14 / 15\n",
      "Training Loss:  1.0170081853866577\n",
      "Epoch:  15 / 15\n",
      "Training Loss:  0.9840360879898071\n"
     ]
    },
    {
     "data": {
      "text/html": [
       "Waiting for W&B process to finish... <strong style=\"color:green\">(success).</strong>"
      ],
      "text/plain": [
       "<IPython.core.display.HTML object>"
      ]
     },
     "metadata": {},
     "output_type": "display_data"
    },
    {
     "data": {
      "application/vnd.jupyter.widget-view+json": {
       "model_id": "5f675a019b484fecb324ebbbd25b4340",
       "version_major": 2,
       "version_minor": 0
      },
      "text/plain": [
       "VBox(children=(Label(value='0.000 MB of 0.000 MB uploaded (0.000 MB deduped)\\r'), FloatProgress(value=1.0, max…"
      ]
     },
     "metadata": {},
     "output_type": "display_data"
    },
    {
     "data": {
      "text/html": [
       "<style>\n",
       "    table.wandb td:nth-child(1) { padding: 0 10px; text-align: left ; width: auto;} td:nth-child(2) {text-align: left ; width: 100%}\n",
       "    .wandb-row { display: flex; flex-direction: row; flex-wrap: wrap; justify-content: flex-start; width: 100% }\n",
       "    .wandb-col { display: flex; flex-direction: column; flex-basis: 100%; flex: 1; padding: 10px; }\n",
       "    </style>\n",
       "<div class=\"wandb-row\"><div class=\"wandb-col\"><h3>Run history:</h3><br/><table class=\"wandb\"><tr><td>epoch</td><td>▁▁▂▃▃▃▄▅▅▅▆▇▇▇█</td></tr><tr><td>train accuracy</td><td>▁▂▃▄▅▅▆▆▆▇▇████</td></tr><tr><td>train loss</td><td>█▆▇▄▃▄▂▁▁▂▃▃▂▁▁</td></tr><tr><td>valid accuracy</td><td>▁▂▃▅▅▆▆▆▇▇▇████</td></tr></table><br/></div><div class=\"wandb-col\"><h3>Run summary:</h3><br/><table class=\"wandb\"><tr><td>epoch</td><td>15</td></tr><tr><td>train accuracy</td><td>20.6582</td></tr><tr><td>train loss</td><td>0.98404</td></tr><tr><td>valid accuracy</td><td>23.90137</td></tr></table><br/></div></div>"
      ],
      "text/plain": [
       "<IPython.core.display.HTML object>"
      ]
     },
     "metadata": {},
     "output_type": "display_data"
    },
    {
     "data": {
      "text/html": [
       " View run <strong style=\"color:#cdcd00\">fearless-sweep-14</strong> at: <a href='https://wandb.ai/am22s020/Assignment%203/runs/uke5c7fw' target=\"_blank\">https://wandb.ai/am22s020/Assignment%203/runs/uke5c7fw</a><br/>Synced 3 W&B file(s), 0 media file(s), 0 artifact file(s) and 0 other file(s)"
      ],
      "text/plain": [
       "<IPython.core.display.HTML object>"
      ]
     },
     "metadata": {},
     "output_type": "display_data"
    },
    {
     "data": {
      "text/html": [
       "Find logs at: <code>.\\wandb\\run-20230508_141947-uke5c7fw\\logs</code>"
      ],
      "text/plain": [
       "<IPython.core.display.HTML object>"
      ]
     },
     "metadata": {},
     "output_type": "display_data"
    },
    {
     "name": "stderr",
     "output_type": "stream",
     "text": [
      "\u001b[34m\u001b[1mwandb\u001b[0m: Agent Starting Run: szoq8hq9 with config:\n",
      "\u001b[34m\u001b[1mwandb\u001b[0m: \tbi_dir: True\n",
      "\u001b[34m\u001b[1mwandb\u001b[0m: \tcell_type: rnn\n",
      "\u001b[34m\u001b[1mwandb\u001b[0m: \tdropout: 0.5\n",
      "\u001b[34m\u001b[1mwandb\u001b[0m: \tembed_size: 256\n",
      "\u001b[34m\u001b[1mwandb\u001b[0m: \thidden_size: 256\n",
      "\u001b[34m\u001b[1mwandb\u001b[0m: \tnum_epochs: 10\n",
      "\u001b[34m\u001b[1mwandb\u001b[0m: \tnum_layers: 3\n",
      "\u001b[34m\u001b[1mwandb\u001b[0m: \u001b[33mWARNING\u001b[0m Ignored wandb.init() arg project when running a sweep.\n"
     ]
    },
    {
     "data": {
      "application/vnd.jupyter.widget-view+json": {
       "model_id": "03211d3a68704c199a6999325da03285",
       "version_major": 2,
       "version_minor": 0
      },
      "text/plain": [
       "VBox(children=(Label(value='Waiting for wandb.init()...\\r'), FloatProgress(value=0.016916666666656966, max=1.0…"
      ]
     },
     "metadata": {},
     "output_type": "display_data"
    },
    {
     "data": {
      "text/html": [
       "wandb version 0.15.2 is available!  To upgrade, please run:\n",
       " $ pip install wandb --upgrade"
      ],
      "text/plain": [
       "<IPython.core.display.HTML object>"
      ]
     },
     "metadata": {},
     "output_type": "display_data"
    },
    {
     "data": {
      "text/html": [
       "Tracking run with wandb version 0.13.11"
      ],
      "text/plain": [
       "<IPython.core.display.HTML object>"
      ]
     },
     "metadata": {},
     "output_type": "display_data"
    },
    {
     "data": {
      "text/html": [
       "Run data is saved locally in <code>C:\\Users\\HICLIPS-ASK\\wandb\\run-20230508_153400-szoq8hq9</code>"
      ],
      "text/plain": [
       "<IPython.core.display.HTML object>"
      ]
     },
     "metadata": {},
     "output_type": "display_data"
    },
    {
     "data": {
      "text/html": [
       "Resuming run <strong><a href='https://wandb.ai/am22s020/Assignment%203/runs/szoq8hq9' target=\"_blank\">ancient-sweep-15</a></strong> to <a href='https://wandb.ai/am22s020/Assignment%203' target=\"_blank\">Weights & Biases</a> (<a href='https://wandb.me/run' target=\"_blank\">docs</a>)<br/>Sweep page: <a href='https://wandb.ai/am22s020/Assignment%203/sweeps/a7mxe1u0' target=\"_blank\">https://wandb.ai/am22s020/Assignment%203/sweeps/a7mxe1u0</a>"
      ],
      "text/plain": [
       "<IPython.core.display.HTML object>"
      ]
     },
     "metadata": {},
     "output_type": "display_data"
    },
    {
     "data": {
      "text/html": [
       " View project at <a href='https://wandb.ai/am22s020/Assignment%203' target=\"_blank\">https://wandb.ai/am22s020/Assignment%203</a>"
      ],
      "text/plain": [
       "<IPython.core.display.HTML object>"
      ]
     },
     "metadata": {},
     "output_type": "display_data"
    },
    {
     "data": {
      "text/html": [
       " View sweep at <a href='https://wandb.ai/am22s020/Assignment%203/sweeps/a7mxe1u0' target=\"_blank\">https://wandb.ai/am22s020/Assignment%203/sweeps/a7mxe1u0</a>"
      ],
      "text/plain": [
       "<IPython.core.display.HTML object>"
      ]
     },
     "metadata": {},
     "output_type": "display_data"
    },
    {
     "data": {
      "text/html": [
       " View run at <a href='https://wandb.ai/am22s020/Assignment%203/runs/szoq8hq9' target=\"_blank\">https://wandb.ai/am22s020/Assignment%203/runs/szoq8hq9</a>"
      ],
      "text/plain": [
       "<IPython.core.display.HTML object>"
      ]
     },
     "metadata": {},
     "output_type": "display_data"
    },
    {
     "name": "stdout",
     "output_type": "stream",
     "text": [
      "cell_rnn_nl_3_hs_256_e_10_bd_True_dr_0.5_ems_256\n",
      "Epoch:  1 / 10\n",
      "Training Loss:  1.9392850399017334\n",
      "Epoch:  2 / 10\n",
      "Training Loss:  1.835017204284668\n",
      "Epoch:  3 / 10\n",
      "Training Loss:  1.805838942527771\n",
      "Epoch:  4 / 10\n",
      "Training Loss:  1.539591908454895\n",
      "Epoch:  5 / 10\n",
      "Training Loss:  1.6093065738677979\n",
      "Epoch:  6 / 10\n",
      "Training Loss:  1.45222806930542\n",
      "Epoch:  7 / 10\n",
      "Training Loss:  1.5497193336486816\n",
      "Epoch:  8 / 10\n",
      "Training Loss:  1.7995336055755615\n",
      "Epoch:  9 / 10\n",
      "Training Loss:  1.4612292051315308\n",
      "Epoch:  10 / 10\n",
      "Training Loss:  1.5874401330947876\n"
     ]
    },
    {
     "data": {
      "text/html": [
       "Waiting for W&B process to finish... <strong style=\"color:green\">(success).</strong>"
      ],
      "text/plain": [
       "<IPython.core.display.HTML object>"
      ]
     },
     "metadata": {},
     "output_type": "display_data"
    },
    {
     "data": {
      "application/vnd.jupyter.widget-view+json": {
       "model_id": "4cf712ebfd9c4768b105374398c3272b",
       "version_major": 2,
       "version_minor": 0
      },
      "text/plain": [
       "VBox(children=(Label(value='0.000 MB of 0.000 MB uploaded (0.000 MB deduped)\\r'), FloatProgress(value=1.0, max…"
      ]
     },
     "metadata": {},
     "output_type": "display_data"
    },
    {
     "data": {
      "text/html": [
       "<style>\n",
       "    table.wandb td:nth-child(1) { padding: 0 10px; text-align: left ; width: auto;} td:nth-child(2) {text-align: left ; width: 100%}\n",
       "    .wandb-row { display: flex; flex-direction: row; flex-wrap: wrap; justify-content: flex-start; width: 100% }\n",
       "    .wandb-col { display: flex; flex-direction: column; flex-basis: 100%; flex: 1; padding: 10px; }\n",
       "    </style>\n",
       "<div class=\"wandb-row\"><div class=\"wandb-col\"><h3>Run history:</h3><br/><table class=\"wandb\"><tr><td>epoch</td><td>▁▂▃▃▄▅▆▆▇█</td></tr><tr><td>train accuracy</td><td>▁▁▁▁▂▃▂▃▇█</td></tr><tr><td>train loss</td><td>█▇▆▂▃▁▂▆▁▃</td></tr><tr><td>valid accuracy</td><td>▁▁▁▁▁▂▂▂██</td></tr></table><br/></div><div class=\"wandb-col\"><h3>Run summary:</h3><br/><table class=\"wandb\"><tr><td>epoch</td><td>10</td></tr><tr><td>train accuracy</td><td>4.03711</td></tr><tr><td>train loss</td><td>1.58744</td></tr><tr><td>valid accuracy</td><td>5.59082</td></tr></table><br/></div></div>"
      ],
      "text/plain": [
       "<IPython.core.display.HTML object>"
      ]
     },
     "metadata": {},
     "output_type": "display_data"
    },
    {
     "data": {
      "text/html": [
       " View run <strong style=\"color:#cdcd00\">ancient-sweep-15</strong> at: <a href='https://wandb.ai/am22s020/Assignment%203/runs/szoq8hq9' target=\"_blank\">https://wandb.ai/am22s020/Assignment%203/runs/szoq8hq9</a><br/>Synced 3 W&B file(s), 0 media file(s), 0 artifact file(s) and 0 other file(s)"
      ],
      "text/plain": [
       "<IPython.core.display.HTML object>"
      ]
     },
     "metadata": {},
     "output_type": "display_data"
    },
    {
     "data": {
      "text/html": [
       "Find logs at: <code>.\\wandb\\run-20230508_153400-szoq8hq9\\logs</code>"
      ],
      "text/plain": [
       "<IPython.core.display.HTML object>"
      ]
     },
     "metadata": {},
     "output_type": "display_data"
    },
    {
     "name": "stderr",
     "output_type": "stream",
     "text": [
      "\u001b[34m\u001b[1mwandb\u001b[0m: Agent Starting Run: uzqbwrk5 with config:\n",
      "\u001b[34m\u001b[1mwandb\u001b[0m: \tbi_dir: False\n",
      "\u001b[34m\u001b[1mwandb\u001b[0m: \tcell_type: gru\n",
      "\u001b[34m\u001b[1mwandb\u001b[0m: \tdropout: 0.3\n",
      "\u001b[34m\u001b[1mwandb\u001b[0m: \tembed_size: 256\n",
      "\u001b[34m\u001b[1mwandb\u001b[0m: \thidden_size: 64\n",
      "\u001b[34m\u001b[1mwandb\u001b[0m: \tnum_epochs: 10\n",
      "\u001b[34m\u001b[1mwandb\u001b[0m: \tnum_layers: 2\n",
      "\u001b[34m\u001b[1mwandb\u001b[0m: \u001b[33mWARNING\u001b[0m Ignored wandb.init() arg project when running a sweep.\n"
     ]
    },
    {
     "data": {
      "application/vnd.jupyter.widget-view+json": {
       "model_id": "b796f5f6e2364429821c6c5cd54b4da2",
       "version_major": 2,
       "version_minor": 0
      },
      "text/plain": [
       "VBox(children=(Label(value='Waiting for wandb.init()...\\r'), FloatProgress(value=0.016666666666666666, max=1.0…"
      ]
     },
     "metadata": {},
     "output_type": "display_data"
    },
    {
     "data": {
      "text/html": [
       "wandb version 0.15.2 is available!  To upgrade, please run:\n",
       " $ pip install wandb --upgrade"
      ],
      "text/plain": [
       "<IPython.core.display.HTML object>"
      ]
     },
     "metadata": {},
     "output_type": "display_data"
    },
    {
     "data": {
      "text/html": [
       "Tracking run with wandb version 0.13.11"
      ],
      "text/plain": [
       "<IPython.core.display.HTML object>"
      ]
     },
     "metadata": {},
     "output_type": "display_data"
    },
    {
     "data": {
      "text/html": [
       "Run data is saved locally in <code>C:\\Users\\HICLIPS-ASK\\wandb\\run-20230508_164002-uzqbwrk5</code>"
      ],
      "text/plain": [
       "<IPython.core.display.HTML object>"
      ]
     },
     "metadata": {},
     "output_type": "display_data"
    },
    {
     "data": {
      "text/html": [
       "Resuming run <strong><a href='https://wandb.ai/am22s020/Assignment%203/runs/uzqbwrk5' target=\"_blank\">efficient-sweep-16</a></strong> to <a href='https://wandb.ai/am22s020/Assignment%203' target=\"_blank\">Weights & Biases</a> (<a href='https://wandb.me/run' target=\"_blank\">docs</a>)<br/>Sweep page: <a href='https://wandb.ai/am22s020/Assignment%203/sweeps/a7mxe1u0' target=\"_blank\">https://wandb.ai/am22s020/Assignment%203/sweeps/a7mxe1u0</a>"
      ],
      "text/plain": [
       "<IPython.core.display.HTML object>"
      ]
     },
     "metadata": {},
     "output_type": "display_data"
    },
    {
     "data": {
      "text/html": [
       " View project at <a href='https://wandb.ai/am22s020/Assignment%203' target=\"_blank\">https://wandb.ai/am22s020/Assignment%203</a>"
      ],
      "text/plain": [
       "<IPython.core.display.HTML object>"
      ]
     },
     "metadata": {},
     "output_type": "display_data"
    },
    {
     "data": {
      "text/html": [
       " View sweep at <a href='https://wandb.ai/am22s020/Assignment%203/sweeps/a7mxe1u0' target=\"_blank\">https://wandb.ai/am22s020/Assignment%203/sweeps/a7mxe1u0</a>"
      ],
      "text/plain": [
       "<IPython.core.display.HTML object>"
      ]
     },
     "metadata": {},
     "output_type": "display_data"
    },
    {
     "data": {
      "text/html": [
       " View run at <a href='https://wandb.ai/am22s020/Assignment%203/runs/uzqbwrk5' target=\"_blank\">https://wandb.ai/am22s020/Assignment%203/runs/uzqbwrk5</a>"
      ],
      "text/plain": [
       "<IPython.core.display.HTML object>"
      ]
     },
     "metadata": {},
     "output_type": "display_data"
    },
    {
     "name": "stdout",
     "output_type": "stream",
     "text": [
      "cell_gru_nl_2_hs_64_e_10_bd_False_dr_0.3_ems_256\n",
      "Epoch:  1 / 10\n",
      "Training Loss:  2.4783942699432373\n",
      "Epoch:  2 / 10\n",
      "Training Loss:  1.9863172769546509\n",
      "Epoch:  3 / 10\n",
      "Training Loss:  1.7494693994522095\n",
      "Epoch:  4 / 10\n",
      "Training Loss:  1.7878997325897217\n",
      "Epoch:  5 / 10\n",
      "Training Loss:  1.6628986597061157\n",
      "Epoch:  6 / 10\n",
      "Training Loss:  1.5024558305740356\n",
      "Epoch:  7 / 10\n",
      "Training Loss:  1.3634305000305176\n",
      "Epoch:  8 / 10\n",
      "Training Loss:  1.3287935256958008\n",
      "Epoch:  9 / 10\n",
      "Training Loss:  1.259003758430481\n",
      "Epoch:  10 / 10\n",
      "Training Loss:  1.1827806234359741\n"
     ]
    },
    {
     "data": {
      "text/html": [
       "Waiting for W&B process to finish... <strong style=\"color:green\">(success).</strong>"
      ],
      "text/plain": [
       "<IPython.core.display.HTML object>"
      ]
     },
     "metadata": {},
     "output_type": "display_data"
    },
    {
     "data": {
      "application/vnd.jupyter.widget-view+json": {
       "model_id": "1577f86e3cf44c0ea816fe6dd9792b05",
       "version_major": 2,
       "version_minor": 0
      },
      "text/plain": [
       "VBox(children=(Label(value='0.000 MB of 0.001 MB uploaded (0.000 MB deduped)\\r'), FloatProgress(value=0.0, max…"
      ]
     },
     "metadata": {},
     "output_type": "display_data"
    },
    {
     "data": {
      "text/html": [
       "<style>\n",
       "    table.wandb td:nth-child(1) { padding: 0 10px; text-align: left ; width: auto;} td:nth-child(2) {text-align: left ; width: 100%}\n",
       "    .wandb-row { display: flex; flex-direction: row; flex-wrap: wrap; justify-content: flex-start; width: 100% }\n",
       "    .wandb-col { display: flex; flex-direction: column; flex-basis: 100%; flex: 1; padding: 10px; }\n",
       "    </style>\n",
       "<div class=\"wandb-row\"><div class=\"wandb-col\"><h3>Run history:</h3><br/><table class=\"wandb\"><tr><td>epoch</td><td>▁▂▃▃▄▅▆▆▇█</td></tr><tr><td>train accuracy</td><td>▁▁▂▂▄▅▆▇▇█</td></tr><tr><td>train loss</td><td>█▅▄▄▄▃▂▂▁▁</td></tr><tr><td>valid accuracy</td><td>▁▂▃▃▅▆▇█▇█</td></tr></table><br/></div><div class=\"wandb-col\"><h3>Run summary:</h3><br/><table class=\"wandb\"><tr><td>epoch</td><td>10</td></tr><tr><td>train accuracy</td><td>6.52539</td></tr><tr><td>train loss</td><td>1.18278</td></tr><tr><td>valid accuracy</td><td>8.20312</td></tr></table><br/></div></div>"
      ],
      "text/plain": [
       "<IPython.core.display.HTML object>"
      ]
     },
     "metadata": {},
     "output_type": "display_data"
    },
    {
     "data": {
      "text/html": [
       " View run <strong style=\"color:#cdcd00\">efficient-sweep-16</strong> at: <a href='https://wandb.ai/am22s020/Assignment%203/runs/uzqbwrk5' target=\"_blank\">https://wandb.ai/am22s020/Assignment%203/runs/uzqbwrk5</a><br/>Synced 3 W&B file(s), 0 media file(s), 0 artifact file(s) and 0 other file(s)"
      ],
      "text/plain": [
       "<IPython.core.display.HTML object>"
      ]
     },
     "metadata": {},
     "output_type": "display_data"
    },
    {
     "data": {
      "text/html": [
       "Find logs at: <code>.\\wandb\\run-20230508_164002-uzqbwrk5\\logs</code>"
      ],
      "text/plain": [
       "<IPython.core.display.HTML object>"
      ]
     },
     "metadata": {},
     "output_type": "display_data"
    },
    {
     "name": "stderr",
     "output_type": "stream",
     "text": [
      "\u001b[34m\u001b[1mwandb\u001b[0m: Agent Starting Run: 0xpyc7go with config:\n",
      "\u001b[34m\u001b[1mwandb\u001b[0m: \tbi_dir: True\n",
      "\u001b[34m\u001b[1mwandb\u001b[0m: \tcell_type: lstm\n",
      "\u001b[34m\u001b[1mwandb\u001b[0m: \tdropout: 0.3\n",
      "\u001b[34m\u001b[1mwandb\u001b[0m: \tembed_size: 256\n",
      "\u001b[34m\u001b[1mwandb\u001b[0m: \thidden_size: 128\n",
      "\u001b[34m\u001b[1mwandb\u001b[0m: \tnum_epochs: 10\n",
      "\u001b[34m\u001b[1mwandb\u001b[0m: \tnum_layers: 3\n",
      "\u001b[34m\u001b[1mwandb\u001b[0m: \u001b[33mWARNING\u001b[0m Ignored wandb.init() arg project when running a sweep.\n"
     ]
    },
    {
     "data": {
      "application/vnd.jupyter.widget-view+json": {
       "model_id": "3d56ba924f164a0999945385e794619b",
       "version_major": 2,
       "version_minor": 0
      },
      "text/plain": [
       "VBox(children=(Label(value='Waiting for wandb.init()...\\r'), FloatProgress(value=0.016666666666666666, max=1.0…"
      ]
     },
     "metadata": {},
     "output_type": "display_data"
    },
    {
     "data": {
      "text/html": [
       "wandb version 0.15.2 is available!  To upgrade, please run:\n",
       " $ pip install wandb --upgrade"
      ],
      "text/plain": [
       "<IPython.core.display.HTML object>"
      ]
     },
     "metadata": {},
     "output_type": "display_data"
    },
    {
     "data": {
      "text/html": [
       "Tracking run with wandb version 0.13.11"
      ],
      "text/plain": [
       "<IPython.core.display.HTML object>"
      ]
     },
     "metadata": {},
     "output_type": "display_data"
    },
    {
     "data": {
      "text/html": [
       "Run data is saved locally in <code>C:\\Users\\HICLIPS-ASK\\wandb\\run-20230508_172457-0xpyc7go</code>"
      ],
      "text/plain": [
       "<IPython.core.display.HTML object>"
      ]
     },
     "metadata": {},
     "output_type": "display_data"
    },
    {
     "data": {
      "text/html": [
       "Resuming run <strong><a href='https://wandb.ai/am22s020/Assignment%203/runs/0xpyc7go' target=\"_blank\">eager-sweep-17</a></strong> to <a href='https://wandb.ai/am22s020/Assignment%203' target=\"_blank\">Weights & Biases</a> (<a href='https://wandb.me/run' target=\"_blank\">docs</a>)<br/>Sweep page: <a href='https://wandb.ai/am22s020/Assignment%203/sweeps/a7mxe1u0' target=\"_blank\">https://wandb.ai/am22s020/Assignment%203/sweeps/a7mxe1u0</a>"
      ],
      "text/plain": [
       "<IPython.core.display.HTML object>"
      ]
     },
     "metadata": {},
     "output_type": "display_data"
    },
    {
     "data": {
      "text/html": [
       " View project at <a href='https://wandb.ai/am22s020/Assignment%203' target=\"_blank\">https://wandb.ai/am22s020/Assignment%203</a>"
      ],
      "text/plain": [
       "<IPython.core.display.HTML object>"
      ]
     },
     "metadata": {},
     "output_type": "display_data"
    },
    {
     "data": {
      "text/html": [
       " View sweep at <a href='https://wandb.ai/am22s020/Assignment%203/sweeps/a7mxe1u0' target=\"_blank\">https://wandb.ai/am22s020/Assignment%203/sweeps/a7mxe1u0</a>"
      ],
      "text/plain": [
       "<IPython.core.display.HTML object>"
      ]
     },
     "metadata": {},
     "output_type": "display_data"
    },
    {
     "data": {
      "text/html": [
       " View run at <a href='https://wandb.ai/am22s020/Assignment%203/runs/0xpyc7go' target=\"_blank\">https://wandb.ai/am22s020/Assignment%203/runs/0xpyc7go</a>"
      ],
      "text/plain": [
       "<IPython.core.display.HTML object>"
      ]
     },
     "metadata": {},
     "output_type": "display_data"
    },
    {
     "name": "stdout",
     "output_type": "stream",
     "text": [
      "cell_lstm_nl_3_hs_128_e_10_bd_True_dr_0.3_ems_256\n",
      "Epoch:  1 / 10\n",
      "Training Loss:  1.167794942855835\n",
      "Epoch:  2 / 10\n",
      "Training Loss:  0.9751072525978088\n",
      "Epoch:  3 / 10\n",
      "Training Loss:  0.7995004057884216\n",
      "Epoch:  4 / 10\n",
      "Training Loss:  0.7830536961555481\n",
      "Epoch:  5 / 10\n",
      "Training Loss:  0.7767279148101807\n",
      "Epoch:  6 / 10\n",
      "Training Loss:  0.6585379838943481\n",
      "Epoch:  7 / 10\n",
      "Training Loss:  0.5837382078170776\n",
      "Epoch:  8 / 10\n",
      "Training Loss:  0.4813898503780365\n",
      "Epoch:  9 / 10\n",
      "Training Loss:  0.6425133347511292\n",
      "Epoch:  10 / 10\n",
      "Training Loss:  0.5724905133247375\n"
     ]
    },
    {
     "data": {
      "text/html": [
       "Waiting for W&B process to finish... <strong style=\"color:green\">(success).</strong>"
      ],
      "text/plain": [
       "<IPython.core.display.HTML object>"
      ]
     },
     "metadata": {},
     "output_type": "display_data"
    },
    {
     "data": {
      "text/html": [
       "<style>\n",
       "    table.wandb td:nth-child(1) { padding: 0 10px; text-align: left ; width: auto;} td:nth-child(2) {text-align: left ; width: 100%}\n",
       "    .wandb-row { display: flex; flex-direction: row; flex-wrap: wrap; justify-content: flex-start; width: 100% }\n",
       "    .wandb-col { display: flex; flex-direction: column; flex-basis: 100%; flex: 1; padding: 10px; }\n",
       "    </style>\n",
       "<div class=\"wandb-row\"><div class=\"wandb-col\"><h3>Run history:</h3><br/><table class=\"wandb\"><tr><td>epoch</td><td>▁▂▃▃▄▅▆▆▇█</td></tr><tr><td>train accuracy</td><td>▁▃▄▅▆▆▇▇▇█</td></tr><tr><td>train loss</td><td>█▆▄▄▄▃▂▁▃▂</td></tr><tr><td>valid accuracy</td><td>▁▄▅▆▆▇▇▇██</td></tr></table><br/></div><div class=\"wandb-col\"><h3>Run summary:</h3><br/><table class=\"wandb\"><tr><td>epoch</td><td>10</td></tr><tr><td>train accuracy</td><td>42.90039</td></tr><tr><td>train loss</td><td>0.57249</td></tr><tr><td>valid accuracy</td><td>38.23242</td></tr></table><br/></div></div>"
      ],
      "text/plain": [
       "<IPython.core.display.HTML object>"
      ]
     },
     "metadata": {},
     "output_type": "display_data"
    },
    {
     "data": {
      "text/html": [
       " View run <strong style=\"color:#cdcd00\">eager-sweep-17</strong> at: <a href='https://wandb.ai/am22s020/Assignment%203/runs/0xpyc7go' target=\"_blank\">https://wandb.ai/am22s020/Assignment%203/runs/0xpyc7go</a><br/>Synced 3 W&B file(s), 0 media file(s), 0 artifact file(s) and 0 other file(s)"
      ],
      "text/plain": [
       "<IPython.core.display.HTML object>"
      ]
     },
     "metadata": {},
     "output_type": "display_data"
    },
    {
     "data": {
      "text/html": [
       "Find logs at: <code>.\\wandb\\run-20230508_172457-0xpyc7go\\logs</code>"
      ],
      "text/plain": [
       "<IPython.core.display.HTML object>"
      ]
     },
     "metadata": {},
     "output_type": "display_data"
    },
    {
     "name": "stderr",
     "output_type": "stream",
     "text": [
      "\u001b[34m\u001b[1mwandb\u001b[0m: Agent Starting Run: hh3u0xj6 with config:\n",
      "\u001b[34m\u001b[1mwandb\u001b[0m: \tbi_dir: False\n",
      "\u001b[34m\u001b[1mwandb\u001b[0m: \tcell_type: lstm\n",
      "\u001b[34m\u001b[1mwandb\u001b[0m: \tdropout: 0.5\n",
      "\u001b[34m\u001b[1mwandb\u001b[0m: \tembed_size: 64\n",
      "\u001b[34m\u001b[1mwandb\u001b[0m: \thidden_size: 64\n",
      "\u001b[34m\u001b[1mwandb\u001b[0m: \tnum_epochs: 15\n",
      "\u001b[34m\u001b[1mwandb\u001b[0m: \tnum_layers: 4\n",
      "\u001b[34m\u001b[1mwandb\u001b[0m: \u001b[33mWARNING\u001b[0m Ignored wandb.init() arg project when running a sweep.\n"
     ]
    },
    {
     "data": {
      "application/vnd.jupyter.widget-view+json": {
       "model_id": "1b07ea9dec974a16b9e20eefdde266a1",
       "version_major": 2,
       "version_minor": 0
      },
      "text/plain": [
       "VBox(children=(Label(value='Waiting for wandb.init()...\\r'), FloatProgress(value=0.016666666666666666, max=1.0…"
      ]
     },
     "metadata": {},
     "output_type": "display_data"
    },
    {
     "data": {
      "text/html": [
       "wandb version 0.15.2 is available!  To upgrade, please run:\n",
       " $ pip install wandb --upgrade"
      ],
      "text/plain": [
       "<IPython.core.display.HTML object>"
      ]
     },
     "metadata": {},
     "output_type": "display_data"
    },
    {
     "data": {
      "text/html": [
       "Tracking run with wandb version 0.13.11"
      ],
      "text/plain": [
       "<IPython.core.display.HTML object>"
      ]
     },
     "metadata": {},
     "output_type": "display_data"
    },
    {
     "data": {
      "text/html": [
       "Run data is saved locally in <code>C:\\Users\\HICLIPS-ASK\\wandb\\run-20230508_182259-hh3u0xj6</code>"
      ],
      "text/plain": [
       "<IPython.core.display.HTML object>"
      ]
     },
     "metadata": {},
     "output_type": "display_data"
    },
    {
     "data": {
      "text/html": [
       "Resuming run <strong><a href='https://wandb.ai/am22s020/Assignment%203/runs/hh3u0xj6' target=\"_blank\">rose-sweep-18</a></strong> to <a href='https://wandb.ai/am22s020/Assignment%203' target=\"_blank\">Weights & Biases</a> (<a href='https://wandb.me/run' target=\"_blank\">docs</a>)<br/>Sweep page: <a href='https://wandb.ai/am22s020/Assignment%203/sweeps/a7mxe1u0' target=\"_blank\">https://wandb.ai/am22s020/Assignment%203/sweeps/a7mxe1u0</a>"
      ],
      "text/plain": [
       "<IPython.core.display.HTML object>"
      ]
     },
     "metadata": {},
     "output_type": "display_data"
    },
    {
     "data": {
      "text/html": [
       " View project at <a href='https://wandb.ai/am22s020/Assignment%203' target=\"_blank\">https://wandb.ai/am22s020/Assignment%203</a>"
      ],
      "text/plain": [
       "<IPython.core.display.HTML object>"
      ]
     },
     "metadata": {},
     "output_type": "display_data"
    },
    {
     "data": {
      "text/html": [
       " View sweep at <a href='https://wandb.ai/am22s020/Assignment%203/sweeps/a7mxe1u0' target=\"_blank\">https://wandb.ai/am22s020/Assignment%203/sweeps/a7mxe1u0</a>"
      ],
      "text/plain": [
       "<IPython.core.display.HTML object>"
      ]
     },
     "metadata": {},
     "output_type": "display_data"
    },
    {
     "data": {
      "text/html": [
       " View run at <a href='https://wandb.ai/am22s020/Assignment%203/runs/hh3u0xj6' target=\"_blank\">https://wandb.ai/am22s020/Assignment%203/runs/hh3u0xj6</a>"
      ],
      "text/plain": [
       "<IPython.core.display.HTML object>"
      ]
     },
     "metadata": {},
     "output_type": "display_data"
    },
    {
     "name": "stdout",
     "output_type": "stream",
     "text": [
      "cell_lstm_nl_4_hs_64_e_15_bd_False_dr_0.5_ems_64\n",
      "Epoch:  1 / 15\n",
      "Training Loss:  3.110419273376465\n",
      "Epoch:  2 / 15\n",
      "Training Loss:  2.958446502685547\n",
      "Epoch:  3 / 15\n",
      "Training Loss:  2.6890063285827637\n",
      "Epoch:  4 / 15\n",
      "Training Loss:  2.5392262935638428\n",
      "Epoch:  5 / 15\n",
      "Training Loss:  2.223663568496704\n",
      "Epoch:  6 / 15\n",
      "Training Loss:  2.3340296745300293\n",
      "Epoch:  7 / 15\n",
      "Training Loss:  1.8728702068328857\n",
      "Epoch:  8 / 15\n",
      "Training Loss:  1.8081676959991455\n",
      "Epoch:  9 / 15\n",
      "Training Loss:  1.697816252708435\n",
      "Epoch:  10 / 15\n",
      "Training Loss:  1.7136175632476807\n",
      "Epoch:  11 / 15\n",
      "Training Loss:  1.6111762523651123\n",
      "Epoch:  12 / 15\n",
      "Training Loss:  1.5784655809402466\n",
      "Epoch:  13 / 15\n",
      "Training Loss:  1.5106918811798096\n",
      "Epoch:  14 / 15\n",
      "Training Loss:  1.3682001829147339\n",
      "Epoch:  15 / 15\n",
      "Training Loss:  1.7705137729644775\n"
     ]
    },
    {
     "data": {
      "text/html": [
       "Waiting for W&B process to finish... <strong style=\"color:green\">(success).</strong>"
      ],
      "text/plain": [
       "<IPython.core.display.HTML object>"
      ]
     },
     "metadata": {},
     "output_type": "display_data"
    },
    {
     "data": {
      "application/vnd.jupyter.widget-view+json": {
       "model_id": "c43e4c7839ce4bf39cc079a7af82725e",
       "version_major": 2,
       "version_minor": 0
      },
      "text/plain": [
       "VBox(children=(Label(value='0.000 MB of 0.000 MB uploaded (0.000 MB deduped)\\r'), FloatProgress(value=1.0, max…"
      ]
     },
     "metadata": {},
     "output_type": "display_data"
    },
    {
     "data": {
      "text/html": [
       "<style>\n",
       "    table.wandb td:nth-child(1) { padding: 0 10px; text-align: left ; width: auto;} td:nth-child(2) {text-align: left ; width: 100%}\n",
       "    .wandb-row { display: flex; flex-direction: row; flex-wrap: wrap; justify-content: flex-start; width: 100% }\n",
       "    .wandb-col { display: flex; flex-direction: column; flex-basis: 100%; flex: 1; padding: 10px; }\n",
       "    </style>\n",
       "<div class=\"wandb-row\"><div class=\"wandb-col\"><h3>Run history:</h3><br/><table class=\"wandb\"><tr><td>epoch</td><td>▁▁▂▃▃▃▄▅▅▅▆▇▇▇█</td></tr><tr><td>train accuracy</td><td>▁▁▁▁▁▁▂▂▃▄▅▆▇▇█</td></tr><tr><td>train loss</td><td>█▇▆▆▄▅▃▃▂▂▂▂▂▁▃</td></tr><tr><td>valid accuracy</td><td>▁▁▁▁▁▂▂▃▄▅▅▆▇██</td></tr></table><br/></div><div class=\"wandb-col\"><h3>Run summary:</h3><br/><table class=\"wandb\"><tr><td>epoch</td><td>15</td></tr><tr><td>train accuracy</td><td>9.21094</td></tr><tr><td>train loss</td><td>1.77051</td></tr><tr><td>valid accuracy</td><td>14.50195</td></tr></table><br/></div></div>"
      ],
      "text/plain": [
       "<IPython.core.display.HTML object>"
      ]
     },
     "metadata": {},
     "output_type": "display_data"
    },
    {
     "data": {
      "text/html": [
       " View run <strong style=\"color:#cdcd00\">rose-sweep-18</strong> at: <a href='https://wandb.ai/am22s020/Assignment%203/runs/hh3u0xj6' target=\"_blank\">https://wandb.ai/am22s020/Assignment%203/runs/hh3u0xj6</a><br/>Synced 3 W&B file(s), 0 media file(s), 0 artifact file(s) and 0 other file(s)"
      ],
      "text/plain": [
       "<IPython.core.display.HTML object>"
      ]
     },
     "metadata": {},
     "output_type": "display_data"
    },
    {
     "data": {
      "text/html": [
       "Find logs at: <code>.\\wandb\\run-20230508_182259-hh3u0xj6\\logs</code>"
      ],
      "text/plain": [
       "<IPython.core.display.HTML object>"
      ]
     },
     "metadata": {},
     "output_type": "display_data"
    },
    {
     "name": "stderr",
     "output_type": "stream",
     "text": [
      "\u001b[34m\u001b[1mwandb\u001b[0m: Agent Starting Run: 9dy9gsgh with config:\n",
      "\u001b[34m\u001b[1mwandb\u001b[0m: \tbi_dir: False\n",
      "\u001b[34m\u001b[1mwandb\u001b[0m: \tcell_type: lstm\n",
      "\u001b[34m\u001b[1mwandb\u001b[0m: \tdropout: 0.2\n",
      "\u001b[34m\u001b[1mwandb\u001b[0m: \tembed_size: 256\n",
      "\u001b[34m\u001b[1mwandb\u001b[0m: \thidden_size: 64\n",
      "\u001b[34m\u001b[1mwandb\u001b[0m: \tnum_epochs: 20\n",
      "\u001b[34m\u001b[1mwandb\u001b[0m: \tnum_layers: 2\n",
      "\u001b[34m\u001b[1mwandb\u001b[0m: \u001b[33mWARNING\u001b[0m Ignored wandb.init() arg project when running a sweep.\n"
     ]
    },
    {
     "data": {
      "application/vnd.jupyter.widget-view+json": {
       "model_id": "914c7f6a7ca24793b734263c37571168",
       "version_major": 2,
       "version_minor": 0
      },
      "text/plain": [
       "VBox(children=(Label(value='Waiting for wandb.init()...\\r'), FloatProgress(value=0.016666666666666666, max=1.0…"
      ]
     },
     "metadata": {},
     "output_type": "display_data"
    },
    {
     "data": {
      "text/html": [
       "wandb version 0.15.2 is available!  To upgrade, please run:\n",
       " $ pip install wandb --upgrade"
      ],
      "text/plain": [
       "<IPython.core.display.HTML object>"
      ]
     },
     "metadata": {},
     "output_type": "display_data"
    },
    {
     "data": {
      "text/html": [
       "Tracking run with wandb version 0.13.11"
      ],
      "text/plain": [
       "<IPython.core.display.HTML object>"
      ]
     },
     "metadata": {},
     "output_type": "display_data"
    },
    {
     "data": {
      "text/html": [
       "Run data is saved locally in <code>C:\\Users\\HICLIPS-ASK\\wandb\\run-20230508_193710-9dy9gsgh</code>"
      ],
      "text/plain": [
       "<IPython.core.display.HTML object>"
      ]
     },
     "metadata": {},
     "output_type": "display_data"
    },
    {
     "data": {
      "text/html": [
       "Resuming run <strong><a href='https://wandb.ai/am22s020/Assignment%203/runs/9dy9gsgh' target=\"_blank\">hopeful-sweep-19</a></strong> to <a href='https://wandb.ai/am22s020/Assignment%203' target=\"_blank\">Weights & Biases</a> (<a href='https://wandb.me/run' target=\"_blank\">docs</a>)<br/>Sweep page: <a href='https://wandb.ai/am22s020/Assignment%203/sweeps/a7mxe1u0' target=\"_blank\">https://wandb.ai/am22s020/Assignment%203/sweeps/a7mxe1u0</a>"
      ],
      "text/plain": [
       "<IPython.core.display.HTML object>"
      ]
     },
     "metadata": {},
     "output_type": "display_data"
    },
    {
     "data": {
      "text/html": [
       " View project at <a href='https://wandb.ai/am22s020/Assignment%203' target=\"_blank\">https://wandb.ai/am22s020/Assignment%203</a>"
      ],
      "text/plain": [
       "<IPython.core.display.HTML object>"
      ]
     },
     "metadata": {},
     "output_type": "display_data"
    },
    {
     "data": {
      "text/html": [
       " View sweep at <a href='https://wandb.ai/am22s020/Assignment%203/sweeps/a7mxe1u0' target=\"_blank\">https://wandb.ai/am22s020/Assignment%203/sweeps/a7mxe1u0</a>"
      ],
      "text/plain": [
       "<IPython.core.display.HTML object>"
      ]
     },
     "metadata": {},
     "output_type": "display_data"
    },
    {
     "data": {
      "text/html": [
       " View run at <a href='https://wandb.ai/am22s020/Assignment%203/runs/9dy9gsgh' target=\"_blank\">https://wandb.ai/am22s020/Assignment%203/runs/9dy9gsgh</a>"
      ],
      "text/plain": [
       "<IPython.core.display.HTML object>"
      ]
     },
     "metadata": {},
     "output_type": "display_data"
    },
    {
     "name": "stdout",
     "output_type": "stream",
     "text": [
      "cell_lstm_nl_2_hs_64_e_20_bd_False_dr_0.2_ems_256\n",
      "Epoch:  1 / 20\n",
      "Training Loss:  2.428826093673706\n",
      "Epoch:  2 / 20\n",
      "Training Loss:  1.9252842664718628\n",
      "Epoch:  3 / 20\n",
      "Training Loss:  1.7067337036132812\n",
      "Epoch:  4 / 20\n",
      "Training Loss:  1.2731027603149414\n",
      "Epoch:  5 / 20\n",
      "Training Loss:  1.4769644737243652\n",
      "Epoch:  6 / 20\n",
      "Training Loss:  1.1457324028015137\n",
      "Epoch:  7 / 20\n",
      "Training Loss:  1.1597038507461548\n",
      "Epoch:  8 / 20\n",
      "Training Loss:  1.0694091320037842\n",
      "Epoch:  9 / 20\n",
      "Training Loss:  1.0640604496002197\n",
      "Epoch:  10 / 20\n",
      "Training Loss:  1.141352891921997\n",
      "Epoch:  11 / 20\n",
      "Training Loss:  0.9450796246528625\n",
      "Epoch:  12 / 20\n",
      "Training Loss:  1.0689184665679932\n",
      "Epoch:  13 / 20\n",
      "Training Loss:  0.9095141887664795\n",
      "Epoch:  14 / 20\n",
      "Training Loss:  1.056807041168213\n",
      "Epoch:  15 / 20\n",
      "Training Loss:  1.0695050954818726\n",
      "Epoch:  16 / 20\n",
      "Training Loss:  0.9930692315101624\n",
      "Epoch:  17 / 20\n",
      "Training Loss:  1.2608386278152466\n",
      "Epoch:  18 / 20\n",
      "Training Loss:  1.0552644729614258\n",
      "Epoch:  19 / 20\n",
      "Training Loss:  1.1248536109924316\n",
      "Epoch:  20 / 20\n",
      "Training Loss:  0.8462985754013062\n"
     ]
    },
    {
     "data": {
      "text/html": [
       "Waiting for W&B process to finish... <strong style=\"color:green\">(success).</strong>"
      ],
      "text/plain": [
       "<IPython.core.display.HTML object>"
      ]
     },
     "metadata": {},
     "output_type": "display_data"
    },
    {
     "data": {
      "application/vnd.jupyter.widget-view+json": {
       "model_id": "3c05ed99969049a0b196051b9dfb0970",
       "version_major": 2,
       "version_minor": 0
      },
      "text/plain": [
       "VBox(children=(Label(value='0.000 MB of 0.000 MB uploaded (0.000 MB deduped)\\r'), FloatProgress(value=1.0, max…"
      ]
     },
     "metadata": {},
     "output_type": "display_data"
    },
    {
     "data": {
      "text/html": [
       "<style>\n",
       "    table.wandb td:nth-child(1) { padding: 0 10px; text-align: left ; width: auto;} td:nth-child(2) {text-align: left ; width: 100%}\n",
       "    .wandb-row { display: flex; flex-direction: row; flex-wrap: wrap; justify-content: flex-start; width: 100% }\n",
       "    .wandb-col { display: flex; flex-direction: column; flex-basis: 100%; flex: 1; padding: 10px; }\n",
       "    </style>\n",
       "<div class=\"wandb-row\"><div class=\"wandb-col\"><h3>Run history:</h3><br/><table class=\"wandb\"><tr><td>epoch</td><td>▁▁▂▂▂▃▃▄▄▄▅▅▅▆▆▇▇▇██</td></tr><tr><td>train accuracy</td><td>▁▁▂▃▃▄▄▄▅▅▆▆▇▇▇▇▇█▇█</td></tr><tr><td>train loss</td><td>█▆▅▃▄▂▂▂▂▂▁▂▁▂▂▂▃▂▂▁</td></tr><tr><td>valid accuracy</td><td>▁▂▂▃▄▅▅▅▆▆▆▆▇▇▇▇█▇▇█</td></tr></table><br/></div><div class=\"wandb-col\"><h3>Run summary:</h3><br/><table class=\"wandb\"><tr><td>epoch</td><td>20</td></tr><tr><td>train accuracy</td><td>11.84375</td></tr><tr><td>train loss</td><td>0.8463</td></tr><tr><td>valid accuracy</td><td>14.08691</td></tr></table><br/></div></div>"
      ],
      "text/plain": [
       "<IPython.core.display.HTML object>"
      ]
     },
     "metadata": {},
     "output_type": "display_data"
    },
    {
     "data": {
      "text/html": [
       " View run <strong style=\"color:#cdcd00\">hopeful-sweep-19</strong> at: <a href='https://wandb.ai/am22s020/Assignment%203/runs/9dy9gsgh' target=\"_blank\">https://wandb.ai/am22s020/Assignment%203/runs/9dy9gsgh</a><br/>Synced 3 W&B file(s), 0 media file(s), 0 artifact file(s) and 0 other file(s)"
      ],
      "text/plain": [
       "<IPython.core.display.HTML object>"
      ]
     },
     "metadata": {},
     "output_type": "display_data"
    },
    {
     "data": {
      "text/html": [
       "Find logs at: <code>.\\wandb\\run-20230508_193710-9dy9gsgh\\logs</code>"
      ],
      "text/plain": [
       "<IPython.core.display.HTML object>"
      ]
     },
     "metadata": {},
     "output_type": "display_data"
    },
    {
     "name": "stderr",
     "output_type": "stream",
     "text": [
      "\u001b[34m\u001b[1mwandb\u001b[0m: Agent Starting Run: chapb790 with config:\n",
      "\u001b[34m\u001b[1mwandb\u001b[0m: \tbi_dir: True\n",
      "\u001b[34m\u001b[1mwandb\u001b[0m: \tcell_type: gru\n",
      "\u001b[34m\u001b[1mwandb\u001b[0m: \tdropout: 0.2\n",
      "\u001b[34m\u001b[1mwandb\u001b[0m: \tembed_size: 256\n",
      "\u001b[34m\u001b[1mwandb\u001b[0m: \thidden_size: 128\n",
      "\u001b[34m\u001b[1mwandb\u001b[0m: \tnum_epochs: 20\n",
      "\u001b[34m\u001b[1mwandb\u001b[0m: \tnum_layers: 3\n",
      "\u001b[34m\u001b[1mwandb\u001b[0m: \u001b[33mWARNING\u001b[0m Ignored wandb.init() arg project when running a sweep.\n"
     ]
    },
    {
     "data": {
      "application/vnd.jupyter.widget-view+json": {
       "model_id": "f05634c12a1145dd891ebf1e38c2438c",
       "version_major": 2,
       "version_minor": 0
      },
      "text/plain": [
       "VBox(children=(Label(value='Waiting for wandb.init()...\\r'), FloatProgress(value=0.016933333333145128, max=1.0…"
      ]
     },
     "metadata": {},
     "output_type": "display_data"
    },
    {
     "data": {
      "text/html": [
       "wandb version 0.15.2 is available!  To upgrade, please run:\n",
       " $ pip install wandb --upgrade"
      ],
      "text/plain": [
       "<IPython.core.display.HTML object>"
      ]
     },
     "metadata": {},
     "output_type": "display_data"
    },
    {
     "data": {
      "text/html": [
       "Tracking run with wandb version 0.13.11"
      ],
      "text/plain": [
       "<IPython.core.display.HTML object>"
      ]
     },
     "metadata": {},
     "output_type": "display_data"
    },
    {
     "data": {
      "text/html": [
       "Run data is saved locally in <code>C:\\Users\\HICLIPS-ASK\\wandb\\run-20230508_211134-chapb790</code>"
      ],
      "text/plain": [
       "<IPython.core.display.HTML object>"
      ]
     },
     "metadata": {},
     "output_type": "display_data"
    },
    {
     "data": {
      "text/html": [
       "Resuming run <strong><a href='https://wandb.ai/am22s020/Assignment%203/runs/chapb790' target=\"_blank\">wandering-sweep-20</a></strong> to <a href='https://wandb.ai/am22s020/Assignment%203' target=\"_blank\">Weights & Biases</a> (<a href='https://wandb.me/run' target=\"_blank\">docs</a>)<br/>Sweep page: <a href='https://wandb.ai/am22s020/Assignment%203/sweeps/a7mxe1u0' target=\"_blank\">https://wandb.ai/am22s020/Assignment%203/sweeps/a7mxe1u0</a>"
      ],
      "text/plain": [
       "<IPython.core.display.HTML object>"
      ]
     },
     "metadata": {},
     "output_type": "display_data"
    },
    {
     "data": {
      "text/html": [
       " View project at <a href='https://wandb.ai/am22s020/Assignment%203' target=\"_blank\">https://wandb.ai/am22s020/Assignment%203</a>"
      ],
      "text/plain": [
       "<IPython.core.display.HTML object>"
      ]
     },
     "metadata": {},
     "output_type": "display_data"
    },
    {
     "data": {
      "text/html": [
       " View sweep at <a href='https://wandb.ai/am22s020/Assignment%203/sweeps/a7mxe1u0' target=\"_blank\">https://wandb.ai/am22s020/Assignment%203/sweeps/a7mxe1u0</a>"
      ],
      "text/plain": [
       "<IPython.core.display.HTML object>"
      ]
     },
     "metadata": {},
     "output_type": "display_data"
    },
    {
     "data": {
      "text/html": [
       " View run at <a href='https://wandb.ai/am22s020/Assignment%203/runs/chapb790' target=\"_blank\">https://wandb.ai/am22s020/Assignment%203/runs/chapb790</a>"
      ],
      "text/plain": [
       "<IPython.core.display.HTML object>"
      ]
     },
     "metadata": {},
     "output_type": "display_data"
    },
    {
     "name": "stdout",
     "output_type": "stream",
     "text": [
      "cell_gru_nl_3_hs_128_e_20_bd_True_dr_0.2_ems_256\n",
      "Epoch:  1 / 20\n",
      "Training Loss:  0.9862996339797974\n",
      "Epoch:  2 / 20\n",
      "Training Loss:  0.8349027633666992\n",
      "Epoch:  3 / 20\n",
      "Training Loss:  1.0236483812332153\n",
      "Epoch:  4 / 20\n",
      "Training Loss:  0.7254766821861267\n",
      "Epoch:  5 / 20\n",
      "Training Loss:  0.678637683391571\n",
      "Epoch:  6 / 20\n",
      "Training Loss:  0.6448912024497986\n",
      "Epoch:  7 / 20\n",
      "Training Loss:  0.8983640074729919\n",
      "Epoch:  8 / 20\n",
      "Training Loss:  0.6177055835723877\n",
      "Epoch:  9 / 20\n",
      "Training Loss:  0.5775460004806519\n",
      "Epoch:  10 / 20\n",
      "Training Loss:  0.5609771013259888\n",
      "Epoch:  11 / 20\n",
      "Training Loss:  0.6935942769050598\n",
      "Epoch:  12 / 20\n",
      "Training Loss:  0.5714068412780762\n",
      "Epoch:  13 / 20\n",
      "Training Loss:  0.7083931565284729\n",
      "Epoch:  14 / 20\n",
      "Training Loss:  0.534706175327301\n",
      "Epoch:  15 / 20\n",
      "Training Loss:  0.6059728264808655\n",
      "Epoch:  16 / 20\n",
      "Training Loss:  0.5204353332519531\n",
      "Epoch:  17 / 20\n",
      "Training Loss:  0.5438492894172668\n",
      "Epoch:  18 / 20\n",
      "Training Loss:  0.5746018886566162\n",
      "Epoch:  19 / 20\n",
      "Training Loss:  0.5215150713920593\n",
      "Epoch:  20 / 20\n",
      "Training Loss:  0.802419900894165\n"
     ]
    },
    {
     "data": {
      "text/html": [
       "Waiting for W&B process to finish... <strong style=\"color:green\">(success).</strong>"
      ],
      "text/plain": [
       "<IPython.core.display.HTML object>"
      ]
     },
     "metadata": {},
     "output_type": "display_data"
    },
    {
     "data": {
      "application/vnd.jupyter.widget-view+json": {
       "model_id": "17ec0291f456416eaf315a36c989c232",
       "version_major": 2,
       "version_minor": 0
      },
      "text/plain": [
       "VBox(children=(Label(value='0.000 MB of 0.000 MB uploaded (0.000 MB deduped)\\r'), FloatProgress(value=1.0, max…"
      ]
     },
     "metadata": {},
     "output_type": "display_data"
    },
    {
     "data": {
      "text/html": [
       "<style>\n",
       "    table.wandb td:nth-child(1) { padding: 0 10px; text-align: left ; width: auto;} td:nth-child(2) {text-align: left ; width: 100%}\n",
       "    .wandb-row { display: flex; flex-direction: row; flex-wrap: wrap; justify-content: flex-start; width: 100% }\n",
       "    .wandb-col { display: flex; flex-direction: column; flex-basis: 100%; flex: 1; padding: 10px; }\n",
       "    </style>\n",
       "<div class=\"wandb-row\"><div class=\"wandb-col\"><h3>Run history:</h3><br/><table class=\"wandb\"><tr><td>epoch</td><td>▁▁▂▂▂▃▃▄▄▄▅▅▅▆▆▇▇▇██</td></tr><tr><td>train accuracy</td><td>▁▃▄▄▅▅▆▆▆▇▇▇▇▇▇█████</td></tr><tr><td>train loss</td><td>▇▅█▄▃▃▆▂▂▂▃▂▄▁▂▁▁▂▁▅</td></tr><tr><td>valid accuracy</td><td>▁▄▅▅▆▆▇▇▇█▇██▇█▇████</td></tr></table><br/></div><div class=\"wandb-col\"><h3>Run summary:</h3><br/><table class=\"wandb\"><tr><td>epoch</td><td>20</td></tr><tr><td>train accuracy</td><td>48.68555</td></tr><tr><td>train loss</td><td>0.80242</td></tr><tr><td>valid accuracy</td><td>35.9375</td></tr></table><br/></div></div>"
      ],
      "text/plain": [
       "<IPython.core.display.HTML object>"
      ]
     },
     "metadata": {},
     "output_type": "display_data"
    },
    {
     "data": {
      "text/html": [
       " View run <strong style=\"color:#cdcd00\">wandering-sweep-20</strong> at: <a href='https://wandb.ai/am22s020/Assignment%203/runs/chapb790' target=\"_blank\">https://wandb.ai/am22s020/Assignment%203/runs/chapb790</a><br/>Synced 3 W&B file(s), 0 media file(s), 0 artifact file(s) and 0 other file(s)"
      ],
      "text/plain": [
       "<IPython.core.display.HTML object>"
      ]
     },
     "metadata": {},
     "output_type": "display_data"
    },
    {
     "data": {
      "text/html": [
       "Find logs at: <code>.\\wandb\\run-20230508_211134-chapb790\\logs</code>"
      ],
      "text/plain": [
       "<IPython.core.display.HTML object>"
      ]
     },
     "metadata": {},
     "output_type": "display_data"
    },
    {
     "name": "stderr",
     "output_type": "stream",
     "text": [
      "\u001b[34m\u001b[1mwandb\u001b[0m: Agent Starting Run: 0j0a9p5h with config:\n",
      "\u001b[34m\u001b[1mwandb\u001b[0m: \tbi_dir: True\n",
      "\u001b[34m\u001b[1mwandb\u001b[0m: \tcell_type: rnn\n",
      "\u001b[34m\u001b[1mwandb\u001b[0m: \tdropout: 0.3\n",
      "\u001b[34m\u001b[1mwandb\u001b[0m: \tembed_size: 256\n",
      "\u001b[34m\u001b[1mwandb\u001b[0m: \thidden_size: 128\n",
      "\u001b[34m\u001b[1mwandb\u001b[0m: \tnum_epochs: 20\n",
      "\u001b[34m\u001b[1mwandb\u001b[0m: \tnum_layers: 2\n",
      "\u001b[34m\u001b[1mwandb\u001b[0m: \u001b[33mWARNING\u001b[0m Ignored wandb.init() arg project when running a sweep.\n"
     ]
    },
    {
     "data": {
      "application/vnd.jupyter.widget-view+json": {
       "model_id": "88aa2f1bee8241a09750f5a0aa360cb3",
       "version_major": 2,
       "version_minor": 0
      },
      "text/plain": [
       "VBox(children=(Label(value='Waiting for wandb.init()...\\r'), FloatProgress(value=0.01693333333338766, max=1.0)…"
      ]
     },
     "metadata": {},
     "output_type": "display_data"
    },
    {
     "data": {
      "text/html": [
       "wandb version 0.15.2 is available!  To upgrade, please run:\n",
       " $ pip install wandb --upgrade"
      ],
      "text/plain": [
       "<IPython.core.display.HTML object>"
      ]
     },
     "metadata": {},
     "output_type": "display_data"
    },
    {
     "data": {
      "text/html": [
       "Tracking run with wandb version 0.13.11"
      ],
      "text/plain": [
       "<IPython.core.display.HTML object>"
      ]
     },
     "metadata": {},
     "output_type": "display_data"
    },
    {
     "data": {
      "text/html": [
       "Run data is saved locally in <code>C:\\Users\\HICLIPS-ASK\\wandb\\run-20230508_225423-0j0a9p5h</code>"
      ],
      "text/plain": [
       "<IPython.core.display.HTML object>"
      ]
     },
     "metadata": {},
     "output_type": "display_data"
    },
    {
     "data": {
      "text/html": [
       "Resuming run <strong><a href='https://wandb.ai/am22s020/Assignment%203/runs/0j0a9p5h' target=\"_blank\">ruby-sweep-21</a></strong> to <a href='https://wandb.ai/am22s020/Assignment%203' target=\"_blank\">Weights & Biases</a> (<a href='https://wandb.me/run' target=\"_blank\">docs</a>)<br/>Sweep page: <a href='https://wandb.ai/am22s020/Assignment%203/sweeps/a7mxe1u0' target=\"_blank\">https://wandb.ai/am22s020/Assignment%203/sweeps/a7mxe1u0</a>"
      ],
      "text/plain": [
       "<IPython.core.display.HTML object>"
      ]
     },
     "metadata": {},
     "output_type": "display_data"
    },
    {
     "data": {
      "text/html": [
       " View project at <a href='https://wandb.ai/am22s020/Assignment%203' target=\"_blank\">https://wandb.ai/am22s020/Assignment%203</a>"
      ],
      "text/plain": [
       "<IPython.core.display.HTML object>"
      ]
     },
     "metadata": {},
     "output_type": "display_data"
    },
    {
     "data": {
      "text/html": [
       " View sweep at <a href='https://wandb.ai/am22s020/Assignment%203/sweeps/a7mxe1u0' target=\"_blank\">https://wandb.ai/am22s020/Assignment%203/sweeps/a7mxe1u0</a>"
      ],
      "text/plain": [
       "<IPython.core.display.HTML object>"
      ]
     },
     "metadata": {},
     "output_type": "display_data"
    },
    {
     "data": {
      "text/html": [
       " View run at <a href='https://wandb.ai/am22s020/Assignment%203/runs/0j0a9p5h' target=\"_blank\">https://wandb.ai/am22s020/Assignment%203/runs/0j0a9p5h</a>"
      ],
      "text/plain": [
       "<IPython.core.display.HTML object>"
      ]
     },
     "metadata": {},
     "output_type": "display_data"
    },
    {
     "name": "stdout",
     "output_type": "stream",
     "text": [
      "cell_rnn_nl_2_hs_128_e_20_bd_True_dr_0.3_ems_256\n",
      "Epoch:  1 / 20\n",
      "Training Loss:  2.147390365600586\n",
      "Epoch:  2 / 20\n",
      "Training Loss:  1.9807170629501343\n",
      "Epoch:  3 / 20\n",
      "Training Loss:  1.8705298900604248\n",
      "Epoch:  4 / 20\n",
      "Training Loss:  1.752254843711853\n",
      "Epoch:  5 / 20\n",
      "Training Loss:  1.692618489265442\n",
      "Epoch:  6 / 20\n",
      "Training Loss:  1.7571474313735962\n",
      "Epoch:  7 / 20\n",
      "Training Loss:  1.7400479316711426\n",
      "Epoch:  8 / 20\n",
      "Training Loss:  1.915268898010254\n",
      "Epoch:  9 / 20\n",
      "Training Loss:  1.4902541637420654\n",
      "Epoch:  10 / 20\n",
      "Training Loss:  1.580213189125061\n",
      "Epoch:  11 / 20\n",
      "Training Loss:  1.6333351135253906\n",
      "Epoch:  12 / 20\n",
      "Training Loss:  1.5197333097457886\n",
      "Epoch:  13 / 20\n",
      "Training Loss:  1.5924670696258545\n",
      "Epoch:  14 / 20\n",
      "Training Loss:  1.3283854722976685\n",
      "Epoch:  15 / 20\n",
      "Training Loss:  1.641528606414795\n",
      "Epoch:  16 / 20\n",
      "Training Loss:  1.5699204206466675\n",
      "Epoch:  17 / 20\n",
      "Training Loss:  1.3742446899414062\n",
      "Epoch:  18 / 20\n",
      "Training Loss:  1.6339573860168457\n",
      "Epoch:  19 / 20\n",
      "Training Loss:  1.3760570287704468\n",
      "Epoch:  20 / 20\n",
      "Training Loss:  1.5461270809173584\n"
     ]
    },
    {
     "data": {
      "text/html": [
       "Waiting for W&B process to finish... <strong style=\"color:green\">(success).</strong>"
      ],
      "text/plain": [
       "<IPython.core.display.HTML object>"
      ]
     },
     "metadata": {},
     "output_type": "display_data"
    },
    {
     "data": {
      "application/vnd.jupyter.widget-view+json": {
       "model_id": "26542977c6a045f0b5cff243f13d0877",
       "version_major": 2,
       "version_minor": 0
      },
      "text/plain": [
       "VBox(children=(Label(value='0.000 MB of 0.002 MB uploaded (0.000 MB deduped)\\r'), FloatProgress(value=0.0, max…"
      ]
     },
     "metadata": {},
     "output_type": "display_data"
    },
    {
     "data": {
      "text/html": [
       "<style>\n",
       "    table.wandb td:nth-child(1) { padding: 0 10px; text-align: left ; width: auto;} td:nth-child(2) {text-align: left ; width: 100%}\n",
       "    .wandb-row { display: flex; flex-direction: row; flex-wrap: wrap; justify-content: flex-start; width: 100% }\n",
       "    .wandb-col { display: flex; flex-direction: column; flex-basis: 100%; flex: 1; padding: 10px; }\n",
       "    </style>\n",
       "<div class=\"wandb-row\"><div class=\"wandb-col\"><h3>Run history:</h3><br/><table class=\"wandb\"><tr><td>epoch</td><td>▁▁▂▂▂▃▃▄▄▄▅▅▅▆▆▇▇▇██</td></tr><tr><td>train accuracy</td><td>▁▁▁▁▁▁▃▂▂▃▂▅▅▆▇▇▇▇█▇</td></tr><tr><td>train loss</td><td>█▇▆▅▄▅▅▆▂▃▄▃▃▁▄▃▁▄▁▃</td></tr><tr><td>valid accuracy</td><td>▁▁▁▁▁▁▃▂▂▃▂▅▅▆▇▆▇▆█▆</td></tr></table><br/></div><div class=\"wandb-col\"><h3>Run summary:</h3><br/><table class=\"wandb\"><tr><td>epoch</td><td>20</td></tr><tr><td>train accuracy</td><td>3.33789</td></tr><tr><td>train loss</td><td>1.54613</td></tr><tr><td>valid accuracy</td><td>5.41992</td></tr></table><br/></div></div>"
      ],
      "text/plain": [
       "<IPython.core.display.HTML object>"
      ]
     },
     "metadata": {},
     "output_type": "display_data"
    },
    {
     "data": {
      "text/html": [
       " View run <strong style=\"color:#cdcd00\">ruby-sweep-21</strong> at: <a href='https://wandb.ai/am22s020/Assignment%203/runs/0j0a9p5h' target=\"_blank\">https://wandb.ai/am22s020/Assignment%203/runs/0j0a9p5h</a><br/>Synced 3 W&B file(s), 0 media file(s), 0 artifact file(s) and 0 other file(s)"
      ],
      "text/plain": [
       "<IPython.core.display.HTML object>"
      ]
     },
     "metadata": {},
     "output_type": "display_data"
    },
    {
     "data": {
      "text/html": [
       "Find logs at: <code>.\\wandb\\run-20230508_225423-0j0a9p5h\\logs</code>"
      ],
      "text/plain": [
       "<IPython.core.display.HTML object>"
      ]
     },
     "metadata": {},
     "output_type": "display_data"
    },
    {
     "name": "stderr",
     "output_type": "stream",
     "text": [
      "\u001b[34m\u001b[1mwandb\u001b[0m: Sweep Agent: Waiting for job.\n",
      "\u001b[34m\u001b[1mwandb\u001b[0m: Job received.\n",
      "\u001b[34m\u001b[1mwandb\u001b[0m: Agent Starting Run: wfen4k3q with config:\n",
      "\u001b[34m\u001b[1mwandb\u001b[0m: \tbi_dir: True\n",
      "\u001b[34m\u001b[1mwandb\u001b[0m: \tcell_type: lstm\n",
      "\u001b[34m\u001b[1mwandb\u001b[0m: \tdropout: 0.3\n",
      "\u001b[34m\u001b[1mwandb\u001b[0m: \tembed_size: 128\n",
      "\u001b[34m\u001b[1mwandb\u001b[0m: \thidden_size: 64\n",
      "\u001b[34m\u001b[1mwandb\u001b[0m: \tnum_epochs: 15\n",
      "\u001b[34m\u001b[1mwandb\u001b[0m: \tnum_layers: 2\n",
      "\u001b[34m\u001b[1mwandb\u001b[0m: \u001b[33mWARNING\u001b[0m Ignored wandb.init() arg project when running a sweep.\n"
     ]
    },
    {
     "data": {
      "application/vnd.jupyter.widget-view+json": {
       "model_id": "f7af8842ea0a4621a1fb50e62682fc75",
       "version_major": 2,
       "version_minor": 0
      },
      "text/plain": [
       "VBox(children=(Label(value='Waiting for wandb.init()...\\r'), FloatProgress(value=0.016666666666666666, max=1.0…"
      ]
     },
     "metadata": {},
     "output_type": "display_data"
    },
    {
     "data": {
      "text/html": [
       "wandb version 0.15.2 is available!  To upgrade, please run:\n",
       " $ pip install wandb --upgrade"
      ],
      "text/plain": [
       "<IPython.core.display.HTML object>"
      ]
     },
     "metadata": {},
     "output_type": "display_data"
    },
    {
     "data": {
      "text/html": [
       "Tracking run with wandb version 0.13.11"
      ],
      "text/plain": [
       "<IPython.core.display.HTML object>"
      ]
     },
     "metadata": {},
     "output_type": "display_data"
    },
    {
     "data": {
      "text/html": [
       "Run data is saved locally in <code>C:\\Users\\HICLIPS-ASK\\wandb\\run-20230509_004438-wfen4k3q</code>"
      ],
      "text/plain": [
       "<IPython.core.display.HTML object>"
      ]
     },
     "metadata": {},
     "output_type": "display_data"
    },
    {
     "data": {
      "text/html": [
       "Resuming run <strong><a href='https://wandb.ai/am22s020/Assignment%203/runs/wfen4k3q' target=\"_blank\">iconic-sweep-22</a></strong> to <a href='https://wandb.ai/am22s020/Assignment%203' target=\"_blank\">Weights & Biases</a> (<a href='https://wandb.me/run' target=\"_blank\">docs</a>)<br/>Sweep page: <a href='https://wandb.ai/am22s020/Assignment%203/sweeps/a7mxe1u0' target=\"_blank\">https://wandb.ai/am22s020/Assignment%203/sweeps/a7mxe1u0</a>"
      ],
      "text/plain": [
       "<IPython.core.display.HTML object>"
      ]
     },
     "metadata": {},
     "output_type": "display_data"
    },
    {
     "data": {
      "text/html": [
       " View project at <a href='https://wandb.ai/am22s020/Assignment%203' target=\"_blank\">https://wandb.ai/am22s020/Assignment%203</a>"
      ],
      "text/plain": [
       "<IPython.core.display.HTML object>"
      ]
     },
     "metadata": {},
     "output_type": "display_data"
    },
    {
     "data": {
      "text/html": [
       " View sweep at <a href='https://wandb.ai/am22s020/Assignment%203/sweeps/a7mxe1u0' target=\"_blank\">https://wandb.ai/am22s020/Assignment%203/sweeps/a7mxe1u0</a>"
      ],
      "text/plain": [
       "<IPython.core.display.HTML object>"
      ]
     },
     "metadata": {},
     "output_type": "display_data"
    },
    {
     "data": {
      "text/html": [
       " View run at <a href='https://wandb.ai/am22s020/Assignment%203/runs/wfen4k3q' target=\"_blank\">https://wandb.ai/am22s020/Assignment%203/runs/wfen4k3q</a>"
      ],
      "text/plain": [
       "<IPython.core.display.HTML object>"
      ]
     },
     "metadata": {},
     "output_type": "display_data"
    },
    {
     "name": "stdout",
     "output_type": "stream",
     "text": [
      "cell_lstm_nl_2_hs_64_e_15_bd_True_dr_0.3_ems_128\n",
      "Epoch:  1 / 15\n",
      "Training Loss:  1.6141103506088257\n",
      "Epoch:  2 / 15\n",
      "Training Loss:  1.4492719173431396\n",
      "Epoch:  3 / 15\n",
      "Training Loss:  1.3724950551986694\n",
      "Epoch:  4 / 15\n",
      "Training Loss:  1.2256454229354858\n",
      "Epoch:  5 / 15\n",
      "Training Loss:  0.9794718623161316\n",
      "Epoch:  6 / 15\n",
      "Training Loss:  0.8787771463394165\n",
      "Epoch:  7 / 15\n",
      "Training Loss:  0.8812308311462402\n",
      "Epoch:  8 / 15\n",
      "Training Loss:  0.8783848285675049\n",
      "Epoch:  9 / 15\n",
      "Training Loss:  0.9720834493637085\n",
      "Epoch:  10 / 15\n",
      "Training Loss:  0.8174080848693848\n",
      "Epoch:  11 / 15\n",
      "Training Loss:  1.027345895767212\n",
      "Epoch:  12 / 15\n",
      "Training Loss:  0.8966261148452759\n",
      "Epoch:  13 / 15\n",
      "Training Loss:  0.8414806127548218\n",
      "Epoch:  14 / 15\n",
      "Training Loss:  0.8007476329803467\n",
      "Epoch:  15 / 15\n",
      "Training Loss:  0.5519066452980042\n"
     ]
    },
    {
     "data": {
      "text/html": [
       "Waiting for W&B process to finish... <strong style=\"color:green\">(success).</strong>"
      ],
      "text/plain": [
       "<IPython.core.display.HTML object>"
      ]
     },
     "metadata": {},
     "output_type": "display_data"
    },
    {
     "data": {
      "application/vnd.jupyter.widget-view+json": {
       "model_id": "7c97b1efe2f84e2a9f3af843f9ae5af0",
       "version_major": 2,
       "version_minor": 0
      },
      "text/plain": [
       "VBox(children=(Label(value='0.000 MB of 0.000 MB uploaded (0.000 MB deduped)\\r'), FloatProgress(value=1.0, max…"
      ]
     },
     "metadata": {},
     "output_type": "display_data"
    },
    {
     "data": {
      "text/html": [
       "<style>\n",
       "    table.wandb td:nth-child(1) { padding: 0 10px; text-align: left ; width: auto;} td:nth-child(2) {text-align: left ; width: 100%}\n",
       "    .wandb-row { display: flex; flex-direction: row; flex-wrap: wrap; justify-content: flex-start; width: 100% }\n",
       "    .wandb-col { display: flex; flex-direction: column; flex-basis: 100%; flex: 1; padding: 10px; }\n",
       "    </style>\n",
       "<div class=\"wandb-row\"><div class=\"wandb-col\"><h3>Run history:</h3><br/><table class=\"wandb\"><tr><td>epoch</td><td>▁▁▂▃▃▃▄▅▅▅▆▇▇▇█</td></tr><tr><td>train accuracy</td><td>▁▃▄▄▅▆▆▆▇▇▇████</td></tr><tr><td>train loss</td><td>█▇▆▅▄▃▃▃▄▃▄▃▃▃▁</td></tr><tr><td>valid accuracy</td><td>▁▃▄▅▅▆▇▇▇▇█████</td></tr></table><br/></div><div class=\"wandb-col\"><h3>Run summary:</h3><br/><table class=\"wandb\"><tr><td>epoch</td><td>15</td></tr><tr><td>train accuracy</td><td>29.77734</td></tr><tr><td>train loss</td><td>0.55191</td></tr><tr><td>valid accuracy</td><td>30.59082</td></tr></table><br/></div></div>"
      ],
      "text/plain": [
       "<IPython.core.display.HTML object>"
      ]
     },
     "metadata": {},
     "output_type": "display_data"
    },
    {
     "data": {
      "text/html": [
       " View run <strong style=\"color:#cdcd00\">iconic-sweep-22</strong> at: <a href='https://wandb.ai/am22s020/Assignment%203/runs/wfen4k3q' target=\"_blank\">https://wandb.ai/am22s020/Assignment%203/runs/wfen4k3q</a><br/>Synced 3 W&B file(s), 0 media file(s), 0 artifact file(s) and 0 other file(s)"
      ],
      "text/plain": [
       "<IPython.core.display.HTML object>"
      ]
     },
     "metadata": {},
     "output_type": "display_data"
    },
    {
     "data": {
      "text/html": [
       "Find logs at: <code>.\\wandb\\run-20230509_004438-wfen4k3q\\logs</code>"
      ],
      "text/plain": [
       "<IPython.core.display.HTML object>"
      ]
     },
     "metadata": {},
     "output_type": "display_data"
    },
    {
     "name": "stderr",
     "output_type": "stream",
     "text": [
      "\u001b[34m\u001b[1mwandb\u001b[0m: Agent Starting Run: lqjhl2bd with config:\n",
      "\u001b[34m\u001b[1mwandb\u001b[0m: \tbi_dir: True\n",
      "\u001b[34m\u001b[1mwandb\u001b[0m: \tcell_type: lstm\n",
      "\u001b[34m\u001b[1mwandb\u001b[0m: \tdropout: 0.5\n",
      "\u001b[34m\u001b[1mwandb\u001b[0m: \tembed_size: 64\n",
      "\u001b[34m\u001b[1mwandb\u001b[0m: \thidden_size: 256\n",
      "\u001b[34m\u001b[1mwandb\u001b[0m: \tnum_epochs: 20\n",
      "\u001b[34m\u001b[1mwandb\u001b[0m: \tnum_layers: 2\n",
      "\u001b[34m\u001b[1mwandb\u001b[0m: \u001b[33mWARNING\u001b[0m Ignored wandb.init() arg project when running a sweep.\n"
     ]
    },
    {
     "data": {
      "application/vnd.jupyter.widget-view+json": {
       "model_id": "ced6f898a5a34833b9c03b33057219ee",
       "version_major": 2,
       "version_minor": 0
      },
      "text/plain": [
       "VBox(children=(Label(value='Waiting for wandb.init()...\\r'), FloatProgress(value=0.016933333333145128, max=1.0…"
      ]
     },
     "metadata": {},
     "output_type": "display_data"
    },
    {
     "data": {
      "text/html": [
       "wandb version 0.15.2 is available!  To upgrade, please run:\n",
       " $ pip install wandb --upgrade"
      ],
      "text/plain": [
       "<IPython.core.display.HTML object>"
      ]
     },
     "metadata": {},
     "output_type": "display_data"
    },
    {
     "data": {
      "text/html": [
       "Tracking run with wandb version 0.13.11"
      ],
      "text/plain": [
       "<IPython.core.display.HTML object>"
      ]
     },
     "metadata": {},
     "output_type": "display_data"
    },
    {
     "data": {
      "text/html": [
       "Run data is saved locally in <code>C:\\Users\\HICLIPS-ASK\\wandb\\run-20230509_020147-lqjhl2bd</code>"
      ],
      "text/plain": [
       "<IPython.core.display.HTML object>"
      ]
     },
     "metadata": {},
     "output_type": "display_data"
    },
    {
     "data": {
      "text/html": [
       "Resuming run <strong><a href='https://wandb.ai/am22s020/Assignment%203/runs/lqjhl2bd' target=\"_blank\">youthful-sweep-23</a></strong> to <a href='https://wandb.ai/am22s020/Assignment%203' target=\"_blank\">Weights & Biases</a> (<a href='https://wandb.me/run' target=\"_blank\">docs</a>)<br/>Sweep page: <a href='https://wandb.ai/am22s020/Assignment%203/sweeps/a7mxe1u0' target=\"_blank\">https://wandb.ai/am22s020/Assignment%203/sweeps/a7mxe1u0</a>"
      ],
      "text/plain": [
       "<IPython.core.display.HTML object>"
      ]
     },
     "metadata": {},
     "output_type": "display_data"
    },
    {
     "data": {
      "text/html": [
       " View project at <a href='https://wandb.ai/am22s020/Assignment%203' target=\"_blank\">https://wandb.ai/am22s020/Assignment%203</a>"
      ],
      "text/plain": [
       "<IPython.core.display.HTML object>"
      ]
     },
     "metadata": {},
     "output_type": "display_data"
    },
    {
     "data": {
      "text/html": [
       " View sweep at <a href='https://wandb.ai/am22s020/Assignment%203/sweeps/a7mxe1u0' target=\"_blank\">https://wandb.ai/am22s020/Assignment%203/sweeps/a7mxe1u0</a>"
      ],
      "text/plain": [
       "<IPython.core.display.HTML object>"
      ]
     },
     "metadata": {},
     "output_type": "display_data"
    },
    {
     "data": {
      "text/html": [
       " View run at <a href='https://wandb.ai/am22s020/Assignment%203/runs/lqjhl2bd' target=\"_blank\">https://wandb.ai/am22s020/Assignment%203/runs/lqjhl2bd</a>"
      ],
      "text/plain": [
       "<IPython.core.display.HTML object>"
      ]
     },
     "metadata": {},
     "output_type": "display_data"
    },
    {
     "name": "stdout",
     "output_type": "stream",
     "text": [
      "cell_lstm_nl_2_hs_256_e_20_bd_True_dr_0.5_ems_64\n",
      "Epoch:  1 / 20\n",
      "Training Loss:  1.2435314655303955\n",
      "Epoch:  2 / 20\n",
      "Training Loss:  0.8525512218475342\n",
      "Epoch:  3 / 20\n",
      "Training Loss:  0.7842576503753662\n",
      "Epoch:  4 / 20\n",
      "Training Loss:  0.856486976146698\n",
      "Epoch:  5 / 20\n",
      "Training Loss:  0.7052022218704224\n",
      "Epoch:  6 / 20\n",
      "Training Loss:  0.9154533743858337\n",
      "Epoch:  7 / 20\n",
      "Training Loss:  0.5245258808135986\n",
      "Epoch:  8 / 20\n",
      "Training Loss:  0.6371005773544312\n",
      "Epoch:  9 / 20\n",
      "Training Loss:  0.5394026637077332\n",
      "Epoch:  10 / 20\n",
      "Training Loss:  0.4653800427913666\n",
      "Epoch:  11 / 20\n",
      "Training Loss:  0.6738278269767761\n",
      "Epoch:  12 / 20\n",
      "Training Loss:  0.43926939368247986\n",
      "Epoch:  13 / 20\n",
      "Training Loss:  0.5226016044616699\n",
      "Epoch:  14 / 20\n",
      "Training Loss:  0.5842046141624451\n",
      "Epoch:  15 / 20\n",
      "Training Loss:  0.6583431959152222\n",
      "Epoch:  16 / 20\n",
      "Training Loss:  0.5222588777542114\n",
      "Epoch:  17 / 20\n",
      "Training Loss:  0.3678765892982483\n",
      "Epoch:  18 / 20\n",
      "Training Loss:  0.24893036484718323\n",
      "Epoch:  19 / 20\n",
      "Training Loss:  0.3636111915111542\n",
      "Epoch:  20 / 20\n",
      "Training Loss:  0.4160210192203522\n"
     ]
    },
    {
     "data": {
      "text/html": [
       "Waiting for W&B process to finish... <strong style=\"color:green\">(success).</strong>"
      ],
      "text/plain": [
       "<IPython.core.display.HTML object>"
      ]
     },
     "metadata": {},
     "output_type": "display_data"
    },
    {
     "data": {
      "application/vnd.jupyter.widget-view+json": {
       "model_id": "9538926061be415ebb438000943626ce",
       "version_major": 2,
       "version_minor": 0
      },
      "text/plain": [
       "VBox(children=(Label(value='0.000 MB of 0.000 MB uploaded (0.000 MB deduped)\\r'), FloatProgress(value=1.0, max…"
      ]
     },
     "metadata": {},
     "output_type": "display_data"
    },
    {
     "data": {
      "text/html": [
       "<style>\n",
       "    table.wandb td:nth-child(1) { padding: 0 10px; text-align: left ; width: auto;} td:nth-child(2) {text-align: left ; width: 100%}\n",
       "    .wandb-row { display: flex; flex-direction: row; flex-wrap: wrap; justify-content: flex-start; width: 100% }\n",
       "    .wandb-col { display: flex; flex-direction: column; flex-basis: 100%; flex: 1; padding: 10px; }\n",
       "    </style>\n",
       "<div class=\"wandb-row\"><div class=\"wandb-col\"><h3>Run history:</h3><br/><table class=\"wandb\"><tr><td>epoch</td><td>▁▁▂▂▂▃▃▄▄▄▅▅▅▆▆▇▇▇██</td></tr><tr><td>train accuracy</td><td>▁▂▃▄▄▅▅▅▆▆▆▆▇▇▇▇▇███</td></tr><tr><td>train loss</td><td>█▅▅▅▄▆▃▄▃▃▄▂▃▃▄▃▂▁▂▂</td></tr><tr><td>valid accuracy</td><td>▁▄▅▆▆▇▇▇▇▇██████████</td></tr></table><br/></div><div class=\"wandb-col\"><h3>Run summary:</h3><br/><table class=\"wandb\"><tr><td>epoch</td><td>20</td></tr><tr><td>train accuracy</td><td>62.10352</td></tr><tr><td>train loss</td><td>0.41602</td></tr><tr><td>valid accuracy</td><td>39.69727</td></tr></table><br/></div></div>"
      ],
      "text/plain": [
       "<IPython.core.display.HTML object>"
      ]
     },
     "metadata": {},
     "output_type": "display_data"
    },
    {
     "data": {
      "text/html": [
       " View run <strong style=\"color:#cdcd00\">youthful-sweep-23</strong> at: <a href='https://wandb.ai/am22s020/Assignment%203/runs/lqjhl2bd' target=\"_blank\">https://wandb.ai/am22s020/Assignment%203/runs/lqjhl2bd</a><br/>Synced 3 W&B file(s), 0 media file(s), 0 artifact file(s) and 0 other file(s)"
      ],
      "text/plain": [
       "<IPython.core.display.HTML object>"
      ]
     },
     "metadata": {},
     "output_type": "display_data"
    },
    {
     "data": {
      "text/html": [
       "Find logs at: <code>.\\wandb\\run-20230509_020147-lqjhl2bd\\logs</code>"
      ],
      "text/plain": [
       "<IPython.core.display.HTML object>"
      ]
     },
     "metadata": {},
     "output_type": "display_data"
    },
    {
     "name": "stderr",
     "output_type": "stream",
     "text": [
      "\u001b[34m\u001b[1mwandb\u001b[0m: Sweep Agent: Waiting for job.\n",
      "\u001b[34m\u001b[1mwandb\u001b[0m: Job received.\n",
      "\u001b[34m\u001b[1mwandb\u001b[0m: Agent Starting Run: 8wxube9p with config:\n",
      "\u001b[34m\u001b[1mwandb\u001b[0m: \tbi_dir: True\n",
      "\u001b[34m\u001b[1mwandb\u001b[0m: \tcell_type: gru\n",
      "\u001b[34m\u001b[1mwandb\u001b[0m: \tdropout: 0.3\n",
      "\u001b[34m\u001b[1mwandb\u001b[0m: \tembed_size: 64\n",
      "\u001b[34m\u001b[1mwandb\u001b[0m: \thidden_size: 64\n",
      "\u001b[34m\u001b[1mwandb\u001b[0m: \tnum_epochs: 10\n",
      "\u001b[34m\u001b[1mwandb\u001b[0m: \tnum_layers: 3\n",
      "\u001b[34m\u001b[1mwandb\u001b[0m: \u001b[33mWARNING\u001b[0m Ignored wandb.init() arg project when running a sweep.\n"
     ]
    },
    {
     "data": {
      "application/vnd.jupyter.widget-view+json": {
       "model_id": "cf88ee83eefb431d86b86514c1db0c25",
       "version_major": 2,
       "version_minor": 0
      },
      "text/plain": [
       "VBox(children=(Label(value='Waiting for wandb.init()...\\r'), FloatProgress(value=0.016666666666666666, max=1.0…"
      ]
     },
     "metadata": {},
     "output_type": "display_data"
    },
    {
     "data": {
      "text/html": [
       "wandb version 0.15.2 is available!  To upgrade, please run:\n",
       " $ pip install wandb --upgrade"
      ],
      "text/plain": [
       "<IPython.core.display.HTML object>"
      ]
     },
     "metadata": {},
     "output_type": "display_data"
    },
    {
     "data": {
      "text/html": [
       "Tracking run with wandb version 0.13.11"
      ],
      "text/plain": [
       "<IPython.core.display.HTML object>"
      ]
     },
     "metadata": {},
     "output_type": "display_data"
    },
    {
     "data": {
      "text/html": [
       "Run data is saved locally in <code>C:\\Users\\HICLIPS-ASK\\wandb\\run-20230509_040042-8wxube9p</code>"
      ],
      "text/plain": [
       "<IPython.core.display.HTML object>"
      ]
     },
     "metadata": {},
     "output_type": "display_data"
    },
    {
     "data": {
      "text/html": [
       "Resuming run <strong><a href='https://wandb.ai/am22s020/Assignment%203/runs/8wxube9p' target=\"_blank\">absurd-sweep-24</a></strong> to <a href='https://wandb.ai/am22s020/Assignment%203' target=\"_blank\">Weights & Biases</a> (<a href='https://wandb.me/run' target=\"_blank\">docs</a>)<br/>Sweep page: <a href='https://wandb.ai/am22s020/Assignment%203/sweeps/a7mxe1u0' target=\"_blank\">https://wandb.ai/am22s020/Assignment%203/sweeps/a7mxe1u0</a>"
      ],
      "text/plain": [
       "<IPython.core.display.HTML object>"
      ]
     },
     "metadata": {},
     "output_type": "display_data"
    },
    {
     "data": {
      "text/html": [
       " View project at <a href='https://wandb.ai/am22s020/Assignment%203' target=\"_blank\">https://wandb.ai/am22s020/Assignment%203</a>"
      ],
      "text/plain": [
       "<IPython.core.display.HTML object>"
      ]
     },
     "metadata": {},
     "output_type": "display_data"
    },
    {
     "data": {
      "text/html": [
       " View sweep at <a href='https://wandb.ai/am22s020/Assignment%203/sweeps/a7mxe1u0' target=\"_blank\">https://wandb.ai/am22s020/Assignment%203/sweeps/a7mxe1u0</a>"
      ],
      "text/plain": [
       "<IPython.core.display.HTML object>"
      ]
     },
     "metadata": {},
     "output_type": "display_data"
    },
    {
     "data": {
      "text/html": [
       " View run at <a href='https://wandb.ai/am22s020/Assignment%203/runs/8wxube9p' target=\"_blank\">https://wandb.ai/am22s020/Assignment%203/runs/8wxube9p</a>"
      ],
      "text/plain": [
       "<IPython.core.display.HTML object>"
      ]
     },
     "metadata": {},
     "output_type": "display_data"
    },
    {
     "name": "stdout",
     "output_type": "stream",
     "text": [
      "cell_gru_nl_3_hs_64_e_10_bd_True_dr_0.3_ems_64\n",
      "Epoch:  1 / 10\n",
      "Training Loss:  1.9137864112854004\n",
      "Epoch:  2 / 10\n",
      "Training Loss:  1.2832666635513306\n",
      "Epoch:  3 / 10\n",
      "Training Loss:  1.339212417602539\n",
      "Epoch:  4 / 10\n",
      "Training Loss:  0.8817259669303894\n",
      "Epoch:  5 / 10\n",
      "Training Loss:  0.9067984819412231\n",
      "Epoch:  6 / 10\n",
      "Training Loss:  1.0449872016906738\n",
      "Epoch:  7 / 10\n",
      "Training Loss:  1.1369551420211792\n",
      "Epoch:  8 / 10\n",
      "Training Loss:  0.8459808230400085\n",
      "Epoch:  9 / 10\n",
      "Training Loss:  0.8901092410087585\n",
      "Epoch:  10 / 10\n",
      "Training Loss:  0.7559152245521545\n"
     ]
    },
    {
     "data": {
      "text/html": [
       "Waiting for W&B process to finish... <strong style=\"color:green\">(success).</strong>"
      ],
      "text/plain": [
       "<IPython.core.display.HTML object>"
      ]
     },
     "metadata": {},
     "output_type": "display_data"
    },
    {
     "data": {
      "application/vnd.jupyter.widget-view+json": {
       "model_id": "e0bc9c9995614fd4b9d3ff8da09c017e",
       "version_major": 2,
       "version_minor": 0
      },
      "text/plain": [
       "VBox(children=(Label(value='0.000 MB of 0.000 MB uploaded (0.000 MB deduped)\\r'), FloatProgress(value=1.0, max…"
      ]
     },
     "metadata": {},
     "output_type": "display_data"
    },
    {
     "data": {
      "text/html": [
       "<style>\n",
       "    table.wandb td:nth-child(1) { padding: 0 10px; text-align: left ; width: auto;} td:nth-child(2) {text-align: left ; width: 100%}\n",
       "    .wandb-row { display: flex; flex-direction: row; flex-wrap: wrap; justify-content: flex-start; width: 100% }\n",
       "    .wandb-col { display: flex; flex-direction: column; flex-basis: 100%; flex: 1; padding: 10px; }\n",
       "    </style>\n",
       "<div class=\"wandb-row\"><div class=\"wandb-col\"><h3>Run history:</h3><br/><table class=\"wandb\"><tr><td>epoch</td><td>▁▂▃▃▄▅▆▆▇█</td></tr><tr><td>train accuracy</td><td>▁▂▄▅▆▇▇▇██</td></tr><tr><td>train loss</td><td>█▄▅▂▂▃▃▂▂▁</td></tr><tr><td>valid accuracy</td><td>▁▃▅▆▆▇▇▇██</td></tr></table><br/></div><div class=\"wandb-col\"><h3>Run summary:</h3><br/><table class=\"wandb\"><tr><td>epoch</td><td>10</td></tr><tr><td>train accuracy</td><td>25.18359</td></tr><tr><td>train loss</td><td>0.75592</td></tr><tr><td>valid accuracy</td><td>28.07617</td></tr></table><br/></div></div>"
      ],
      "text/plain": [
       "<IPython.core.display.HTML object>"
      ]
     },
     "metadata": {},
     "output_type": "display_data"
    },
    {
     "data": {
      "text/html": [
       " View run <strong style=\"color:#cdcd00\">absurd-sweep-24</strong> at: <a href='https://wandb.ai/am22s020/Assignment%203/runs/8wxube9p' target=\"_blank\">https://wandb.ai/am22s020/Assignment%203/runs/8wxube9p</a><br/>Synced 3 W&B file(s), 0 media file(s), 0 artifact file(s) and 0 other file(s)"
      ],
      "text/plain": [
       "<IPython.core.display.HTML object>"
      ]
     },
     "metadata": {},
     "output_type": "display_data"
    },
    {
     "data": {
      "text/html": [
       "Find logs at: <code>.\\wandb\\run-20230509_040042-8wxube9p\\logs</code>"
      ],
      "text/plain": [
       "<IPython.core.display.HTML object>"
      ]
     },
     "metadata": {},
     "output_type": "display_data"
    },
    {
     "name": "stderr",
     "output_type": "stream",
     "text": [
      "\u001b[34m\u001b[1mwandb\u001b[0m: Agent Starting Run: hpzxbfx1 with config:\n",
      "\u001b[34m\u001b[1mwandb\u001b[0m: \tbi_dir: False\n",
      "\u001b[34m\u001b[1mwandb\u001b[0m: \tcell_type: rnn\n",
      "\u001b[34m\u001b[1mwandb\u001b[0m: \tdropout: 0.2\n",
      "\u001b[34m\u001b[1mwandb\u001b[0m: \tembed_size: 128\n",
      "\u001b[34m\u001b[1mwandb\u001b[0m: \thidden_size: 128\n",
      "\u001b[34m\u001b[1mwandb\u001b[0m: \tnum_epochs: 15\n",
      "\u001b[34m\u001b[1mwandb\u001b[0m: \tnum_layers: 2\n",
      "\u001b[34m\u001b[1mwandb\u001b[0m: \u001b[33mWARNING\u001b[0m Ignored wandb.init() arg project when running a sweep.\n"
     ]
    },
    {
     "data": {
      "application/vnd.jupyter.widget-view+json": {
       "model_id": "e7c2a4cde01d445ebcf709b692e49e05",
       "version_major": 2,
       "version_minor": 0
      },
      "text/plain": [
       "VBox(children=(Label(value='Waiting for wandb.init()...\\r'), FloatProgress(value=0.01693333333338766, max=1.0)…"
      ]
     },
     "metadata": {},
     "output_type": "display_data"
    },
    {
     "data": {
      "text/html": [
       "wandb version 0.15.2 is available!  To upgrade, please run:\n",
       " $ pip install wandb --upgrade"
      ],
      "text/plain": [
       "<IPython.core.display.HTML object>"
      ]
     },
     "metadata": {},
     "output_type": "display_data"
    },
    {
     "data": {
      "text/html": [
       "Tracking run with wandb version 0.13.11"
      ],
      "text/plain": [
       "<IPython.core.display.HTML object>"
      ]
     },
     "metadata": {},
     "output_type": "display_data"
    },
    {
     "data": {
      "text/html": [
       "Run data is saved locally in <code>C:\\Users\\HICLIPS-ASK\\wandb\\run-20230509_045213-hpzxbfx1</code>"
      ],
      "text/plain": [
       "<IPython.core.display.HTML object>"
      ]
     },
     "metadata": {},
     "output_type": "display_data"
    },
    {
     "data": {
      "text/html": [
       "Resuming run <strong><a href='https://wandb.ai/am22s020/Assignment%203/runs/hpzxbfx1' target=\"_blank\">warm-sweep-25</a></strong> to <a href='https://wandb.ai/am22s020/Assignment%203' target=\"_blank\">Weights & Biases</a> (<a href='https://wandb.me/run' target=\"_blank\">docs</a>)<br/>Sweep page: <a href='https://wandb.ai/am22s020/Assignment%203/sweeps/a7mxe1u0' target=\"_blank\">https://wandb.ai/am22s020/Assignment%203/sweeps/a7mxe1u0</a>"
      ],
      "text/plain": [
       "<IPython.core.display.HTML object>"
      ]
     },
     "metadata": {},
     "output_type": "display_data"
    },
    {
     "data": {
      "text/html": [
       " View project at <a href='https://wandb.ai/am22s020/Assignment%203' target=\"_blank\">https://wandb.ai/am22s020/Assignment%203</a>"
      ],
      "text/plain": [
       "<IPython.core.display.HTML object>"
      ]
     },
     "metadata": {},
     "output_type": "display_data"
    },
    {
     "data": {
      "text/html": [
       " View sweep at <a href='https://wandb.ai/am22s020/Assignment%203/sweeps/a7mxe1u0' target=\"_blank\">https://wandb.ai/am22s020/Assignment%203/sweeps/a7mxe1u0</a>"
      ],
      "text/plain": [
       "<IPython.core.display.HTML object>"
      ]
     },
     "metadata": {},
     "output_type": "display_data"
    },
    {
     "data": {
      "text/html": [
       " View run at <a href='https://wandb.ai/am22s020/Assignment%203/runs/hpzxbfx1' target=\"_blank\">https://wandb.ai/am22s020/Assignment%203/runs/hpzxbfx1</a>"
      ],
      "text/plain": [
       "<IPython.core.display.HTML object>"
      ]
     },
     "metadata": {},
     "output_type": "display_data"
    },
    {
     "name": "stdout",
     "output_type": "stream",
     "text": [
      "cell_rnn_nl_2_hs_128_e_15_bd_False_dr_0.2_ems_128\n",
      "Epoch:  1 / 15\n",
      "Training Loss:  2.906339168548584\n",
      "Epoch:  2 / 15\n",
      "Training Loss:  3.0564560890197754\n",
      "Epoch:  3 / 15\n",
      "Training Loss:  3.056919574737549\n",
      "Epoch:  4 / 15\n",
      "Training Loss:  2.820321559906006\n",
      "Epoch:  5 / 15\n",
      "Training Loss:  3.0272915363311768\n",
      "Epoch:  6 / 15\n",
      "Training Loss:  2.8388559818267822\n",
      "Epoch:  7 / 15\n",
      "Training Loss:  2.7145602703094482\n",
      "Epoch:  8 / 15\n",
      "Training Loss:  3.029923677444458\n",
      "Epoch:  9 / 15\n",
      "Training Loss:  2.812329053878784\n",
      "Epoch:  10 / 15\n",
      "Training Loss:  2.8527867794036865\n",
      "Epoch:  11 / 15\n",
      "Training Loss:  2.7460644245147705\n",
      "Epoch:  12 / 15\n",
      "Training Loss:  2.836313486099243\n",
      "Epoch:  13 / 15\n",
      "Training Loss:  3.1494362354278564\n",
      "Epoch:  14 / 15\n",
      "Training Loss:  2.952622652053833\n",
      "Epoch:  15 / 15\n",
      "Training Loss:  2.8214633464813232\n"
     ]
    },
    {
     "data": {
      "text/html": [
       "Waiting for W&B process to finish... <strong style=\"color:green\">(success).</strong>"
      ],
      "text/plain": [
       "<IPython.core.display.HTML object>"
      ]
     },
     "metadata": {},
     "output_type": "display_data"
    },
    {
     "data": {
      "application/vnd.jupyter.widget-view+json": {
       "model_id": "8cda0e3b508844c4b7036b8efc229963",
       "version_major": 2,
       "version_minor": 0
      },
      "text/plain": [
       "VBox(children=(Label(value='0.000 MB of 0.001 MB uploaded (0.000 MB deduped)\\r'), FloatProgress(value=0.0, max…"
      ]
     },
     "metadata": {},
     "output_type": "display_data"
    },
    {
     "data": {
      "text/html": [
       "<style>\n",
       "    table.wandb td:nth-child(1) { padding: 0 10px; text-align: left ; width: auto;} td:nth-child(2) {text-align: left ; width: 100%}\n",
       "    .wandb-row { display: flex; flex-direction: row; flex-wrap: wrap; justify-content: flex-start; width: 100% }\n",
       "    .wandb-col { display: flex; flex-direction: column; flex-basis: 100%; flex: 1; padding: 10px; }\n",
       "    </style>\n",
       "<div class=\"wandb-row\"><div class=\"wandb-col\"><h3>Run history:</h3><br/><table class=\"wandb\"><tr><td>epoch</td><td>▁▁▂▃▃▃▄▅▅▅▆▇▇▇█</td></tr><tr><td>train accuracy</td><td>▁▁▁▁▁▁▁▁▁▁▁▁▁▁▁</td></tr><tr><td>train loss</td><td>▄▇▇▃▆▃▁▆▃▃▂▃█▅▃</td></tr><tr><td>valid accuracy</td><td>▁▁█▁█▁▁█▁▁▁▁▁▁▁</td></tr></table><br/></div><div class=\"wandb-col\"><h3>Run summary:</h3><br/><table class=\"wandb\"><tr><td>epoch</td><td>15</td></tr><tr><td>train accuracy</td><td>0.0</td></tr><tr><td>train loss</td><td>2.82146</td></tr><tr><td>valid accuracy</td><td>0.0</td></tr></table><br/></div></div>"
      ],
      "text/plain": [
       "<IPython.core.display.HTML object>"
      ]
     },
     "metadata": {},
     "output_type": "display_data"
    },
    {
     "data": {
      "text/html": [
       " View run <strong style=\"color:#cdcd00\">warm-sweep-25</strong> at: <a href='https://wandb.ai/am22s020/Assignment%203/runs/hpzxbfx1' target=\"_blank\">https://wandb.ai/am22s020/Assignment%203/runs/hpzxbfx1</a><br/>Synced 3 W&B file(s), 0 media file(s), 0 artifact file(s) and 0 other file(s)"
      ],
      "text/plain": [
       "<IPython.core.display.HTML object>"
      ]
     },
     "metadata": {},
     "output_type": "display_data"
    },
    {
     "data": {
      "text/html": [
       "Find logs at: <code>.\\wandb\\run-20230509_045213-hpzxbfx1\\logs</code>"
      ],
      "text/plain": [
       "<IPython.core.display.HTML object>"
      ]
     },
     "metadata": {},
     "output_type": "display_data"
    },
    {
     "name": "stderr",
     "output_type": "stream",
     "text": [
      "\u001b[34m\u001b[1mwandb\u001b[0m: Sweep Agent: Waiting for job.\n",
      "\u001b[34m\u001b[1mwandb\u001b[0m: Job received.\n",
      "\u001b[34m\u001b[1mwandb\u001b[0m: Agent Starting Run: h9zh679i with config:\n",
      "\u001b[34m\u001b[1mwandb\u001b[0m: \tbi_dir: False\n",
      "\u001b[34m\u001b[1mwandb\u001b[0m: \tcell_type: rnn\n",
      "\u001b[34m\u001b[1mwandb\u001b[0m: \tdropout: 0.2\n",
      "\u001b[34m\u001b[1mwandb\u001b[0m: \tembed_size: 64\n",
      "\u001b[34m\u001b[1mwandb\u001b[0m: \thidden_size: 256\n",
      "\u001b[34m\u001b[1mwandb\u001b[0m: \tnum_epochs: 15\n",
      "\u001b[34m\u001b[1mwandb\u001b[0m: \tnum_layers: 2\n",
      "\u001b[34m\u001b[1mwandb\u001b[0m: \u001b[33mWARNING\u001b[0m Ignored wandb.init() arg project when running a sweep.\n"
     ]
    },
    {
     "data": {
      "text/html": [
       "wandb version 0.15.2 is available!  To upgrade, please run:\n",
       " $ pip install wandb --upgrade"
      ],
      "text/plain": [
       "<IPython.core.display.HTML object>"
      ]
     },
     "metadata": {},
     "output_type": "display_data"
    },
    {
     "data": {
      "text/html": [
       "Tracking run with wandb version 0.13.11"
      ],
      "text/plain": [
       "<IPython.core.display.HTML object>"
      ]
     },
     "metadata": {},
     "output_type": "display_data"
    },
    {
     "data": {
      "text/html": [
       "Run data is saved locally in <code>C:\\Users\\HICLIPS-ASK\\wandb\\run-20230509_060728-h9zh679i</code>"
      ],
      "text/plain": [
       "<IPython.core.display.HTML object>"
      ]
     },
     "metadata": {},
     "output_type": "display_data"
    },
    {
     "data": {
      "text/html": [
       "Resuming run <strong><a href='https://wandb.ai/am22s020/Assignment%203/runs/h9zh679i' target=\"_blank\">lilac-sweep-26</a></strong> to <a href='https://wandb.ai/am22s020/Assignment%203' target=\"_blank\">Weights & Biases</a> (<a href='https://wandb.me/run' target=\"_blank\">docs</a>)<br/>Sweep page: <a href='https://wandb.ai/am22s020/Assignment%203/sweeps/a7mxe1u0' target=\"_blank\">https://wandb.ai/am22s020/Assignment%203/sweeps/a7mxe1u0</a>"
      ],
      "text/plain": [
       "<IPython.core.display.HTML object>"
      ]
     },
     "metadata": {},
     "output_type": "display_data"
    },
    {
     "data": {
      "text/html": [
       " View project at <a href='https://wandb.ai/am22s020/Assignment%203' target=\"_blank\">https://wandb.ai/am22s020/Assignment%203</a>"
      ],
      "text/plain": [
       "<IPython.core.display.HTML object>"
      ]
     },
     "metadata": {},
     "output_type": "display_data"
    },
    {
     "data": {
      "text/html": [
       " View sweep at <a href='https://wandb.ai/am22s020/Assignment%203/sweeps/a7mxe1u0' target=\"_blank\">https://wandb.ai/am22s020/Assignment%203/sweeps/a7mxe1u0</a>"
      ],
      "text/plain": [
       "<IPython.core.display.HTML object>"
      ]
     },
     "metadata": {},
     "output_type": "display_data"
    },
    {
     "data": {
      "text/html": [
       " View run at <a href='https://wandb.ai/am22s020/Assignment%203/runs/h9zh679i' target=\"_blank\">https://wandb.ai/am22s020/Assignment%203/runs/h9zh679i</a>"
      ],
      "text/plain": [
       "<IPython.core.display.HTML object>"
      ]
     },
     "metadata": {},
     "output_type": "display_data"
    },
    {
     "name": "stdout",
     "output_type": "stream",
     "text": [
      "cell_rnn_nl_2_hs_256_e_15_bd_False_dr_0.2_ems_64\n",
      "Epoch:  1 / 15\n",
      "Training Loss:  2.859100580215454\n",
      "Epoch:  2 / 15\n",
      "Training Loss:  2.8683297634124756\n",
      "Epoch:  3 / 15\n",
      "Training Loss:  2.858440637588501\n",
      "Epoch:  4 / 15\n",
      "Training Loss:  2.9910736083984375\n",
      "Epoch:  5 / 15\n",
      "Training Loss:  3.2265093326568604\n",
      "Epoch:  6 / 15\n",
      "Training Loss:  2.8445451259613037\n",
      "Epoch:  7 / 15\n",
      "Training Loss:  2.8930065631866455\n",
      "Epoch:  8 / 15\n",
      "Training Loss:  2.661224365234375\n",
      "Epoch:  9 / 15\n",
      "Training Loss:  2.882998466491699\n",
      "Epoch:  10 / 15\n",
      "Training Loss:  2.751862049102783\n",
      "Epoch:  11 / 15\n",
      "Training Loss:  2.7757656574249268\n",
      "Epoch:  12 / 15\n",
      "Training Loss:  2.804786443710327\n",
      "Epoch:  13 / 15\n",
      "Training Loss:  2.9659037590026855\n",
      "Epoch:  14 / 15\n",
      "Training Loss:  2.733224391937256\n",
      "Epoch:  15 / 15\n",
      "Training Loss:  2.6718266010284424\n"
     ]
    },
    {
     "data": {
      "text/html": [
       "Waiting for W&B process to finish... <strong style=\"color:green\">(success).</strong>"
      ],
      "text/plain": [
       "<IPython.core.display.HTML object>"
      ]
     },
     "metadata": {},
     "output_type": "display_data"
    },
    {
     "data": {
      "text/html": [
       "<style>\n",
       "    table.wandb td:nth-child(1) { padding: 0 10px; text-align: left ; width: auto;} td:nth-child(2) {text-align: left ; width: 100%}\n",
       "    .wandb-row { display: flex; flex-direction: row; flex-wrap: wrap; justify-content: flex-start; width: 100% }\n",
       "    .wandb-col { display: flex; flex-direction: column; flex-basis: 100%; flex: 1; padding: 10px; }\n",
       "    </style>\n",
       "<div class=\"wandb-row\"><div class=\"wandb-col\"><h3>Run history:</h3><br/><table class=\"wandb\"><tr><td>epoch</td><td>▁▁▂▃▃▃▄▅▅▅▆▇▇▇█</td></tr><tr><td>train accuracy</td><td>▁▁▁▁▁▁▁▁▁▁▁▁▁▁▁</td></tr><tr><td>train loss</td><td>▃▄▃▅█▃▄▁▄▂▂▃▅▂▁</td></tr><tr><td>valid accuracy</td><td>▁▁▁▁▁▁▁▁▁▁▁▁▁▁▁</td></tr></table><br/></div><div class=\"wandb-col\"><h3>Run summary:</h3><br/><table class=\"wandb\"><tr><td>epoch</td><td>15</td></tr><tr><td>train accuracy</td><td>0.0</td></tr><tr><td>train loss</td><td>2.67183</td></tr><tr><td>valid accuracy</td><td>0.0</td></tr></table><br/></div></div>"
      ],
      "text/plain": [
       "<IPython.core.display.HTML object>"
      ]
     },
     "metadata": {},
     "output_type": "display_data"
    },
    {
     "data": {
      "text/html": [
       " View run <strong style=\"color:#cdcd00\">lilac-sweep-26</strong> at: <a href='https://wandb.ai/am22s020/Assignment%203/runs/h9zh679i' target=\"_blank\">https://wandb.ai/am22s020/Assignment%203/runs/h9zh679i</a><br/>Synced 3 W&B file(s), 0 media file(s), 0 artifact file(s) and 0 other file(s)"
      ],
      "text/plain": [
       "<IPython.core.display.HTML object>"
      ]
     },
     "metadata": {},
     "output_type": "display_data"
    },
    {
     "data": {
      "text/html": [
       "Find logs at: <code>.\\wandb\\run-20230509_060728-h9zh679i\\logs</code>"
      ],
      "text/plain": [
       "<IPython.core.display.HTML object>"
      ]
     },
     "metadata": {},
     "output_type": "display_data"
    },
    {
     "name": "stderr",
     "output_type": "stream",
     "text": [
      "\u001b[34m\u001b[1mwandb\u001b[0m: Agent Starting Run: 665y5chs with config:\n",
      "\u001b[34m\u001b[1mwandb\u001b[0m: \tbi_dir: True\n",
      "\u001b[34m\u001b[1mwandb\u001b[0m: \tcell_type: gru\n",
      "\u001b[34m\u001b[1mwandb\u001b[0m: \tdropout: 0.5\n",
      "\u001b[34m\u001b[1mwandb\u001b[0m: \tembed_size: 128\n",
      "\u001b[34m\u001b[1mwandb\u001b[0m: \thidden_size: 64\n",
      "\u001b[34m\u001b[1mwandb\u001b[0m: \tnum_epochs: 15\n",
      "\u001b[34m\u001b[1mwandb\u001b[0m: \tnum_layers: 4\n",
      "\u001b[34m\u001b[1mwandb\u001b[0m: \u001b[33mWARNING\u001b[0m Ignored wandb.init() arg project when running a sweep.\n"
     ]
    },
    {
     "data": {
      "application/vnd.jupyter.widget-view+json": {
       "model_id": "f326c3e924f94e9b953bf626f286a699",
       "version_major": 2,
       "version_minor": 0
      },
      "text/plain": [
       "VBox(children=(Label(value='Waiting for wandb.init()...\\r'), FloatProgress(value=0.016916666666899498, max=1.0…"
      ]
     },
     "metadata": {},
     "output_type": "display_data"
    },
    {
     "data": {
      "text/html": [
       "wandb version 0.15.2 is available!  To upgrade, please run:\n",
       " $ pip install wandb --upgrade"
      ],
      "text/plain": [
       "<IPython.core.display.HTML object>"
      ]
     },
     "metadata": {},
     "output_type": "display_data"
    },
    {
     "data": {
      "text/html": [
       "Tracking run with wandb version 0.13.11"
      ],
      "text/plain": [
       "<IPython.core.display.HTML object>"
      ]
     },
     "metadata": {},
     "output_type": "display_data"
    },
    {
     "data": {
      "text/html": [
       "Run data is saved locally in <code>C:\\Users\\HICLIPS-ASK\\wandb\\run-20230509_073336-665y5chs</code>"
      ],
      "text/plain": [
       "<IPython.core.display.HTML object>"
      ]
     },
     "metadata": {},
     "output_type": "display_data"
    },
    {
     "data": {
      "text/html": [
       "Resuming run <strong><a href='https://wandb.ai/am22s020/Assignment%203/runs/665y5chs' target=\"_blank\">pretty-sweep-27</a></strong> to <a href='https://wandb.ai/am22s020/Assignment%203' target=\"_blank\">Weights & Biases</a> (<a href='https://wandb.me/run' target=\"_blank\">docs</a>)<br/>Sweep page: <a href='https://wandb.ai/am22s020/Assignment%203/sweeps/a7mxe1u0' target=\"_blank\">https://wandb.ai/am22s020/Assignment%203/sweeps/a7mxe1u0</a>"
      ],
      "text/plain": [
       "<IPython.core.display.HTML object>"
      ]
     },
     "metadata": {},
     "output_type": "display_data"
    },
    {
     "data": {
      "text/html": [
       " View project at <a href='https://wandb.ai/am22s020/Assignment%203' target=\"_blank\">https://wandb.ai/am22s020/Assignment%203</a>"
      ],
      "text/plain": [
       "<IPython.core.display.HTML object>"
      ]
     },
     "metadata": {},
     "output_type": "display_data"
    },
    {
     "data": {
      "text/html": [
       " View sweep at <a href='https://wandb.ai/am22s020/Assignment%203/sweeps/a7mxe1u0' target=\"_blank\">https://wandb.ai/am22s020/Assignment%203/sweeps/a7mxe1u0</a>"
      ],
      "text/plain": [
       "<IPython.core.display.HTML object>"
      ]
     },
     "metadata": {},
     "output_type": "display_data"
    },
    {
     "data": {
      "text/html": [
       " View run at <a href='https://wandb.ai/am22s020/Assignment%203/runs/665y5chs' target=\"_blank\">https://wandb.ai/am22s020/Assignment%203/runs/665y5chs</a>"
      ],
      "text/plain": [
       "<IPython.core.display.HTML object>"
      ]
     },
     "metadata": {},
     "output_type": "display_data"
    },
    {
     "name": "stdout",
     "output_type": "stream",
     "text": [
      "cell_gru_nl_4_hs_64_e_15_bd_True_dr_0.5_ems_128\n",
      "Epoch:  1 / 15\n",
      "Training Loss:  2.123441696166992\n",
      "Epoch:  2 / 15\n",
      "Training Loss:  1.6293542385101318\n",
      "Epoch:  3 / 15\n",
      "Training Loss:  1.2994298934936523\n",
      "Epoch:  4 / 15\n",
      "Training Loss:  1.1630849838256836\n",
      "Epoch:  5 / 15\n",
      "Training Loss:  1.2032283544540405\n",
      "Epoch:  6 / 15\n",
      "Training Loss:  1.3733172416687012\n",
      "Epoch:  7 / 15\n",
      "Training Loss:  1.2392295598983765\n",
      "Epoch:  8 / 15\n",
      "Training Loss:  1.3665441274642944\n",
      "Epoch:  9 / 15\n",
      "Training Loss:  0.9769058227539062\n",
      "Epoch:  10 / 15\n",
      "Training Loss:  0.8990507125854492\n",
      "Epoch:  11 / 15\n",
      "Training Loss:  0.8930866122245789\n",
      "Epoch:  12 / 15\n",
      "Training Loss:  1.1463818550109863\n",
      "Epoch:  13 / 15\n",
      "Training Loss:  0.8204144835472107\n",
      "Epoch:  14 / 15\n",
      "Training Loss:  0.9367572069168091\n",
      "Epoch:  15 / 15\n",
      "Training Loss:  0.9828773140907288\n"
     ]
    },
    {
     "data": {
      "text/html": [
       "Waiting for W&B process to finish... <strong style=\"color:green\">(success).</strong>"
      ],
      "text/plain": [
       "<IPython.core.display.HTML object>"
      ]
     },
     "metadata": {},
     "output_type": "display_data"
    },
    {
     "data": {
      "application/vnd.jupyter.widget-view+json": {
       "model_id": "5832f1d51f4d4e3aa9fdf29447b32d8e",
       "version_major": 2,
       "version_minor": 0
      },
      "text/plain": [
       "VBox(children=(Label(value='0.000 MB of 0.000 MB uploaded (0.000 MB deduped)\\r'), FloatProgress(value=1.0, max…"
      ]
     },
     "metadata": {},
     "output_type": "display_data"
    },
    {
     "data": {
      "text/html": [
       "<style>\n",
       "    table.wandb td:nth-child(1) { padding: 0 10px; text-align: left ; width: auto;} td:nth-child(2) {text-align: left ; width: 100%}\n",
       "    .wandb-row { display: flex; flex-direction: row; flex-wrap: wrap; justify-content: flex-start; width: 100% }\n",
       "    .wandb-col { display: flex; flex-direction: column; flex-basis: 100%; flex: 1; padding: 10px; }\n",
       "    </style>\n",
       "<div class=\"wandb-row\"><div class=\"wandb-col\"><h3>Run history:</h3><br/><table class=\"wandb\"><tr><td>epoch</td><td>▁▁▂▃▃▃▄▅▅▅▆▇▇▇█</td></tr><tr><td>train accuracy</td><td>▁▂▃▄▅▅▆▆▆▇▇▇█▇█</td></tr><tr><td>train loss</td><td>█▅▄▃▃▄▃▄▂▁▁▃▁▂▂</td></tr><tr><td>valid accuracy</td><td>▁▂▄▄▅▆▆▆▆▇▇▇███</td></tr></table><br/></div><div class=\"wandb-col\"><h3>Run summary:</h3><br/><table class=\"wandb\"><tr><td>epoch</td><td>15</td></tr><tr><td>train accuracy</td><td>21.375</td></tr><tr><td>train loss</td><td>0.98288</td></tr><tr><td>valid accuracy</td><td>23.07129</td></tr></table><br/></div></div>"
      ],
      "text/plain": [
       "<IPython.core.display.HTML object>"
      ]
     },
     "metadata": {},
     "output_type": "display_data"
    },
    {
     "data": {
      "text/html": [
       " View run <strong style=\"color:#cdcd00\">pretty-sweep-27</strong> at: <a href='https://wandb.ai/am22s020/Assignment%203/runs/665y5chs' target=\"_blank\">https://wandb.ai/am22s020/Assignment%203/runs/665y5chs</a><br/>Synced 3 W&B file(s), 0 media file(s), 0 artifact file(s) and 0 other file(s)"
      ],
      "text/plain": [
       "<IPython.core.display.HTML object>"
      ]
     },
     "metadata": {},
     "output_type": "display_data"
    },
    {
     "data": {
      "text/html": [
       "Find logs at: <code>.\\wandb\\run-20230509_073336-665y5chs\\logs</code>"
      ],
      "text/plain": [
       "<IPython.core.display.HTML object>"
      ]
     },
     "metadata": {},
     "output_type": "display_data"
    },
    {
     "name": "stderr",
     "output_type": "stream",
     "text": [
      "\u001b[34m\u001b[1mwandb\u001b[0m: Agent Starting Run: i3dn0dao with config:\n",
      "\u001b[34m\u001b[1mwandb\u001b[0m: \tbi_dir: False\n",
      "\u001b[34m\u001b[1mwandb\u001b[0m: \tcell_type: gru\n",
      "\u001b[34m\u001b[1mwandb\u001b[0m: \tdropout: 0.2\n",
      "\u001b[34m\u001b[1mwandb\u001b[0m: \tembed_size: 128\n",
      "\u001b[34m\u001b[1mwandb\u001b[0m: \thidden_size: 256\n",
      "\u001b[34m\u001b[1mwandb\u001b[0m: \tnum_epochs: 10\n",
      "\u001b[34m\u001b[1mwandb\u001b[0m: \tnum_layers: 3\n",
      "\u001b[34m\u001b[1mwandb\u001b[0m: \u001b[33mWARNING\u001b[0m Ignored wandb.init() arg project when running a sweep.\n"
     ]
    },
    {
     "data": {
      "application/vnd.jupyter.widget-view+json": {
       "model_id": "7fdd293830bf4b4286ea56021377d15e",
       "version_major": 2,
       "version_minor": 0
      },
      "text/plain": [
       "VBox(children=(Label(value='Waiting for wandb.init()...\\r'), FloatProgress(value=0.01693333333338766, max=1.0)…"
      ]
     },
     "metadata": {},
     "output_type": "display_data"
    },
    {
     "data": {
      "text/html": [
       "wandb version 0.15.2 is available!  To upgrade, please run:\n",
       " $ pip install wandb --upgrade"
      ],
      "text/plain": [
       "<IPython.core.display.HTML object>"
      ]
     },
     "metadata": {},
     "output_type": "display_data"
    },
    {
     "data": {
      "text/html": [
       "Tracking run with wandb version 0.13.11"
      ],
      "text/plain": [
       "<IPython.core.display.HTML object>"
      ]
     },
     "metadata": {},
     "output_type": "display_data"
    },
    {
     "data": {
      "text/html": [
       "Run data is saved locally in <code>C:\\Users\\HICLIPS-ASK\\wandb\\run-20230509_085445-i3dn0dao</code>"
      ],
      "text/plain": [
       "<IPython.core.display.HTML object>"
      ]
     },
     "metadata": {},
     "output_type": "display_data"
    },
    {
     "data": {
      "text/html": [
       "Resuming run <strong><a href='https://wandb.ai/am22s020/Assignment%203/runs/i3dn0dao' target=\"_blank\">crimson-sweep-28</a></strong> to <a href='https://wandb.ai/am22s020/Assignment%203' target=\"_blank\">Weights & Biases</a> (<a href='https://wandb.me/run' target=\"_blank\">docs</a>)<br/>Sweep page: <a href='https://wandb.ai/am22s020/Assignment%203/sweeps/a7mxe1u0' target=\"_blank\">https://wandb.ai/am22s020/Assignment%203/sweeps/a7mxe1u0</a>"
      ],
      "text/plain": [
       "<IPython.core.display.HTML object>"
      ]
     },
     "metadata": {},
     "output_type": "display_data"
    },
    {
     "data": {
      "text/html": [
       " View project at <a href='https://wandb.ai/am22s020/Assignment%203' target=\"_blank\">https://wandb.ai/am22s020/Assignment%203</a>"
      ],
      "text/plain": [
       "<IPython.core.display.HTML object>"
      ]
     },
     "metadata": {},
     "output_type": "display_data"
    },
    {
     "data": {
      "text/html": [
       " View sweep at <a href='https://wandb.ai/am22s020/Assignment%203/sweeps/a7mxe1u0' target=\"_blank\">https://wandb.ai/am22s020/Assignment%203/sweeps/a7mxe1u0</a>"
      ],
      "text/plain": [
       "<IPython.core.display.HTML object>"
      ]
     },
     "metadata": {},
     "output_type": "display_data"
    },
    {
     "data": {
      "text/html": [
       " View run at <a href='https://wandb.ai/am22s020/Assignment%203/runs/i3dn0dao' target=\"_blank\">https://wandb.ai/am22s020/Assignment%203/runs/i3dn0dao</a>"
      ],
      "text/plain": [
       "<IPython.core.display.HTML object>"
      ]
     },
     "metadata": {},
     "output_type": "display_data"
    },
    {
     "name": "stdout",
     "output_type": "stream",
     "text": [
      "cell_gru_nl_3_hs_256_e_10_bd_False_dr_0.2_ems_128\n",
      "Epoch:  1 / 10\n",
      "Training Loss:  1.14601731300354\n",
      "Epoch:  2 / 10\n",
      "Training Loss:  0.8676307201385498\n",
      "Epoch:  3 / 10\n",
      "Training Loss:  0.6384613513946533\n",
      "Epoch:  4 / 10\n",
      "Training Loss:  0.6021820306777954\n",
      "Epoch:  5 / 10\n",
      "Training Loss:  0.6409071087837219\n",
      "Epoch:  6 / 10\n",
      "Training Loss:  0.6644165515899658\n",
      "Epoch:  7 / 10\n",
      "Training Loss:  0.612616240978241\n",
      "Epoch:  8 / 10\n",
      "Training Loss:  0.7411858439445496\n",
      "Epoch:  9 / 10\n",
      "Training Loss:  0.7358834743499756\n",
      "Epoch:  10 / 10\n",
      "Training Loss:  0.5619580745697021\n"
     ]
    },
    {
     "data": {
      "text/html": [
       "Waiting for W&B process to finish... <strong style=\"color:green\">(success).</strong>"
      ],
      "text/plain": [
       "<IPython.core.display.HTML object>"
      ]
     },
     "metadata": {},
     "output_type": "display_data"
    },
    {
     "data": {
      "application/vnd.jupyter.widget-view+json": {
       "model_id": "db1bf0a1b797449e82af9408d1496313",
       "version_major": 2,
       "version_minor": 0
      },
      "text/plain": [
       "VBox(children=(Label(value='0.000 MB of 0.001 MB uploaded (0.000 MB deduped)\\r'), FloatProgress(value=0.0, max…"
      ]
     },
     "metadata": {},
     "output_type": "display_data"
    },
    {
     "data": {
      "text/html": [
       "<style>\n",
       "    table.wandb td:nth-child(1) { padding: 0 10px; text-align: left ; width: auto;} td:nth-child(2) {text-align: left ; width: 100%}\n",
       "    .wandb-row { display: flex; flex-direction: row; flex-wrap: wrap; justify-content: flex-start; width: 100% }\n",
       "    .wandb-col { display: flex; flex-direction: column; flex-basis: 100%; flex: 1; padding: 10px; }\n",
       "    </style>\n",
       "<div class=\"wandb-row\"><div class=\"wandb-col\"><h3>Run history:</h3><br/><table class=\"wandb\"><tr><td>epoch</td><td>▁▂▃▃▄▅▆▆▇█</td></tr><tr><td>train accuracy</td><td>▁▃▄▅▆▇▇▇██</td></tr><tr><td>train loss</td><td>█▅▂▁▂▂▂▃▃▁</td></tr><tr><td>valid accuracy</td><td>▁▄▆▅▇▇▇▇█▇</td></tr></table><br/></div><div class=\"wandb-col\"><h3>Run summary:</h3><br/><table class=\"wandb\"><tr><td>epoch</td><td>10</td></tr><tr><td>train accuracy</td><td>42.76367</td></tr><tr><td>train loss</td><td>0.56196</td></tr><tr><td>valid accuracy</td><td>31.66504</td></tr></table><br/></div></div>"
      ],
      "text/plain": [
       "<IPython.core.display.HTML object>"
      ]
     },
     "metadata": {},
     "output_type": "display_data"
    },
    {
     "data": {
      "text/html": [
       " View run <strong style=\"color:#cdcd00\">crimson-sweep-28</strong> at: <a href='https://wandb.ai/am22s020/Assignment%203/runs/i3dn0dao' target=\"_blank\">https://wandb.ai/am22s020/Assignment%203/runs/i3dn0dao</a><br/>Synced 3 W&B file(s), 0 media file(s), 0 artifact file(s) and 0 other file(s)"
      ],
      "text/plain": [
       "<IPython.core.display.HTML object>"
      ]
     },
     "metadata": {},
     "output_type": "display_data"
    },
    {
     "data": {
      "text/html": [
       "Find logs at: <code>.\\wandb\\run-20230509_085445-i3dn0dao\\logs</code>"
      ],
      "text/plain": [
       "<IPython.core.display.HTML object>"
      ]
     },
     "metadata": {},
     "output_type": "display_data"
    },
    {
     "name": "stderr",
     "output_type": "stream",
     "text": [
      "\u001b[34m\u001b[1mwandb\u001b[0m: Agent Starting Run: m0y1znix with config:\n",
      "\u001b[34m\u001b[1mwandb\u001b[0m: \tbi_dir: True\n",
      "\u001b[34m\u001b[1mwandb\u001b[0m: \tcell_type: gru\n",
      "\u001b[34m\u001b[1mwandb\u001b[0m: \tdropout: 0.2\n",
      "\u001b[34m\u001b[1mwandb\u001b[0m: \tembed_size: 128\n",
      "\u001b[34m\u001b[1mwandb\u001b[0m: \thidden_size: 64\n",
      "\u001b[34m\u001b[1mwandb\u001b[0m: \tnum_epochs: 15\n",
      "\u001b[34m\u001b[1mwandb\u001b[0m: \tnum_layers: 2\n",
      "\u001b[34m\u001b[1mwandb\u001b[0m: \u001b[33mWARNING\u001b[0m Ignored wandb.init() arg project when running a sweep.\n"
     ]
    },
    {
     "data": {
      "application/vnd.jupyter.widget-view+json": {
       "model_id": "ade4ae398bab431183f17fc7f4bb6731",
       "version_major": 2,
       "version_minor": 0
      },
      "text/plain": [
       "VBox(children=(Label(value='Waiting for wandb.init()...\\r'), FloatProgress(value=0.016916666666414434, max=1.0…"
      ]
     },
     "metadata": {},
     "output_type": "display_data"
    },
    {
     "data": {
      "text/html": [
       "wandb version 0.15.2 is available!  To upgrade, please run:\n",
       " $ pip install wandb --upgrade"
      ],
      "text/plain": [
       "<IPython.core.display.HTML object>"
      ]
     },
     "metadata": {},
     "output_type": "display_data"
    },
    {
     "data": {
      "text/html": [
       "Tracking run with wandb version 0.13.11"
      ],
      "text/plain": [
       "<IPython.core.display.HTML object>"
      ]
     },
     "metadata": {},
     "output_type": "display_data"
    },
    {
     "data": {
      "text/html": [
       "Run data is saved locally in <code>C:\\Users\\HICLIPS-ASK\\wandb\\run-20230509_095800-m0y1znix</code>"
      ],
      "text/plain": [
       "<IPython.core.display.HTML object>"
      ]
     },
     "metadata": {},
     "output_type": "display_data"
    },
    {
     "data": {
      "text/html": [
       "Resuming run <strong><a href='https://wandb.ai/am22s020/Assignment%203/runs/m0y1znix' target=\"_blank\">denim-sweep-29</a></strong> to <a href='https://wandb.ai/am22s020/Assignment%203' target=\"_blank\">Weights & Biases</a> (<a href='https://wandb.me/run' target=\"_blank\">docs</a>)<br/>Sweep page: <a href='https://wandb.ai/am22s020/Assignment%203/sweeps/a7mxe1u0' target=\"_blank\">https://wandb.ai/am22s020/Assignment%203/sweeps/a7mxe1u0</a>"
      ],
      "text/plain": [
       "<IPython.core.display.HTML object>"
      ]
     },
     "metadata": {},
     "output_type": "display_data"
    },
    {
     "data": {
      "text/html": [
       " View project at <a href='https://wandb.ai/am22s020/Assignment%203' target=\"_blank\">https://wandb.ai/am22s020/Assignment%203</a>"
      ],
      "text/plain": [
       "<IPython.core.display.HTML object>"
      ]
     },
     "metadata": {},
     "output_type": "display_data"
    },
    {
     "data": {
      "text/html": [
       " View sweep at <a href='https://wandb.ai/am22s020/Assignment%203/sweeps/a7mxe1u0' target=\"_blank\">https://wandb.ai/am22s020/Assignment%203/sweeps/a7mxe1u0</a>"
      ],
      "text/plain": [
       "<IPython.core.display.HTML object>"
      ]
     },
     "metadata": {},
     "output_type": "display_data"
    },
    {
     "data": {
      "text/html": [
       " View run at <a href='https://wandb.ai/am22s020/Assignment%203/runs/m0y1znix' target=\"_blank\">https://wandb.ai/am22s020/Assignment%203/runs/m0y1znix</a>"
      ],
      "text/plain": [
       "<IPython.core.display.HTML object>"
      ]
     },
     "metadata": {},
     "output_type": "display_data"
    },
    {
     "name": "stdout",
     "output_type": "stream",
     "text": [
      "cell_gru_nl_2_hs_64_e_15_bd_True_dr_0.2_ems_128\n",
      "Epoch:  1 / 15\n",
      "Training Loss:  1.6803737878799438\n",
      "Epoch:  2 / 15\n",
      "Training Loss:  1.4259692430496216\n",
      "Epoch:  3 / 15\n",
      "Training Loss:  1.1833443641662598\n",
      "Epoch:  4 / 15\n",
      "Training Loss:  1.1335093975067139\n",
      "Epoch:  5 / 15\n",
      "Training Loss:  1.1137170791625977\n",
      "Epoch:  6 / 15\n",
      "Training Loss:  0.9183403849601746\n",
      "Epoch:  7 / 15\n",
      "Training Loss:  1.065302848815918\n",
      "Epoch:  8 / 15\n",
      "Training Loss:  0.8142863512039185\n",
      "Epoch:  9 / 15\n",
      "Training Loss:  0.8079179525375366\n",
      "Epoch:  10 / 15\n",
      "Training Loss:  0.7516563534736633\n",
      "Epoch:  11 / 15\n",
      "Training Loss:  0.7957403063774109\n",
      "Epoch:  12 / 15\n",
      "Training Loss:  1.095672369003296\n",
      "Epoch:  13 / 15\n",
      "Training Loss:  0.9793843030929565\n",
      "Epoch:  14 / 15\n",
      "Training Loss:  0.6985803842544556\n",
      "Epoch:  15 / 15\n",
      "Training Loss:  0.7513540387153625\n"
     ]
    },
    {
     "data": {
      "text/html": [
       "Waiting for W&B process to finish... <strong style=\"color:green\">(success).</strong>"
      ],
      "text/plain": [
       "<IPython.core.display.HTML object>"
      ]
     },
     "metadata": {},
     "output_type": "display_data"
    },
    {
     "data": {
      "application/vnd.jupyter.widget-view+json": {
       "model_id": "44134b7fd18a4bb3891a8df5f8f05d31",
       "version_major": 2,
       "version_minor": 0
      },
      "text/plain": [
       "VBox(children=(Label(value='0.000 MB of 0.000 MB uploaded (0.000 MB deduped)\\r'), FloatProgress(value=1.0, max…"
      ]
     },
     "metadata": {},
     "output_type": "display_data"
    },
    {
     "data": {
      "text/html": [
       "<style>\n",
       "    table.wandb td:nth-child(1) { padding: 0 10px; text-align: left ; width: auto;} td:nth-child(2) {text-align: left ; width: 100%}\n",
       "    .wandb-row { display: flex; flex-direction: row; flex-wrap: wrap; justify-content: flex-start; width: 100% }\n",
       "    .wandb-col { display: flex; flex-direction: column; flex-basis: 100%; flex: 1; padding: 10px; }\n",
       "    </style>\n",
       "<div class=\"wandb-row\"><div class=\"wandb-col\"><h3>Run history:</h3><br/><table class=\"wandb\"><tr><td>epoch</td><td>▁▁▂▃▃▃▄▅▅▅▆▇▇▇█</td></tr><tr><td>train accuracy</td><td>▁▂▄▅▅▆▆▇▇▇█▇███</td></tr><tr><td>train loss</td><td>█▆▄▄▄▃▄▂▂▁▂▄▃▁▁</td></tr><tr><td>valid accuracy</td><td>▁▃▄▅▆▆▇▇▇▇█▇███</td></tr></table><br/></div><div class=\"wandb-col\"><h3>Run summary:</h3><br/><table class=\"wandb\"><tr><td>epoch</td><td>15</td></tr><tr><td>train accuracy</td><td>25.94531</td></tr><tr><td>train loss</td><td>0.75135</td></tr><tr><td>valid accuracy</td><td>25.85449</td></tr></table><br/></div></div>"
      ],
      "text/plain": [
       "<IPython.core.display.HTML object>"
      ]
     },
     "metadata": {},
     "output_type": "display_data"
    },
    {
     "data": {
      "text/html": [
       " View run <strong style=\"color:#cdcd00\">denim-sweep-29</strong> at: <a href='https://wandb.ai/am22s020/Assignment%203/runs/m0y1znix' target=\"_blank\">https://wandb.ai/am22s020/Assignment%203/runs/m0y1znix</a><br/>Synced 3 W&B file(s), 0 media file(s), 0 artifact file(s) and 0 other file(s)"
      ],
      "text/plain": [
       "<IPython.core.display.HTML object>"
      ]
     },
     "metadata": {},
     "output_type": "display_data"
    },
    {
     "data": {
      "text/html": [
       "Find logs at: <code>.\\wandb\\run-20230509_095800-m0y1znix\\logs</code>"
      ],
      "text/plain": [
       "<IPython.core.display.HTML object>"
      ]
     },
     "metadata": {},
     "output_type": "display_data"
    },
    {
     "name": "stderr",
     "output_type": "stream",
     "text": [
      "\u001b[34m\u001b[1mwandb\u001b[0m: Agent Starting Run: p9jjdy5k with config:\n",
      "\u001b[34m\u001b[1mwandb\u001b[0m: \tbi_dir: True\n",
      "\u001b[34m\u001b[1mwandb\u001b[0m: \tcell_type: rnn\n",
      "\u001b[34m\u001b[1mwandb\u001b[0m: \tdropout: 0.3\n",
      "\u001b[34m\u001b[1mwandb\u001b[0m: \tembed_size: 64\n",
      "\u001b[34m\u001b[1mwandb\u001b[0m: \thidden_size: 128\n",
      "\u001b[34m\u001b[1mwandb\u001b[0m: \tnum_epochs: 10\n",
      "\u001b[34m\u001b[1mwandb\u001b[0m: \tnum_layers: 2\n",
      "\u001b[34m\u001b[1mwandb\u001b[0m: \u001b[33mWARNING\u001b[0m Ignored wandb.init() arg project when running a sweep.\n"
     ]
    },
    {
     "data": {
      "application/vnd.jupyter.widget-view+json": {
       "model_id": "5df61ebc64544983845bafe628f10c9f",
       "version_major": 2,
       "version_minor": 0
      },
      "text/plain": [
       "VBox(children=(Label(value='Waiting for wandb.init()...\\r'), FloatProgress(value=0.01693333333338766, max=1.0)…"
      ]
     },
     "metadata": {},
     "output_type": "display_data"
    },
    {
     "data": {
      "text/html": [
       "wandb version 0.15.2 is available!  To upgrade, please run:\n",
       " $ pip install wandb --upgrade"
      ],
      "text/plain": [
       "<IPython.core.display.HTML object>"
      ]
     },
     "metadata": {},
     "output_type": "display_data"
    },
    {
     "data": {
      "text/html": [
       "Tracking run with wandb version 0.13.11"
      ],
      "text/plain": [
       "<IPython.core.display.HTML object>"
      ]
     },
     "metadata": {},
     "output_type": "display_data"
    },
    {
     "data": {
      "text/html": [
       "Run data is saved locally in <code>C:\\Users\\HICLIPS-ASK\\wandb\\run-20230509_111007-p9jjdy5k</code>"
      ],
      "text/plain": [
       "<IPython.core.display.HTML object>"
      ]
     },
     "metadata": {},
     "output_type": "display_data"
    },
    {
     "data": {
      "text/html": [
       "Resuming run <strong><a href='https://wandb.ai/am22s020/Assignment%203/runs/p9jjdy5k' target=\"_blank\">royal-sweep-30</a></strong> to <a href='https://wandb.ai/am22s020/Assignment%203' target=\"_blank\">Weights & Biases</a> (<a href='https://wandb.me/run' target=\"_blank\">docs</a>)<br/>Sweep page: <a href='https://wandb.ai/am22s020/Assignment%203/sweeps/a7mxe1u0' target=\"_blank\">https://wandb.ai/am22s020/Assignment%203/sweeps/a7mxe1u0</a>"
      ],
      "text/plain": [
       "<IPython.core.display.HTML object>"
      ]
     },
     "metadata": {},
     "output_type": "display_data"
    },
    {
     "data": {
      "text/html": [
       " View project at <a href='https://wandb.ai/am22s020/Assignment%203' target=\"_blank\">https://wandb.ai/am22s020/Assignment%203</a>"
      ],
      "text/plain": [
       "<IPython.core.display.HTML object>"
      ]
     },
     "metadata": {},
     "output_type": "display_data"
    },
    {
     "data": {
      "text/html": [
       " View sweep at <a href='https://wandb.ai/am22s020/Assignment%203/sweeps/a7mxe1u0' target=\"_blank\">https://wandb.ai/am22s020/Assignment%203/sweeps/a7mxe1u0</a>"
      ],
      "text/plain": [
       "<IPython.core.display.HTML object>"
      ]
     },
     "metadata": {},
     "output_type": "display_data"
    },
    {
     "data": {
      "text/html": [
       " View run at <a href='https://wandb.ai/am22s020/Assignment%203/runs/p9jjdy5k' target=\"_blank\">https://wandb.ai/am22s020/Assignment%203/runs/p9jjdy5k</a>"
      ],
      "text/plain": [
       "<IPython.core.display.HTML object>"
      ]
     },
     "metadata": {},
     "output_type": "display_data"
    },
    {
     "name": "stdout",
     "output_type": "stream",
     "text": [
      "cell_rnn_nl_2_hs_128_e_10_bd_True_dr_0.3_ems_64\n",
      "Epoch:  1 / 10\n",
      "Training Loss:  2.2327818870544434\n",
      "Epoch:  2 / 10\n",
      "Training Loss:  1.8149869441986084\n",
      "Epoch:  3 / 10\n",
      "Training Loss:  1.6540616750717163\n",
      "Epoch:  4 / 10\n",
      "Training Loss:  1.6386373043060303\n",
      "Epoch:  5 / 10\n",
      "Training Loss:  1.4926972389221191\n",
      "Epoch:  6 / 10\n",
      "Training Loss:  1.4533902406692505\n",
      "Epoch:  7 / 10\n",
      "Training Loss:  1.3148356676101685\n",
      "Epoch:  8 / 10\n",
      "Training Loss:  1.3938720226287842\n",
      "Epoch:  9 / 10\n",
      "Training Loss:  1.2117621898651123\n",
      "Epoch:  10 / 10\n",
      "Training Loss:  1.1607050895690918\n"
     ]
    },
    {
     "data": {
      "text/html": [
       "Waiting for W&B process to finish... <strong style=\"color:green\">(success).</strong>"
      ],
      "text/plain": [
       "<IPython.core.display.HTML object>"
      ]
     },
     "metadata": {},
     "output_type": "display_data"
    },
    {
     "data": {
      "application/vnd.jupyter.widget-view+json": {
       "model_id": "0a6a6527ec834e37a3ba2ea800ce47ac",
       "version_major": 2,
       "version_minor": 0
      },
      "text/plain": [
       "VBox(children=(Label(value='0.000 MB of 0.001 MB uploaded (0.000 MB deduped)\\r'), FloatProgress(value=0.0, max…"
      ]
     },
     "metadata": {},
     "output_type": "display_data"
    },
    {
     "data": {
      "text/html": [
       "<style>\n",
       "    table.wandb td:nth-child(1) { padding: 0 10px; text-align: left ; width: auto;} td:nth-child(2) {text-align: left ; width: 100%}\n",
       "    .wandb-row { display: flex; flex-direction: row; flex-wrap: wrap; justify-content: flex-start; width: 100% }\n",
       "    .wandb-col { display: flex; flex-direction: column; flex-basis: 100%; flex: 1; padding: 10px; }\n",
       "    </style>\n",
       "<div class=\"wandb-row\"><div class=\"wandb-col\"><h3>Run history:</h3><br/><table class=\"wandb\"><tr><td>epoch</td><td>▁▂▃▃▄▅▆▆▇█</td></tr><tr><td>train accuracy</td><td>▁▁▂▄▅▅█▇▆▆</td></tr><tr><td>train loss</td><td>█▅▄▄▃▃▂▃▁▁</td></tr><tr><td>valid accuracy</td><td>▁▂▂▅▆▅█▇▆▄</td></tr></table><br/></div><div class=\"wandb-col\"><h3>Run summary:</h3><br/><table class=\"wandb\"><tr><td>epoch</td><td>10</td></tr><tr><td>train accuracy</td><td>2.25</td></tr><tr><td>train loss</td><td>1.16071</td></tr><tr><td>valid accuracy</td><td>2.05078</td></tr></table><br/></div></div>"
      ],
      "text/plain": [
       "<IPython.core.display.HTML object>"
      ]
     },
     "metadata": {},
     "output_type": "display_data"
    },
    {
     "data": {
      "text/html": [
       " View run <strong style=\"color:#cdcd00\">royal-sweep-30</strong> at: <a href='https://wandb.ai/am22s020/Assignment%203/runs/p9jjdy5k' target=\"_blank\">https://wandb.ai/am22s020/Assignment%203/runs/p9jjdy5k</a><br/>Synced 3 W&B file(s), 0 media file(s), 0 artifact file(s) and 0 other file(s)"
      ],
      "text/plain": [
       "<IPython.core.display.HTML object>"
      ]
     },
     "metadata": {},
     "output_type": "display_data"
    },
    {
     "data": {
      "text/html": [
       "Find logs at: <code>.\\wandb\\run-20230509_111007-p9jjdy5k\\logs</code>"
      ],
      "text/plain": [
       "<IPython.core.display.HTML object>"
      ]
     },
     "metadata": {},
     "output_type": "display_data"
    },
    {
     "name": "stderr",
     "output_type": "stream",
     "text": [
      "\u001b[34m\u001b[1mwandb\u001b[0m: Agent Starting Run: l952iyqf with config:\n",
      "\u001b[34m\u001b[1mwandb\u001b[0m: \tbi_dir: False\n",
      "\u001b[34m\u001b[1mwandb\u001b[0m: \tcell_type: rnn\n",
      "\u001b[34m\u001b[1mwandb\u001b[0m: \tdropout: 0.3\n",
      "\u001b[34m\u001b[1mwandb\u001b[0m: \tembed_size: 128\n",
      "\u001b[34m\u001b[1mwandb\u001b[0m: \thidden_size: 256\n",
      "\u001b[34m\u001b[1mwandb\u001b[0m: \tnum_epochs: 10\n",
      "\u001b[34m\u001b[1mwandb\u001b[0m: \tnum_layers: 3\n",
      "\u001b[34m\u001b[1mwandb\u001b[0m: \u001b[33mWARNING\u001b[0m Ignored wandb.init() arg project when running a sweep.\n"
     ]
    },
    {
     "data": {
      "application/vnd.jupyter.widget-view+json": {
       "model_id": "53c617efe67c4ff5a212df0489015d16",
       "version_major": 2,
       "version_minor": 0
      },
      "text/plain": [
       "VBox(children=(Label(value='Waiting for wandb.init()...\\r'), FloatProgress(value=0.016666666666666666, max=1.0…"
      ]
     },
     "metadata": {},
     "output_type": "display_data"
    },
    {
     "data": {
      "text/html": [
       "wandb version 0.15.2 is available!  To upgrade, please run:\n",
       " $ pip install wandb --upgrade"
      ],
      "text/plain": [
       "<IPython.core.display.HTML object>"
      ]
     },
     "metadata": {},
     "output_type": "display_data"
    },
    {
     "data": {
      "text/html": [
       "Tracking run with wandb version 0.13.11"
      ],
      "text/plain": [
       "<IPython.core.display.HTML object>"
      ]
     },
     "metadata": {},
     "output_type": "display_data"
    },
    {
     "data": {
      "text/html": [
       "Run data is saved locally in <code>C:\\Users\\HICLIPS-ASK\\wandb\\run-20230509_120415-l952iyqf</code>"
      ],
      "text/plain": [
       "<IPython.core.display.HTML object>"
      ]
     },
     "metadata": {},
     "output_type": "display_data"
    },
    {
     "data": {
      "text/html": [
       "Resuming run <strong><a href='https://wandb.ai/am22s020/Assignment%203/runs/l952iyqf' target=\"_blank\">rosy-sweep-31</a></strong> to <a href='https://wandb.ai/am22s020/Assignment%203' target=\"_blank\">Weights & Biases</a> (<a href='https://wandb.me/run' target=\"_blank\">docs</a>)<br/>Sweep page: <a href='https://wandb.ai/am22s020/Assignment%203/sweeps/a7mxe1u0' target=\"_blank\">https://wandb.ai/am22s020/Assignment%203/sweeps/a7mxe1u0</a>"
      ],
      "text/plain": [
       "<IPython.core.display.HTML object>"
      ]
     },
     "metadata": {},
     "output_type": "display_data"
    },
    {
     "data": {
      "text/html": [
       " View project at <a href='https://wandb.ai/am22s020/Assignment%203' target=\"_blank\">https://wandb.ai/am22s020/Assignment%203</a>"
      ],
      "text/plain": [
       "<IPython.core.display.HTML object>"
      ]
     },
     "metadata": {},
     "output_type": "display_data"
    },
    {
     "data": {
      "text/html": [
       " View sweep at <a href='https://wandb.ai/am22s020/Assignment%203/sweeps/a7mxe1u0' target=\"_blank\">https://wandb.ai/am22s020/Assignment%203/sweeps/a7mxe1u0</a>"
      ],
      "text/plain": [
       "<IPython.core.display.HTML object>"
      ]
     },
     "metadata": {},
     "output_type": "display_data"
    },
    {
     "data": {
      "text/html": [
       " View run at <a href='https://wandb.ai/am22s020/Assignment%203/runs/l952iyqf' target=\"_blank\">https://wandb.ai/am22s020/Assignment%203/runs/l952iyqf</a>"
      ],
      "text/plain": [
       "<IPython.core.display.HTML object>"
      ]
     },
     "metadata": {},
     "output_type": "display_data"
    },
    {
     "name": "stdout",
     "output_type": "stream",
     "text": [
      "cell_rnn_nl_3_hs_256_e_10_bd_False_dr_0.3_ems_128\n",
      "Epoch:  1 / 10\n",
      "Training Loss:  3.0161850452423096\n",
      "Epoch:  2 / 10\n",
      "Training Loss:  2.8725509643554688\n"
     ]
    },
    {
     "data": {
      "text/html": [
       "Waiting for W&B process to finish... <strong style=\"color:red\">(failed 1).</strong> Press Ctrl-C to abort syncing."
      ],
      "text/plain": [
       "<IPython.core.display.HTML object>"
      ]
     },
     "metadata": {},
     "output_type": "display_data"
    },
    {
     "data": {
      "text/html": [
       "<style>\n",
       "    table.wandb td:nth-child(1) { padding: 0 10px; text-align: left ; width: auto;} td:nth-child(2) {text-align: left ; width: 100%}\n",
       "    .wandb-row { display: flex; flex-direction: row; flex-wrap: wrap; justify-content: flex-start; width: 100% }\n",
       "    .wandb-col { display: flex; flex-direction: column; flex-basis: 100%; flex: 1; padding: 10px; }\n",
       "    </style>\n",
       "<div class=\"wandb-row\"><div class=\"wandb-col\"><h3>Run history:</h3><br/><table class=\"wandb\"><tr><td>epoch</td><td>▁</td></tr><tr><td>train accuracy</td><td>▁</td></tr><tr><td>train loss</td><td>▁</td></tr><tr><td>valid accuracy</td><td>▁</td></tr></table><br/></div><div class=\"wandb-col\"><h3>Run summary:</h3><br/><table class=\"wandb\"><tr><td>epoch</td><td>1</td></tr><tr><td>train accuracy</td><td>0.0</td></tr><tr><td>train loss</td><td>3.01619</td></tr><tr><td>valid accuracy</td><td>0.0</td></tr></table><br/></div></div>"
      ],
      "text/plain": [
       "<IPython.core.display.HTML object>"
      ]
     },
     "metadata": {},
     "output_type": "display_data"
    },
    {
     "data": {
      "text/html": [
       " View run <strong style=\"color:#cdcd00\">rosy-sweep-31</strong> at: <a href='https://wandb.ai/am22s020/Assignment%203/runs/l952iyqf' target=\"_blank\">https://wandb.ai/am22s020/Assignment%203/runs/l952iyqf</a><br/>Synced 3 W&B file(s), 0 media file(s), 0 artifact file(s) and 0 other file(s)"
      ],
      "text/plain": [
       "<IPython.core.display.HTML object>"
      ]
     },
     "metadata": {},
     "output_type": "display_data"
    },
    {
     "data": {
      "text/html": [
       "Find logs at: <code>.\\wandb\\run-20230509_120415-l952iyqf\\logs</code>"
      ],
      "text/plain": [
       "<IPython.core.display.HTML object>"
      ]
     },
     "metadata": {},
     "output_type": "display_data"
    },
    {
     "name": "stderr",
     "output_type": "stream",
     "text": [
      "\u001b[34m\u001b[1mwandb\u001b[0m: Agent Starting Run: idi00vj3 with config:\n",
      "\u001b[34m\u001b[1mwandb\u001b[0m: \tbi_dir: False\n",
      "\u001b[34m\u001b[1mwandb\u001b[0m: \tcell_type: rnn\n",
      "\u001b[34m\u001b[1mwandb\u001b[0m: \tdropout: 0.2\n",
      "\u001b[34m\u001b[1mwandb\u001b[0m: \tembed_size: 128\n",
      "\u001b[34m\u001b[1mwandb\u001b[0m: \thidden_size: 256\n",
      "\u001b[34m\u001b[1mwandb\u001b[0m: \tnum_epochs: 20\n",
      "\u001b[34m\u001b[1mwandb\u001b[0m: \tnum_layers: 2\n",
      "\u001b[34m\u001b[1mwandb\u001b[0m: \u001b[33mWARNING\u001b[0m Ignored wandb.init() arg project when running a sweep.\n",
      "\u001b[34m\u001b[1mwandb\u001b[0m: \u001b[33mWARNING\u001b[0m Tried to auto resume run with id l952iyqf but id idi00vj3 is set.\n"
     ]
    },
    {
     "data": {
      "text/html": [
       "wandb version 0.15.2 is available!  To upgrade, please run:\n",
       " $ pip install wandb --upgrade"
      ],
      "text/plain": [
       "<IPython.core.display.HTML object>"
      ]
     },
     "metadata": {},
     "output_type": "display_data"
    },
    {
     "data": {
      "text/html": [
       "Tracking run with wandb version 0.13.11"
      ],
      "text/plain": [
       "<IPython.core.display.HTML object>"
      ]
     },
     "metadata": {},
     "output_type": "display_data"
    },
    {
     "data": {
      "text/html": [
       "Run data is saved locally in <code>C:\\Users\\HICLIPS-ASK\\wandb\\run-20230509_121141-idi00vj3</code>"
      ],
      "text/plain": [
       "<IPython.core.display.HTML object>"
      ]
     },
     "metadata": {},
     "output_type": "display_data"
    },
    {
     "data": {
      "text/html": [
       "Resuming run <strong><a href='https://wandb.ai/am22s020/Assignment%203/runs/idi00vj3' target=\"_blank\">fast-sweep-32</a></strong> to <a href='https://wandb.ai/am22s020/Assignment%203' target=\"_blank\">Weights & Biases</a> (<a href='https://wandb.me/run' target=\"_blank\">docs</a>)<br/>Sweep page: <a href='https://wandb.ai/am22s020/Assignment%203/sweeps/a7mxe1u0' target=\"_blank\">https://wandb.ai/am22s020/Assignment%203/sweeps/a7mxe1u0</a>"
      ],
      "text/plain": [
       "<IPython.core.display.HTML object>"
      ]
     },
     "metadata": {},
     "output_type": "display_data"
    },
    {
     "data": {
      "text/html": [
       " View project at <a href='https://wandb.ai/am22s020/Assignment%203' target=\"_blank\">https://wandb.ai/am22s020/Assignment%203</a>"
      ],
      "text/plain": [
       "<IPython.core.display.HTML object>"
      ]
     },
     "metadata": {},
     "output_type": "display_data"
    },
    {
     "data": {
      "text/html": [
       " View sweep at <a href='https://wandb.ai/am22s020/Assignment%203/sweeps/a7mxe1u0' target=\"_blank\">https://wandb.ai/am22s020/Assignment%203/sweeps/a7mxe1u0</a>"
      ],
      "text/plain": [
       "<IPython.core.display.HTML object>"
      ]
     },
     "metadata": {},
     "output_type": "display_data"
    },
    {
     "data": {
      "text/html": [
       " View run at <a href='https://wandb.ai/am22s020/Assignment%203/runs/idi00vj3' target=\"_blank\">https://wandb.ai/am22s020/Assignment%203/runs/idi00vj3</a>"
      ],
      "text/plain": [
       "<IPython.core.display.HTML object>"
      ]
     },
     "metadata": {},
     "output_type": "display_data"
    },
    {
     "name": "stdout",
     "output_type": "stream",
     "text": [
      "cell_rnn_nl_2_hs_256_e_20_bd_False_dr_0.2_ems_128\n",
      "Epoch:  1 / 20\n",
      "Training Loss:  2.9550511837005615\n"
     ]
    },
    {
     "data": {
      "text/html": [
       "Waiting for W&B process to finish... <strong style=\"color:red\">(failed 1).</strong> Press Ctrl-C to abort syncing."
      ],
      "text/plain": [
       "<IPython.core.display.HTML object>"
      ]
     },
     "metadata": {},
     "output_type": "display_data"
    },
    {
     "data": {
      "application/vnd.jupyter.widget-view+json": {
       "model_id": "e6d28594d3c2496bbb20a37581401a54",
       "version_major": 2,
       "version_minor": 0
      },
      "text/plain": [
       "VBox(children=(Label(value='0.000 MB of 0.000 MB uploaded (0.000 MB deduped)\\r'), FloatProgress(value=1.0, max…"
      ]
     },
     "metadata": {},
     "output_type": "display_data"
    },
    {
     "data": {
      "text/html": [
       " View run <strong style=\"color:#cdcd00\">fast-sweep-32</strong> at: <a href='https://wandb.ai/am22s020/Assignment%203/runs/idi00vj3' target=\"_blank\">https://wandb.ai/am22s020/Assignment%203/runs/idi00vj3</a><br/>Synced 3 W&B file(s), 0 media file(s), 0 artifact file(s) and 0 other file(s)"
      ],
      "text/plain": [
       "<IPython.core.display.HTML object>"
      ]
     },
     "metadata": {},
     "output_type": "display_data"
    },
    {
     "data": {
      "text/html": [
       "Find logs at: <code>.\\wandb\\run-20230509_121141-idi00vj3\\logs</code>"
      ],
      "text/plain": [
       "<IPython.core.display.HTML object>"
      ]
     },
     "metadata": {},
     "output_type": "display_data"
    },
    {
     "name": "stderr",
     "output_type": "stream",
     "text": [
      "\u001b[34m\u001b[1mwandb\u001b[0m: Agent Starting Run: 592akbfw with config:\n",
      "\u001b[34m\u001b[1mwandb\u001b[0m: \tbi_dir: False\n",
      "\u001b[34m\u001b[1mwandb\u001b[0m: \tcell_type: gru\n",
      "\u001b[34m\u001b[1mwandb\u001b[0m: \tdropout: 0.3\n",
      "\u001b[34m\u001b[1mwandb\u001b[0m: \tembed_size: 128\n",
      "\u001b[34m\u001b[1mwandb\u001b[0m: \thidden_size: 128\n",
      "\u001b[34m\u001b[1mwandb\u001b[0m: \tnum_epochs: 15\n",
      "\u001b[34m\u001b[1mwandb\u001b[0m: \tnum_layers: 3\n",
      "\u001b[34m\u001b[1mwandb\u001b[0m: \u001b[33mWARNING\u001b[0m Ignored wandb.init() arg project when running a sweep.\n",
      "\u001b[34m\u001b[1mwandb\u001b[0m: \u001b[33mWARNING\u001b[0m Tried to auto resume run with id idi00vj3 but id 592akbfw is set.\n"
     ]
    },
    {
     "data": {
      "application/vnd.jupyter.widget-view+json": {
       "model_id": "86c7cb4f30cf4371bfe4b1e35a04507e",
       "version_major": 2,
       "version_minor": 0
      },
      "text/plain": [
       "VBox(children=(Label(value='Waiting for wandb.init()...\\r'), FloatProgress(value=0.016666666666666666, max=1.0…"
      ]
     },
     "metadata": {},
     "output_type": "display_data"
    },
    {
     "data": {
      "text/html": [
       "wandb version 0.15.2 is available!  To upgrade, please run:\n",
       " $ pip install wandb --upgrade"
      ],
      "text/plain": [
       "<IPython.core.display.HTML object>"
      ]
     },
     "metadata": {},
     "output_type": "display_data"
    },
    {
     "data": {
      "text/html": [
       "Tracking run with wandb version 0.13.11"
      ],
      "text/plain": [
       "<IPython.core.display.HTML object>"
      ]
     },
     "metadata": {},
     "output_type": "display_data"
    },
    {
     "data": {
      "text/html": [
       "Run data is saved locally in <code>C:\\Users\\HICLIPS-ASK\\wandb\\run-20230509_121256-592akbfw</code>"
      ],
      "text/plain": [
       "<IPython.core.display.HTML object>"
      ]
     },
     "metadata": {},
     "output_type": "display_data"
    },
    {
     "data": {
      "text/html": [
       "Resuming run <strong><a href='https://wandb.ai/am22s020/Assignment%203/runs/592akbfw' target=\"_blank\">twilight-sweep-33</a></strong> to <a href='https://wandb.ai/am22s020/Assignment%203' target=\"_blank\">Weights & Biases</a> (<a href='https://wandb.me/run' target=\"_blank\">docs</a>)<br/>Sweep page: <a href='https://wandb.ai/am22s020/Assignment%203/sweeps/a7mxe1u0' target=\"_blank\">https://wandb.ai/am22s020/Assignment%203/sweeps/a7mxe1u0</a>"
      ],
      "text/plain": [
       "<IPython.core.display.HTML object>"
      ]
     },
     "metadata": {},
     "output_type": "display_data"
    },
    {
     "data": {
      "text/html": [
       " View project at <a href='https://wandb.ai/am22s020/Assignment%203' target=\"_blank\">https://wandb.ai/am22s020/Assignment%203</a>"
      ],
      "text/plain": [
       "<IPython.core.display.HTML object>"
      ]
     },
     "metadata": {},
     "output_type": "display_data"
    },
    {
     "data": {
      "text/html": [
       " View sweep at <a href='https://wandb.ai/am22s020/Assignment%203/sweeps/a7mxe1u0' target=\"_blank\">https://wandb.ai/am22s020/Assignment%203/sweeps/a7mxe1u0</a>"
      ],
      "text/plain": [
       "<IPython.core.display.HTML object>"
      ]
     },
     "metadata": {},
     "output_type": "display_data"
    },
    {
     "data": {
      "text/html": [
       " View run at <a href='https://wandb.ai/am22s020/Assignment%203/runs/592akbfw' target=\"_blank\">https://wandb.ai/am22s020/Assignment%203/runs/592akbfw</a>"
      ],
      "text/plain": [
       "<IPython.core.display.HTML object>"
      ]
     },
     "metadata": {},
     "output_type": "display_data"
    },
    {
     "name": "stdout",
     "output_type": "stream",
     "text": [
      "cell_gru_nl_3_hs_128_e_15_bd_False_dr_0.3_ems_128\n",
      "Epoch:  1 / 15\n",
      "Training Loss:  1.6223479509353638\n",
      "Epoch:  2 / 15\n",
      "Training Loss:  1.25441575050354\n",
      "Epoch:  3 / 15\n",
      "Training Loss:  1.0323632955551147\n",
      "Epoch:  4 / 15\n",
      "Training Loss:  1.0873268842697144\n",
      "Epoch:  5 / 15\n",
      "Training Loss:  0.8721511363983154\n",
      "Epoch:  6 / 15\n",
      "Training Loss:  1.0782721042633057\n",
      "Epoch:  7 / 15\n",
      "Training Loss:  0.7993192076683044\n",
      "Epoch:  8 / 15\n",
      "Training Loss:  0.894338071346283\n",
      "Epoch:  9 / 15\n",
      "Training Loss:  0.6766569018363953\n",
      "Epoch:  10 / 15\n",
      "Training Loss:  0.7056446671485901\n",
      "Epoch:  11 / 15\n",
      "Training Loss:  0.6642476916313171\n",
      "Epoch:  12 / 15\n",
      "Training Loss:  1.0998976230621338\n",
      "Epoch:  13 / 15\n",
      "Training Loss:  0.6894945502281189\n",
      "Epoch:  14 / 15\n",
      "Training Loss:  0.7424607872962952\n",
      "Epoch:  15 / 15\n",
      "Training Loss:  1.0446124076843262\n"
     ]
    },
    {
     "data": {
      "text/html": [
       "Waiting for W&B process to finish... <strong style=\"color:green\">(success).</strong>"
      ],
      "text/plain": [
       "<IPython.core.display.HTML object>"
      ]
     },
     "metadata": {},
     "output_type": "display_data"
    },
    {
     "data": {
      "application/vnd.jupyter.widget-view+json": {
       "model_id": "1ba0a3663b534ab4a0febc92f91c58f3",
       "version_major": 2,
       "version_minor": 0
      },
      "text/plain": [
       "VBox(children=(Label(value='0.000 MB of 0.000 MB uploaded (0.000 MB deduped)\\r'), FloatProgress(value=1.0, max…"
      ]
     },
     "metadata": {},
     "output_type": "display_data"
    },
    {
     "data": {
      "text/html": [
       "<style>\n",
       "    table.wandb td:nth-child(1) { padding: 0 10px; text-align: left ; width: auto;} td:nth-child(2) {text-align: left ; width: 100%}\n",
       "    .wandb-row { display: flex; flex-direction: row; flex-wrap: wrap; justify-content: flex-start; width: 100% }\n",
       "    .wandb-col { display: flex; flex-direction: column; flex-basis: 100%; flex: 1; padding: 10px; }\n",
       "    </style>\n",
       "<div class=\"wandb-row\"><div class=\"wandb-col\"><h3>Run history:</h3><br/><table class=\"wandb\"><tr><td>epoch</td><td>▁▁▂▃▃▃▄▅▅▅▆▇▇▇█</td></tr><tr><td>train accuracy</td><td>▁▃▄▅▆▆▆▆▇▇▇▇▇▇█</td></tr><tr><td>train loss</td><td>█▅▄▄▃▄▂▃▁▁▁▄▁▂▄</td></tr><tr><td>valid accuracy</td><td>▁▃▅▆▇▇▇▇███████</td></tr></table><br/></div><div class=\"wandb-col\"><h3>Run summary:</h3><br/><table class=\"wandb\"><tr><td>epoch</td><td>15</td></tr><tr><td>train accuracy</td><td>30.60352</td></tr><tr><td>train loss</td><td>1.04461</td></tr><tr><td>valid accuracy</td><td>29.5166</td></tr></table><br/></div></div>"
      ],
      "text/plain": [
       "<IPython.core.display.HTML object>"
      ]
     },
     "metadata": {},
     "output_type": "display_data"
    },
    {
     "data": {
      "text/html": [
       " View run <strong style=\"color:#cdcd00\">twilight-sweep-33</strong> at: <a href='https://wandb.ai/am22s020/Assignment%203/runs/592akbfw' target=\"_blank\">https://wandb.ai/am22s020/Assignment%203/runs/592akbfw</a><br/>Synced 3 W&B file(s), 0 media file(s), 0 artifact file(s) and 0 other file(s)"
      ],
      "text/plain": [
       "<IPython.core.display.HTML object>"
      ]
     },
     "metadata": {},
     "output_type": "display_data"
    },
    {
     "data": {
      "text/html": [
       "Find logs at: <code>.\\wandb\\run-20230509_121256-592akbfw\\logs</code>"
      ],
      "text/plain": [
       "<IPython.core.display.HTML object>"
      ]
     },
     "metadata": {},
     "output_type": "display_data"
    },
    {
     "name": "stderr",
     "output_type": "stream",
     "text": [
      "\u001b[34m\u001b[1mwandb\u001b[0m: Sweep Agent: Waiting for job.\n",
      "\u001b[34m\u001b[1mwandb\u001b[0m: Job received.\n",
      "\u001b[34m\u001b[1mwandb\u001b[0m: Agent Starting Run: yzx3d5s5 with config:\n",
      "\u001b[34m\u001b[1mwandb\u001b[0m: \tbi_dir: True\n",
      "\u001b[34m\u001b[1mwandb\u001b[0m: \tcell_type: rnn\n",
      "\u001b[34m\u001b[1mwandb\u001b[0m: \tdropout: 0.5\n",
      "\u001b[34m\u001b[1mwandb\u001b[0m: \tembed_size: 64\n",
      "\u001b[34m\u001b[1mwandb\u001b[0m: \thidden_size: 64\n",
      "\u001b[34m\u001b[1mwandb\u001b[0m: \tnum_epochs: 15\n",
      "\u001b[34m\u001b[1mwandb\u001b[0m: \tnum_layers: 4\n",
      "\u001b[34m\u001b[1mwandb\u001b[0m: \u001b[33mWARNING\u001b[0m Ignored wandb.init() arg project when running a sweep.\n"
     ]
    },
    {
     "data": {
      "application/vnd.jupyter.widget-view+json": {
       "model_id": "cea7547715f2488897111d60d96a2d65",
       "version_major": 2,
       "version_minor": 0
      },
      "text/plain": [
       "VBox(children=(Label(value='Waiting for wandb.init()...\\r'), FloatProgress(value=0.016666666666666666, max=1.0…"
      ]
     },
     "metadata": {},
     "output_type": "display_data"
    },
    {
     "data": {
      "text/html": [
       "wandb version 0.15.2 is available!  To upgrade, please run:\n",
       " $ pip install wandb --upgrade"
      ],
      "text/plain": [
       "<IPython.core.display.HTML object>"
      ]
     },
     "metadata": {},
     "output_type": "display_data"
    },
    {
     "data": {
      "text/html": [
       "Tracking run with wandb version 0.13.11"
      ],
      "text/plain": [
       "<IPython.core.display.HTML object>"
      ]
     },
     "metadata": {},
     "output_type": "display_data"
    },
    {
     "data": {
      "text/html": [
       "Run data is saved locally in <code>C:\\Users\\HICLIPS-ASK\\wandb\\run-20230509_131855-yzx3d5s5</code>"
      ],
      "text/plain": [
       "<IPython.core.display.HTML object>"
      ]
     },
     "metadata": {},
     "output_type": "display_data"
    },
    {
     "data": {
      "text/html": [
       "Resuming run <strong><a href='https://wandb.ai/am22s020/Assignment%203/runs/yzx3d5s5' target=\"_blank\">chocolate-sweep-34</a></strong> to <a href='https://wandb.ai/am22s020/Assignment%203' target=\"_blank\">Weights & Biases</a> (<a href='https://wandb.me/run' target=\"_blank\">docs</a>)<br/>Sweep page: <a href='https://wandb.ai/am22s020/Assignment%203/sweeps/a7mxe1u0' target=\"_blank\">https://wandb.ai/am22s020/Assignment%203/sweeps/a7mxe1u0</a>"
      ],
      "text/plain": [
       "<IPython.core.display.HTML object>"
      ]
     },
     "metadata": {},
     "output_type": "display_data"
    },
    {
     "data": {
      "text/html": [
       " View project at <a href='https://wandb.ai/am22s020/Assignment%203' target=\"_blank\">https://wandb.ai/am22s020/Assignment%203</a>"
      ],
      "text/plain": [
       "<IPython.core.display.HTML object>"
      ]
     },
     "metadata": {},
     "output_type": "display_data"
    },
    {
     "data": {
      "text/html": [
       " View sweep at <a href='https://wandb.ai/am22s020/Assignment%203/sweeps/a7mxe1u0' target=\"_blank\">https://wandb.ai/am22s020/Assignment%203/sweeps/a7mxe1u0</a>"
      ],
      "text/plain": [
       "<IPython.core.display.HTML object>"
      ]
     },
     "metadata": {},
     "output_type": "display_data"
    },
    {
     "data": {
      "text/html": [
       " View run at <a href='https://wandb.ai/am22s020/Assignment%203/runs/yzx3d5s5' target=\"_blank\">https://wandb.ai/am22s020/Assignment%203/runs/yzx3d5s5</a>"
      ],
      "text/plain": [
       "<IPython.core.display.HTML object>"
      ]
     },
     "metadata": {},
     "output_type": "display_data"
    },
    {
     "name": "stdout",
     "output_type": "stream",
     "text": [
      "cell_rnn_nl_4_hs_64_e_15_bd_True_dr_0.5_ems_64\n",
      "Epoch:  1 / 15\n",
      "Training Loss:  2.605907678604126\n",
      "Epoch:  2 / 15\n",
      "Training Loss:  2.359367847442627\n",
      "Epoch:  3 / 15\n",
      "Training Loss:  2.3133718967437744\n",
      "Epoch:  4 / 15\n",
      "Training Loss:  2.2562217712402344\n",
      "Epoch:  5 / 15\n",
      "Training Loss:  1.9929231405258179\n",
      "Epoch:  6 / 15\n",
      "Training Loss:  1.886419653892517\n",
      "Epoch:  7 / 15\n",
      "Training Loss:  2.1648247241973877\n"
     ]
    },
    {
     "data": {
      "text/html": [
       "Waiting for W&B process to finish... <strong style=\"color:red\">(failed 1).</strong> Press Ctrl-C to abort syncing."
      ],
      "text/plain": [
       "<IPython.core.display.HTML object>"
      ]
     },
     "metadata": {},
     "output_type": "display_data"
    },
    {
     "data": {
      "application/vnd.jupyter.widget-view+json": {
       "model_id": "f24df04128f04dcbaf30a38f338f92af",
       "version_major": 2,
       "version_minor": 0
      },
      "text/plain": [
       "VBox(children=(Label(value='0.000 MB of 0.000 MB uploaded (0.000 MB deduped)\\r'), FloatProgress(value=1.0, max…"
      ]
     },
     "metadata": {},
     "output_type": "display_data"
    },
    {
     "data": {
      "text/html": [
       "<style>\n",
       "    table.wandb td:nth-child(1) { padding: 0 10px; text-align: left ; width: auto;} td:nth-child(2) {text-align: left ; width: 100%}\n",
       "    .wandb-row { display: flex; flex-direction: row; flex-wrap: wrap; justify-content: flex-start; width: 100% }\n",
       "    .wandb-col { display: flex; flex-direction: column; flex-basis: 100%; flex: 1; padding: 10px; }\n",
       "    </style>\n",
       "<div class=\"wandb-row\"><div class=\"wandb-col\"><h3>Run history:</h3><br/><table class=\"wandb\"><tr><td>epoch</td><td>▁▂▄▅▇█</td></tr><tr><td>train accuracy</td><td>█▁▁▁▁▆</td></tr><tr><td>train loss</td><td>█▆▅▅▂▁</td></tr><tr><td>valid accuracy</td><td>▁▁▁▁▁▁</td></tr></table><br/></div><div class=\"wandb-col\"><h3>Run summary:</h3><br/><table class=\"wandb\"><tr><td>epoch</td><td>6</td></tr><tr><td>train accuracy</td><td>0.00391</td></tr><tr><td>train loss</td><td>1.88642</td></tr><tr><td>valid accuracy</td><td>0.0</td></tr></table><br/></div></div>"
      ],
      "text/plain": [
       "<IPython.core.display.HTML object>"
      ]
     },
     "metadata": {},
     "output_type": "display_data"
    },
    {
     "data": {
      "text/html": [
       " View run <strong style=\"color:#cdcd00\">chocolate-sweep-34</strong> at: <a href='https://wandb.ai/am22s020/Assignment%203/runs/yzx3d5s5' target=\"_blank\">https://wandb.ai/am22s020/Assignment%203/runs/yzx3d5s5</a><br/>Synced 3 W&B file(s), 0 media file(s), 0 artifact file(s) and 0 other file(s)"
      ],
      "text/plain": [
       "<IPython.core.display.HTML object>"
      ]
     },
     "metadata": {},
     "output_type": "display_data"
    },
    {
     "data": {
      "text/html": [
       "Find logs at: <code>.\\wandb\\run-20230509_131855-yzx3d5s5\\logs</code>"
      ],
      "text/plain": [
       "<IPython.core.display.HTML object>"
      ]
     },
     "metadata": {},
     "output_type": "display_data"
    },
    {
     "name": "stderr",
     "output_type": "stream",
     "text": [
      "\u001b[34m\u001b[1mwandb\u001b[0m: Agent Starting Run: ya27qc51 with config:\n",
      "\u001b[34m\u001b[1mwandb\u001b[0m: \tbi_dir: True\n",
      "\u001b[34m\u001b[1mwandb\u001b[0m: \tcell_type: gru\n",
      "\u001b[34m\u001b[1mwandb\u001b[0m: \tdropout: 0.2\n",
      "\u001b[34m\u001b[1mwandb\u001b[0m: \tembed_size: 256\n",
      "\u001b[34m\u001b[1mwandb\u001b[0m: \thidden_size: 64\n",
      "\u001b[34m\u001b[1mwandb\u001b[0m: \tnum_epochs: 20\n",
      "\u001b[34m\u001b[1mwandb\u001b[0m: \tnum_layers: 3\n",
      "\u001b[34m\u001b[1mwandb\u001b[0m: \u001b[33mWARNING\u001b[0m Ignored wandb.init() arg project when running a sweep.\n",
      "\u001b[34m\u001b[1mwandb\u001b[0m: \u001b[33mWARNING\u001b[0m Tried to auto resume run with id yzx3d5s5 but id ya27qc51 is set.\n"
     ]
    },
    {
     "data": {
      "application/vnd.jupyter.widget-view+json": {
       "model_id": "2735f62e78894d648881aca221087948",
       "version_major": 2,
       "version_minor": 0
      },
      "text/plain": [
       "VBox(children=(Label(value='Waiting for wandb.init()...\\r'), FloatProgress(value=0.016666666666666666, max=1.0…"
      ]
     },
     "metadata": {},
     "output_type": "display_data"
    },
    {
     "data": {
      "text/html": [
       "wandb version 0.15.2 is available!  To upgrade, please run:\n",
       " $ pip install wandb --upgrade"
      ],
      "text/plain": [
       "<IPython.core.display.HTML object>"
      ]
     },
     "metadata": {},
     "output_type": "display_data"
    },
    {
     "data": {
      "text/html": [
       "Tracking run with wandb version 0.13.11"
      ],
      "text/plain": [
       "<IPython.core.display.HTML object>"
      ]
     },
     "metadata": {},
     "output_type": "display_data"
    },
    {
     "data": {
      "text/html": [
       "Run data is saved locally in <code>C:\\Users\\HICLIPS-ASK\\wandb\\run-20230509_140653-ya27qc51</code>"
      ],
      "text/plain": [
       "<IPython.core.display.HTML object>"
      ]
     },
     "metadata": {},
     "output_type": "display_data"
    },
    {
     "data": {
      "text/html": [
       "Resuming run <strong><a href='https://wandb.ai/am22s020/Assignment%203/runs/ya27qc51' target=\"_blank\">curious-sweep-35</a></strong> to <a href='https://wandb.ai/am22s020/Assignment%203' target=\"_blank\">Weights & Biases</a> (<a href='https://wandb.me/run' target=\"_blank\">docs</a>)<br/>Sweep page: <a href='https://wandb.ai/am22s020/Assignment%203/sweeps/a7mxe1u0' target=\"_blank\">https://wandb.ai/am22s020/Assignment%203/sweeps/a7mxe1u0</a>"
      ],
      "text/plain": [
       "<IPython.core.display.HTML object>"
      ]
     },
     "metadata": {},
     "output_type": "display_data"
    },
    {
     "data": {
      "text/html": [
       " View project at <a href='https://wandb.ai/am22s020/Assignment%203' target=\"_blank\">https://wandb.ai/am22s020/Assignment%203</a>"
      ],
      "text/plain": [
       "<IPython.core.display.HTML object>"
      ]
     },
     "metadata": {},
     "output_type": "display_data"
    },
    {
     "data": {
      "text/html": [
       " View sweep at <a href='https://wandb.ai/am22s020/Assignment%203/sweeps/a7mxe1u0' target=\"_blank\">https://wandb.ai/am22s020/Assignment%203/sweeps/a7mxe1u0</a>"
      ],
      "text/plain": [
       "<IPython.core.display.HTML object>"
      ]
     },
     "metadata": {},
     "output_type": "display_data"
    },
    {
     "data": {
      "text/html": [
       " View run at <a href='https://wandb.ai/am22s020/Assignment%203/runs/ya27qc51' target=\"_blank\">https://wandb.ai/am22s020/Assignment%203/runs/ya27qc51</a>"
      ],
      "text/plain": [
       "<IPython.core.display.HTML object>"
      ]
     },
     "metadata": {},
     "output_type": "display_data"
    },
    {
     "name": "stdout",
     "output_type": "stream",
     "text": [
      "cell_gru_nl_3_hs_64_e_20_bd_True_dr_0.2_ems_256\n",
      "Epoch:  1 / 20\n",
      "Training Loss:  1.6133095026016235\n",
      "Epoch:  2 / 20\n",
      "Training Loss:  1.192320704460144\n",
      "Epoch:  3 / 20\n",
      "Training Loss:  1.1070060729980469\n",
      "Epoch:  4 / 20\n",
      "Training Loss:  1.229384183883667\n",
      "Epoch:  5 / 20\n",
      "Training Loss:  0.9654418230056763\n",
      "Epoch:  6 / 20\n",
      "Training Loss:  0.9595295190811157\n",
      "Epoch:  7 / 20\n",
      "Training Loss:  0.8427926898002625\n",
      "Epoch:  8 / 20\n",
      "Training Loss:  1.1826220750808716\n",
      "Epoch:  9 / 20\n",
      "Training Loss:  0.7530908584594727\n",
      "Epoch:  10 / 20\n",
      "Training Loss:  0.7856614589691162\n",
      "Epoch:  11 / 20\n",
      "Training Loss:  0.958611786365509\n",
      "Epoch:  12 / 20\n",
      "Training Loss:  0.7038587331771851\n",
      "Epoch:  13 / 20\n",
      "Training Loss:  0.7313500642776489\n",
      "Epoch:  14 / 20\n",
      "Training Loss:  0.6485721468925476\n",
      "Epoch:  15 / 20\n",
      "Training Loss:  0.6218316555023193\n",
      "Epoch:  16 / 20\n",
      "Training Loss:  0.5377553701400757\n",
      "Epoch:  17 / 20\n",
      "Training Loss:  0.7473512887954712\n",
      "Epoch:  18 / 20\n",
      "Training Loss:  0.815787672996521\n",
      "Epoch:  19 / 20\n",
      "Training Loss:  0.6104170680046082\n",
      "Epoch:  20 / 20\n",
      "Training Loss:  0.6459060311317444\n"
     ]
    },
    {
     "data": {
      "text/html": [
       "Waiting for W&B process to finish... <strong style=\"color:green\">(success).</strong>"
      ],
      "text/plain": [
       "<IPython.core.display.HTML object>"
      ]
     },
     "metadata": {},
     "output_type": "display_data"
    },
    {
     "data": {
      "application/vnd.jupyter.widget-view+json": {
       "model_id": "43286c3de08047ceac24ae651c58255c",
       "version_major": 2,
       "version_minor": 0
      },
      "text/plain": [
       "VBox(children=(Label(value='0.000 MB of 0.000 MB uploaded (0.000 MB deduped)\\r'), FloatProgress(value=1.0, max…"
      ]
     },
     "metadata": {},
     "output_type": "display_data"
    },
    {
     "data": {
      "text/html": [
       "<style>\n",
       "    table.wandb td:nth-child(1) { padding: 0 10px; text-align: left ; width: auto;} td:nth-child(2) {text-align: left ; width: 100%}\n",
       "    .wandb-row { display: flex; flex-direction: row; flex-wrap: wrap; justify-content: flex-start; width: 100% }\n",
       "    .wandb-col { display: flex; flex-direction: column; flex-basis: 100%; flex: 1; padding: 10px; }\n",
       "    </style>\n",
       "<div class=\"wandb-row\"><div class=\"wandb-col\"><h3>Run history:</h3><br/><table class=\"wandb\"><tr><td>epoch</td><td>▁▁▂▂▂▃▃▄▄▄▅▅▅▆▆▇▇▇██</td></tr><tr><td>train accuracy</td><td>▁▂▃▄▅▅▆▆▆▇▆▇▇▇▇▇████</td></tr><tr><td>train loss</td><td>█▅▅▆▄▄▃▅▂▃▄▂▂▂▂▁▂▃▁▂</td></tr><tr><td>valid accuracy</td><td>▁▃▄▅▆▆▆▇▇▇▇▇▇███████</td></tr></table><br/></div><div class=\"wandb-col\"><h3>Run summary:</h3><br/><table class=\"wandb\"><tr><td>epoch</td><td>20</td></tr><tr><td>train accuracy</td><td>34.36719</td></tr><tr><td>train loss</td><td>0.64591</td></tr><tr><td>valid accuracy</td><td>32.15332</td></tr></table><br/></div></div>"
      ],
      "text/plain": [
       "<IPython.core.display.HTML object>"
      ]
     },
     "metadata": {},
     "output_type": "display_data"
    },
    {
     "data": {
      "text/html": [
       " View run <strong style=\"color:#cdcd00\">curious-sweep-35</strong> at: <a href='https://wandb.ai/am22s020/Assignment%203/runs/ya27qc51' target=\"_blank\">https://wandb.ai/am22s020/Assignment%203/runs/ya27qc51</a><br/>Synced 3 W&B file(s), 0 media file(s), 0 artifact file(s) and 0 other file(s)"
      ],
      "text/plain": [
       "<IPython.core.display.HTML object>"
      ]
     },
     "metadata": {},
     "output_type": "display_data"
    },
    {
     "data": {
      "text/html": [
       "Find logs at: <code>.\\wandb\\run-20230509_140653-ya27qc51\\logs</code>"
      ],
      "text/plain": [
       "<IPython.core.display.HTML object>"
      ]
     },
     "metadata": {},
     "output_type": "display_data"
    },
    {
     "name": "stderr",
     "output_type": "stream",
     "text": [
      "\u001b[34m\u001b[1mwandb\u001b[0m: Sweep Agent: Waiting for job.\n",
      "\u001b[34m\u001b[1mwandb\u001b[0m: Job received.\n",
      "\u001b[34m\u001b[1mwandb\u001b[0m: Agent Starting Run: kxuciuuc with config:\n",
      "\u001b[34m\u001b[1mwandb\u001b[0m: \tbi_dir: True\n",
      "\u001b[34m\u001b[1mwandb\u001b[0m: \tcell_type: gru\n",
      "\u001b[34m\u001b[1mwandb\u001b[0m: \tdropout: 0.2\n",
      "\u001b[34m\u001b[1mwandb\u001b[0m: \tembed_size: 256\n",
      "\u001b[34m\u001b[1mwandb\u001b[0m: \thidden_size: 64\n",
      "\u001b[34m\u001b[1mwandb\u001b[0m: \tnum_epochs: 10\n",
      "\u001b[34m\u001b[1mwandb\u001b[0m: \tnum_layers: 4\n",
      "\u001b[34m\u001b[1mwandb\u001b[0m: \u001b[33mWARNING\u001b[0m Ignored wandb.init() arg project when running a sweep.\n"
     ]
    },
    {
     "data": {
      "application/vnd.jupyter.widget-view+json": {
       "model_id": "a80540a8a4e3483bb9a1dc9ed5ee50d6",
       "version_major": 2,
       "version_minor": 0
      },
      "text/plain": [
       "VBox(children=(Label(value='Waiting for wandb.init()...\\r'), FloatProgress(value=0.01693333333338766, max=1.0)…"
      ]
     },
     "metadata": {},
     "output_type": "display_data"
    },
    {
     "data": {
      "text/html": [
       "wandb version 0.15.2 is available!  To upgrade, please run:\n",
       " $ pip install wandb --upgrade"
      ],
      "text/plain": [
       "<IPython.core.display.HTML object>"
      ]
     },
     "metadata": {},
     "output_type": "display_data"
    },
    {
     "data": {
      "text/html": [
       "Tracking run with wandb version 0.13.11"
      ],
      "text/plain": [
       "<IPython.core.display.HTML object>"
      ]
     },
     "metadata": {},
     "output_type": "display_data"
    },
    {
     "data": {
      "text/html": [
       "Run data is saved locally in <code>C:\\Users\\HICLIPS-ASK\\wandb\\run-20230509_154851-kxuciuuc</code>"
      ],
      "text/plain": [
       "<IPython.core.display.HTML object>"
      ]
     },
     "metadata": {},
     "output_type": "display_data"
    },
    {
     "data": {
      "text/html": [
       "Resuming run <strong><a href='https://wandb.ai/am22s020/Assignment%203/runs/kxuciuuc' target=\"_blank\">upbeat-sweep-36</a></strong> to <a href='https://wandb.ai/am22s020/Assignment%203' target=\"_blank\">Weights & Biases</a> (<a href='https://wandb.me/run' target=\"_blank\">docs</a>)<br/>Sweep page: <a href='https://wandb.ai/am22s020/Assignment%203/sweeps/a7mxe1u0' target=\"_blank\">https://wandb.ai/am22s020/Assignment%203/sweeps/a7mxe1u0</a>"
      ],
      "text/plain": [
       "<IPython.core.display.HTML object>"
      ]
     },
     "metadata": {},
     "output_type": "display_data"
    },
    {
     "data": {
      "text/html": [
       " View project at <a href='https://wandb.ai/am22s020/Assignment%203' target=\"_blank\">https://wandb.ai/am22s020/Assignment%203</a>"
      ],
      "text/plain": [
       "<IPython.core.display.HTML object>"
      ]
     },
     "metadata": {},
     "output_type": "display_data"
    },
    {
     "data": {
      "text/html": [
       " View sweep at <a href='https://wandb.ai/am22s020/Assignment%203/sweeps/a7mxe1u0' target=\"_blank\">https://wandb.ai/am22s020/Assignment%203/sweeps/a7mxe1u0</a>"
      ],
      "text/plain": [
       "<IPython.core.display.HTML object>"
      ]
     },
     "metadata": {},
     "output_type": "display_data"
    },
    {
     "data": {
      "text/html": [
       " View run at <a href='https://wandb.ai/am22s020/Assignment%203/runs/kxuciuuc' target=\"_blank\">https://wandb.ai/am22s020/Assignment%203/runs/kxuciuuc</a>"
      ],
      "text/plain": [
       "<IPython.core.display.HTML object>"
      ]
     },
     "metadata": {},
     "output_type": "display_data"
    },
    {
     "name": "stdout",
     "output_type": "stream",
     "text": [
      "cell_gru_nl_4_hs_64_e_10_bd_True_dr_0.2_ems_256\n",
      "Epoch:  1 / 10\n",
      "Training Loss:  1.584450602531433\n",
      "Epoch:  2 / 10\n",
      "Training Loss:  1.2413936853408813\n",
      "Epoch:  3 / 10\n",
      "Training Loss:  1.099813461303711\n",
      "Epoch:  4 / 10\n",
      "Training Loss:  1.0645358562469482\n",
      "Epoch:  5 / 10\n",
      "Training Loss:  0.8421748280525208\n",
      "Epoch:  6 / 10\n",
      "Training Loss:  1.0832549333572388\n",
      "Epoch:  7 / 10\n",
      "Training Loss:  0.9699397683143616\n",
      "Epoch:  8 / 10\n",
      "Training Loss:  0.9637435078620911\n",
      "Epoch:  9 / 10\n",
      "Training Loss:  1.1120182275772095\n",
      "Epoch:  10 / 10\n",
      "Training Loss:  0.6645117998123169\n"
     ]
    },
    {
     "data": {
      "text/html": [
       "Waiting for W&B process to finish... <strong style=\"color:green\">(success).</strong>"
      ],
      "text/plain": [
       "<IPython.core.display.HTML object>"
      ]
     },
     "metadata": {},
     "output_type": "display_data"
    },
    {
     "data": {
      "application/vnd.jupyter.widget-view+json": {
       "model_id": "6110c4b9a2664369be8a506a7276fe76",
       "version_major": 2,
       "version_minor": 0
      },
      "text/plain": [
       "VBox(children=(Label(value='0.000 MB of 0.000 MB uploaded (0.000 MB deduped)\\r'), FloatProgress(value=1.0, max…"
      ]
     },
     "metadata": {},
     "output_type": "display_data"
    },
    {
     "data": {
      "text/html": [
       "<style>\n",
       "    table.wandb td:nth-child(1) { padding: 0 10px; text-align: left ; width: auto;} td:nth-child(2) {text-align: left ; width: 100%}\n",
       "    .wandb-row { display: flex; flex-direction: row; flex-wrap: wrap; justify-content: flex-start; width: 100% }\n",
       "    .wandb-col { display: flex; flex-direction: column; flex-basis: 100%; flex: 1; padding: 10px; }\n",
       "    </style>\n",
       "<div class=\"wandb-row\"><div class=\"wandb-col\"><h3>Run history:</h3><br/><table class=\"wandb\"><tr><td>epoch</td><td>▁▂▃▃▄▅▆▆▇█</td></tr><tr><td>train accuracy</td><td>▁▃▄▅▆▇▇███</td></tr><tr><td>train loss</td><td>█▅▄▄▂▄▃▃▄▁</td></tr><tr><td>valid accuracy</td><td>▁▃▅▆▇▇▇███</td></tr></table><br/></div><div class=\"wandb-col\"><h3>Run summary:</h3><br/><table class=\"wandb\"><tr><td>epoch</td><td>10</td></tr><tr><td>train accuracy</td><td>27.4375</td></tr><tr><td>train loss</td><td>0.66451</td></tr><tr><td>valid accuracy</td><td>26.9043</td></tr></table><br/></div></div>"
      ],
      "text/plain": [
       "<IPython.core.display.HTML object>"
      ]
     },
     "metadata": {},
     "output_type": "display_data"
    },
    {
     "data": {
      "text/html": [
       " View run <strong style=\"color:#cdcd00\">upbeat-sweep-36</strong> at: <a href='https://wandb.ai/am22s020/Assignment%203/runs/kxuciuuc' target=\"_blank\">https://wandb.ai/am22s020/Assignment%203/runs/kxuciuuc</a><br/>Synced 3 W&B file(s), 0 media file(s), 0 artifact file(s) and 0 other file(s)"
      ],
      "text/plain": [
       "<IPython.core.display.HTML object>"
      ]
     },
     "metadata": {},
     "output_type": "display_data"
    },
    {
     "data": {
      "text/html": [
       "Find logs at: <code>.\\wandb\\run-20230509_154851-kxuciuuc\\logs</code>"
      ],
      "text/plain": [
       "<IPython.core.display.HTML object>"
      ]
     },
     "metadata": {},
     "output_type": "display_data"
    },
    {
     "name": "stderr",
     "output_type": "stream",
     "text": [
      "\u001b[34m\u001b[1mwandb\u001b[0m: Agent Starting Run: 3nuonyvs with config:\n",
      "\u001b[34m\u001b[1mwandb\u001b[0m: \tbi_dir: True\n",
      "\u001b[34m\u001b[1mwandb\u001b[0m: \tcell_type: rnn\n",
      "\u001b[34m\u001b[1mwandb\u001b[0m: \tdropout: 0.5\n",
      "\u001b[34m\u001b[1mwandb\u001b[0m: \tembed_size: 256\n",
      "\u001b[34m\u001b[1mwandb\u001b[0m: \thidden_size: 128\n",
      "\u001b[34m\u001b[1mwandb\u001b[0m: \tnum_epochs: 15\n",
      "\u001b[34m\u001b[1mwandb\u001b[0m: \tnum_layers: 3\n",
      "\u001b[34m\u001b[1mwandb\u001b[0m: \u001b[33mWARNING\u001b[0m Ignored wandb.init() arg project when running a sweep.\n"
     ]
    },
    {
     "data": {
      "application/vnd.jupyter.widget-view+json": {
       "model_id": "5eb5ccea00fd48e1996464a487cb8a1f",
       "version_major": 2,
       "version_minor": 0
      },
      "text/plain": [
       "VBox(children=(Label(value='Waiting for wandb.init()...\\r'), FloatProgress(value=0.016666666666666666, max=1.0…"
      ]
     },
     "metadata": {},
     "output_type": "display_data"
    },
    {
     "data": {
      "text/html": [
       "wandb version 0.15.2 is available!  To upgrade, please run:\n",
       " $ pip install wandb --upgrade"
      ],
      "text/plain": [
       "<IPython.core.display.HTML object>"
      ]
     },
     "metadata": {},
     "output_type": "display_data"
    },
    {
     "data": {
      "text/html": [
       "Tracking run with wandb version 0.13.11"
      ],
      "text/plain": [
       "<IPython.core.display.HTML object>"
      ]
     },
     "metadata": {},
     "output_type": "display_data"
    },
    {
     "data": {
      "text/html": [
       "Run data is saved locally in <code>C:\\Users\\HICLIPS-ASK\\wandb\\run-20230509_164408-3nuonyvs</code>"
      ],
      "text/plain": [
       "<IPython.core.display.HTML object>"
      ]
     },
     "metadata": {},
     "output_type": "display_data"
    },
    {
     "data": {
      "text/html": [
       "Resuming run <strong><a href='https://wandb.ai/am22s020/Assignment%203/runs/3nuonyvs' target=\"_blank\">noble-sweep-37</a></strong> to <a href='https://wandb.ai/am22s020/Assignment%203' target=\"_blank\">Weights & Biases</a> (<a href='https://wandb.me/run' target=\"_blank\">docs</a>)<br/>Sweep page: <a href='https://wandb.ai/am22s020/Assignment%203/sweeps/a7mxe1u0' target=\"_blank\">https://wandb.ai/am22s020/Assignment%203/sweeps/a7mxe1u0</a>"
      ],
      "text/plain": [
       "<IPython.core.display.HTML object>"
      ]
     },
     "metadata": {},
     "output_type": "display_data"
    },
    {
     "data": {
      "text/html": [
       " View project at <a href='https://wandb.ai/am22s020/Assignment%203' target=\"_blank\">https://wandb.ai/am22s020/Assignment%203</a>"
      ],
      "text/plain": [
       "<IPython.core.display.HTML object>"
      ]
     },
     "metadata": {},
     "output_type": "display_data"
    },
    {
     "data": {
      "text/html": [
       " View sweep at <a href='https://wandb.ai/am22s020/Assignment%203/sweeps/a7mxe1u0' target=\"_blank\">https://wandb.ai/am22s020/Assignment%203/sweeps/a7mxe1u0</a>"
      ],
      "text/plain": [
       "<IPython.core.display.HTML object>"
      ]
     },
     "metadata": {},
     "output_type": "display_data"
    },
    {
     "data": {
      "text/html": [
       " View run at <a href='https://wandb.ai/am22s020/Assignment%203/runs/3nuonyvs' target=\"_blank\">https://wandb.ai/am22s020/Assignment%203/runs/3nuonyvs</a>"
      ],
      "text/plain": [
       "<IPython.core.display.HTML object>"
      ]
     },
     "metadata": {},
     "output_type": "display_data"
    },
    {
     "name": "stdout",
     "output_type": "stream",
     "text": [
      "cell_rnn_nl_3_hs_128_e_15_bd_True_dr_0.5_ems_256\n",
      "Epoch:  1 / 15\n",
      "Training Loss:  2.453934669494629\n",
      "Epoch:  2 / 15\n",
      "Training Loss:  2.074558734893799\n",
      "Epoch:  3 / 15\n",
      "Training Loss:  2.0612730979919434\n",
      "Epoch:  4 / 15\n",
      "Training Loss:  1.8426021337509155\n",
      "Epoch:  5 / 15\n",
      "Training Loss:  1.8984858989715576\n",
      "Epoch:  6 / 15\n",
      "Training Loss:  1.844204068183899\n",
      "Epoch:  7 / 15\n",
      "Training Loss:  1.583664894104004\n",
      "Epoch:  8 / 15\n",
      "Training Loss:  1.8430020809173584\n",
      "Epoch:  9 / 15\n",
      "Training Loss:  1.6449400186538696\n",
      "Epoch:  10 / 15\n",
      "Training Loss:  1.8254330158233643\n",
      "Epoch:  11 / 15\n",
      "Training Loss:  1.640116572380066\n",
      "Epoch:  12 / 15\n",
      "Training Loss:  1.7403066158294678\n",
      "Epoch:  13 / 15\n",
      "Training Loss:  1.6900806427001953\n",
      "Epoch:  14 / 15\n",
      "Training Loss:  1.6680458784103394\n",
      "Epoch:  15 / 15\n",
      "Training Loss:  1.5814579725265503\n"
     ]
    },
    {
     "data": {
      "text/html": [
       "Waiting for W&B process to finish... <strong style=\"color:green\">(success).</strong>"
      ],
      "text/plain": [
       "<IPython.core.display.HTML object>"
      ]
     },
     "metadata": {},
     "output_type": "display_data"
    },
    {
     "data": {
      "application/vnd.jupyter.widget-view+json": {
       "model_id": "313de750c18e46608d1aef204c74575f",
       "version_major": 2,
       "version_minor": 0
      },
      "text/plain": [
       "VBox(children=(Label(value='0.000 MB of 0.000 MB uploaded (0.000 MB deduped)\\r'), FloatProgress(value=1.0, max…"
      ]
     },
     "metadata": {},
     "output_type": "display_data"
    },
    {
     "data": {
      "text/html": [
       "<style>\n",
       "    table.wandb td:nth-child(1) { padding: 0 10px; text-align: left ; width: auto;} td:nth-child(2) {text-align: left ; width: 100%}\n",
       "    .wandb-row { display: flex; flex-direction: row; flex-wrap: wrap; justify-content: flex-start; width: 100% }\n",
       "    .wandb-col { display: flex; flex-direction: column; flex-basis: 100%; flex: 1; padding: 10px; }\n",
       "    </style>\n",
       "<div class=\"wandb-row\"><div class=\"wandb-col\"><h3>Run history:</h3><br/><table class=\"wandb\"><tr><td>epoch</td><td>▁▁▂▃▃▃▄▅▅▅▆▇▇▇█</td></tr><tr><td>train accuracy</td><td>▁▁▁▁▁▁▂▅▃▅▇▇▅█▅</td></tr><tr><td>train loss</td><td>█▅▅▃▄▃▁▃▂▃▁▂▂▂▁</td></tr><tr><td>valid accuracy</td><td>▁▁▁▁▁▁▂▆▃▆▇▇▆█▅</td></tr></table><br/></div><div class=\"wandb-col\"><h3>Run summary:</h3><br/><table class=\"wandb\"><tr><td>epoch</td><td>15</td></tr><tr><td>train accuracy</td><td>1.32812</td></tr><tr><td>train loss</td><td>1.58146</td></tr><tr><td>valid accuracy</td><td>2.29492</td></tr></table><br/></div></div>"
      ],
      "text/plain": [
       "<IPython.core.display.HTML object>"
      ]
     },
     "metadata": {},
     "output_type": "display_data"
    },
    {
     "data": {
      "text/html": [
       " View run <strong style=\"color:#cdcd00\">noble-sweep-37</strong> at: <a href='https://wandb.ai/am22s020/Assignment%203/runs/3nuonyvs' target=\"_blank\">https://wandb.ai/am22s020/Assignment%203/runs/3nuonyvs</a><br/>Synced 3 W&B file(s), 0 media file(s), 0 artifact file(s) and 0 other file(s)"
      ],
      "text/plain": [
       "<IPython.core.display.HTML object>"
      ]
     },
     "metadata": {},
     "output_type": "display_data"
    },
    {
     "data": {
      "text/html": [
       "Find logs at: <code>.\\wandb\\run-20230509_164408-3nuonyvs\\logs</code>"
      ],
      "text/plain": [
       "<IPython.core.display.HTML object>"
      ]
     },
     "metadata": {},
     "output_type": "display_data"
    },
    {
     "name": "stderr",
     "output_type": "stream",
     "text": [
      "\u001b[34m\u001b[1mwandb\u001b[0m: Sweep Agent: Waiting for job.\n",
      "\u001b[34m\u001b[1mwandb\u001b[0m: Job received.\n",
      "\u001b[34m\u001b[1mwandb\u001b[0m: Agent Starting Run: l329q67f with config:\n",
      "\u001b[34m\u001b[1mwandb\u001b[0m: \tbi_dir: True\n",
      "\u001b[34m\u001b[1mwandb\u001b[0m: \tcell_type: gru\n",
      "\u001b[34m\u001b[1mwandb\u001b[0m: \tdropout: 0.2\n",
      "\u001b[34m\u001b[1mwandb\u001b[0m: \tembed_size: 64\n",
      "\u001b[34m\u001b[1mwandb\u001b[0m: \thidden_size: 256\n",
      "\u001b[34m\u001b[1mwandb\u001b[0m: \tnum_epochs: 20\n",
      "\u001b[34m\u001b[1mwandb\u001b[0m: \tnum_layers: 4\n",
      "\u001b[34m\u001b[1mwandb\u001b[0m: \u001b[33mWARNING\u001b[0m Ignored wandb.init() arg project when running a sweep.\n"
     ]
    },
    {
     "data": {
      "application/vnd.jupyter.widget-view+json": {
       "model_id": "1d083e88e7564cafb5e8bb3b91231ef9",
       "version_major": 2,
       "version_minor": 0
      },
      "text/plain": [
       "VBox(children=(Label(value='Waiting for wandb.init()...\\r'), FloatProgress(value=0.016666666666666666, max=1.0…"
      ]
     },
     "metadata": {},
     "output_type": "display_data"
    },
    {
     "data": {
      "text/html": [
       "wandb version 0.15.2 is available!  To upgrade, please run:\n",
       " $ pip install wandb --upgrade"
      ],
      "text/plain": [
       "<IPython.core.display.HTML object>"
      ]
     },
     "metadata": {},
     "output_type": "display_data"
    },
    {
     "data": {
      "text/html": [
       "Tracking run with wandb version 0.13.11"
      ],
      "text/plain": [
       "<IPython.core.display.HTML object>"
      ]
     },
     "metadata": {},
     "output_type": "display_data"
    },
    {
     "data": {
      "text/html": [
       "Run data is saved locally in <code>C:\\Users\\HICLIPS-ASK\\wandb\\run-20230509_180446-l329q67f</code>"
      ],
      "text/plain": [
       "<IPython.core.display.HTML object>"
      ]
     },
     "metadata": {},
     "output_type": "display_data"
    },
    {
     "data": {
      "text/html": [
       "Resuming run <strong><a href='https://wandb.ai/am22s020/Assignment%203/runs/l329q67f' target=\"_blank\">effortless-sweep-38</a></strong> to <a href='https://wandb.ai/am22s020/Assignment%203' target=\"_blank\">Weights & Biases</a> (<a href='https://wandb.me/run' target=\"_blank\">docs</a>)<br/>Sweep page: <a href='https://wandb.ai/am22s020/Assignment%203/sweeps/a7mxe1u0' target=\"_blank\">https://wandb.ai/am22s020/Assignment%203/sweeps/a7mxe1u0</a>"
      ],
      "text/plain": [
       "<IPython.core.display.HTML object>"
      ]
     },
     "metadata": {},
     "output_type": "display_data"
    },
    {
     "data": {
      "text/html": [
       " View project at <a href='https://wandb.ai/am22s020/Assignment%203' target=\"_blank\">https://wandb.ai/am22s020/Assignment%203</a>"
      ],
      "text/plain": [
       "<IPython.core.display.HTML object>"
      ]
     },
     "metadata": {},
     "output_type": "display_data"
    },
    {
     "data": {
      "text/html": [
       " View sweep at <a href='https://wandb.ai/am22s020/Assignment%203/sweeps/a7mxe1u0' target=\"_blank\">https://wandb.ai/am22s020/Assignment%203/sweeps/a7mxe1u0</a>"
      ],
      "text/plain": [
       "<IPython.core.display.HTML object>"
      ]
     },
     "metadata": {},
     "output_type": "display_data"
    },
    {
     "data": {
      "text/html": [
       " View run at <a href='https://wandb.ai/am22s020/Assignment%203/runs/l329q67f' target=\"_blank\">https://wandb.ai/am22s020/Assignment%203/runs/l329q67f</a>"
      ],
      "text/plain": [
       "<IPython.core.display.HTML object>"
      ]
     },
     "metadata": {},
     "output_type": "display_data"
    },
    {
     "name": "stdout",
     "output_type": "stream",
     "text": [
      "cell_gru_nl_4_hs_256_e_20_bd_True_dr_0.2_ems_64\n",
      "Epoch:  1 / 20\n",
      "Training Loss:  1.0195107460021973\n",
      "Epoch:  2 / 20\n",
      "Training Loss:  0.7573160529136658\n",
      "Epoch:  3 / 20\n",
      "Training Loss:  0.6126053929328918\n",
      "Epoch:  4 / 20\n",
      "Training Loss:  0.6353828310966492\n",
      "Epoch:  5 / 20\n",
      "Training Loss:  0.642772376537323\n",
      "Epoch:  6 / 20\n",
      "Training Loss:  0.3763832151889801\n",
      "Epoch:  7 / 20\n",
      "Training Loss:  0.6234275698661804\n",
      "Epoch:  8 / 20\n",
      "Training Loss:  0.6609474420547485\n",
      "Epoch:  9 / 20\n",
      "Training Loss:  0.5328246355056763\n",
      "Epoch:  10 / 20\n",
      "Training Loss:  0.6689972877502441\n",
      "Epoch:  11 / 20\n",
      "Training Loss:  0.5389975905418396\n",
      "Epoch:  12 / 20\n",
      "Training Loss:  0.43946561217308044\n"
     ]
    },
    {
     "data": {
      "text/html": [
       "Waiting for W&B process to finish... <strong style=\"color:red\">(failed 1).</strong> Press Ctrl-C to abort syncing."
      ],
      "text/plain": [
       "<IPython.core.display.HTML object>"
      ]
     },
     "metadata": {},
     "output_type": "display_data"
    },
    {
     "data": {
      "application/vnd.jupyter.widget-view+json": {
       "model_id": "0ecfecad5ac6425bbda8c8e2d5322d6c",
       "version_major": 2,
       "version_minor": 0
      },
      "text/plain": [
       "VBox(children=(Label(value='0.000 MB of 0.000 MB uploaded (0.000 MB deduped)\\r'), FloatProgress(value=1.0, max…"
      ]
     },
     "metadata": {},
     "output_type": "display_data"
    },
    {
     "data": {
      "text/html": [
       "<style>\n",
       "    table.wandb td:nth-child(1) { padding: 0 10px; text-align: left ; width: auto;} td:nth-child(2) {text-align: left ; width: 100%}\n",
       "    .wandb-row { display: flex; flex-direction: row; flex-wrap: wrap; justify-content: flex-start; width: 100% }\n",
       "    .wandb-col { display: flex; flex-direction: column; flex-basis: 100%; flex: 1; padding: 10px; }\n",
       "    </style>\n",
       "<div class=\"wandb-row\"><div class=\"wandb-col\"><h3>Run history:</h3><br/><table class=\"wandb\"><tr><td>epoch</td><td>▁▂▂▃▄▅▅▆▇▇█</td></tr><tr><td>train accuracy</td><td>▁▃▄▅▆▆▇▇▇▇█</td></tr><tr><td>train loss</td><td>█▅▄▄▄▁▄▄▃▄▃</td></tr><tr><td>valid accuracy</td><td>▁▅▆▆▇██▇█▇█</td></tr></table><br/></div><div class=\"wandb-col\"><h3>Run summary:</h3><br/><table class=\"wandb\"><tr><td>epoch</td><td>11</td></tr><tr><td>train accuracy</td><td>54.48633</td></tr><tr><td>train loss</td><td>0.539</td></tr><tr><td>valid accuracy</td><td>35.96191</td></tr></table><br/></div></div>"
      ],
      "text/plain": [
       "<IPython.core.display.HTML object>"
      ]
     },
     "metadata": {},
     "output_type": "display_data"
    },
    {
     "data": {
      "text/html": [
       " View run <strong style=\"color:#cdcd00\">effortless-sweep-38</strong> at: <a href='https://wandb.ai/am22s020/Assignment%203/runs/l329q67f' target=\"_blank\">https://wandb.ai/am22s020/Assignment%203/runs/l329q67f</a><br/>Synced 3 W&B file(s), 0 media file(s), 0 artifact file(s) and 0 other file(s)"
      ],
      "text/plain": [
       "<IPython.core.display.HTML object>"
      ]
     },
     "metadata": {},
     "output_type": "display_data"
    },
    {
     "data": {
      "text/html": [
       "Find logs at: <code>.\\wandb\\run-20230509_180446-l329q67f\\logs</code>"
      ],
      "text/plain": [
       "<IPython.core.display.HTML object>"
      ]
     },
     "metadata": {},
     "output_type": "display_data"
    },
    {
     "name": "stderr",
     "output_type": "stream",
     "text": [
      "\u001b[34m\u001b[1mwandb\u001b[0m: Agent Starting Run: k543uo6s with config:\n",
      "\u001b[34m\u001b[1mwandb\u001b[0m: \tbi_dir: False\n",
      "\u001b[34m\u001b[1mwandb\u001b[0m: \tcell_type: gru\n",
      "\u001b[34m\u001b[1mwandb\u001b[0m: \tdropout: 0.2\n",
      "\u001b[34m\u001b[1mwandb\u001b[0m: \tembed_size: 128\n",
      "\u001b[34m\u001b[1mwandb\u001b[0m: \thidden_size: 64\n",
      "\u001b[34m\u001b[1mwandb\u001b[0m: \tnum_epochs: 15\n",
      "\u001b[34m\u001b[1mwandb\u001b[0m: \tnum_layers: 4\n",
      "\u001b[34m\u001b[1mwandb\u001b[0m: \u001b[33mWARNING\u001b[0m Ignored wandb.init() arg project when running a sweep.\n",
      "\u001b[34m\u001b[1mwandb\u001b[0m: \u001b[33mWARNING\u001b[0m Tried to auto resume run with id l329q67f but id k543uo6s is set.\n"
     ]
    },
    {
     "data": {
      "application/vnd.jupyter.widget-view+json": {
       "model_id": "284878ea73a845eb9f13eca16885dc83",
       "version_major": 2,
       "version_minor": 0
      },
      "text/plain": [
       "VBox(children=(Label(value='Waiting for wandb.init()...\\r'), FloatProgress(value=0.016666666666666666, max=1.0…"
      ]
     },
     "metadata": {},
     "output_type": "display_data"
    },
    {
     "data": {
      "text/html": [
       "wandb version 0.15.2 is available!  To upgrade, please run:\n",
       " $ pip install wandb --upgrade"
      ],
      "text/plain": [
       "<IPython.core.display.HTML object>"
      ]
     },
     "metadata": {},
     "output_type": "display_data"
    },
    {
     "data": {
      "text/html": [
       "Tracking run with wandb version 0.13.11"
      ],
      "text/plain": [
       "<IPython.core.display.HTML object>"
      ]
     },
     "metadata": {},
     "output_type": "display_data"
    },
    {
     "data": {
      "text/html": [
       "Run data is saved locally in <code>C:\\Users\\HICLIPS-ASK\\wandb\\run-20230509_193442-k543uo6s</code>"
      ],
      "text/plain": [
       "<IPython.core.display.HTML object>"
      ]
     },
     "metadata": {},
     "output_type": "display_data"
    },
    {
     "data": {
      "text/html": [
       "Resuming run <strong><a href='https://wandb.ai/am22s020/Assignment%203/runs/k543uo6s' target=\"_blank\">charmed-sweep-39</a></strong> to <a href='https://wandb.ai/am22s020/Assignment%203' target=\"_blank\">Weights & Biases</a> (<a href='https://wandb.me/run' target=\"_blank\">docs</a>)<br/>Sweep page: <a href='https://wandb.ai/am22s020/Assignment%203/sweeps/a7mxe1u0' target=\"_blank\">https://wandb.ai/am22s020/Assignment%203/sweeps/a7mxe1u0</a>"
      ],
      "text/plain": [
       "<IPython.core.display.HTML object>"
      ]
     },
     "metadata": {},
     "output_type": "display_data"
    },
    {
     "data": {
      "text/html": [
       " View project at <a href='https://wandb.ai/am22s020/Assignment%203' target=\"_blank\">https://wandb.ai/am22s020/Assignment%203</a>"
      ],
      "text/plain": [
       "<IPython.core.display.HTML object>"
      ]
     },
     "metadata": {},
     "output_type": "display_data"
    },
    {
     "data": {
      "text/html": [
       " View sweep at <a href='https://wandb.ai/am22s020/Assignment%203/sweeps/a7mxe1u0' target=\"_blank\">https://wandb.ai/am22s020/Assignment%203/sweeps/a7mxe1u0</a>"
      ],
      "text/plain": [
       "<IPython.core.display.HTML object>"
      ]
     },
     "metadata": {},
     "output_type": "display_data"
    },
    {
     "data": {
      "text/html": [
       " View run at <a href='https://wandb.ai/am22s020/Assignment%203/runs/k543uo6s' target=\"_blank\">https://wandb.ai/am22s020/Assignment%203/runs/k543uo6s</a>"
      ],
      "text/plain": [
       "<IPython.core.display.HTML object>"
      ]
     },
     "metadata": {},
     "output_type": "display_data"
    },
    {
     "name": "stdout",
     "output_type": "stream",
     "text": [
      "cell_gru_nl_4_hs_64_e_15_bd_False_dr_0.2_ems_128\n",
      "Epoch:  1 / 15\n",
      "Training Loss:  2.5902512073516846\n"
     ]
    },
    {
     "data": {
      "text/html": [
       "Waiting for W&B process to finish... <strong style=\"color:red\">(failed 1).</strong> Press Ctrl-C to abort syncing."
      ],
      "text/plain": [
       "<IPython.core.display.HTML object>"
      ]
     },
     "metadata": {},
     "output_type": "display_data"
    },
    {
     "data": {
      "application/vnd.jupyter.widget-view+json": {
       "model_id": "8525327c163245af97bfe440343787f0",
       "version_major": 2,
       "version_minor": 0
      },
      "text/plain": [
       "VBox(children=(Label(value='0.000 MB of 0.001 MB uploaded (0.000 MB deduped)\\r'), FloatProgress(value=0.0, max…"
      ]
     },
     "metadata": {},
     "output_type": "display_data"
    },
    {
     "data": {
      "text/html": [
       " View run <strong style=\"color:#cdcd00\">charmed-sweep-39</strong> at: <a href='https://wandb.ai/am22s020/Assignment%203/runs/k543uo6s' target=\"_blank\">https://wandb.ai/am22s020/Assignment%203/runs/k543uo6s</a><br/>Synced 3 W&B file(s), 0 media file(s), 0 artifact file(s) and 0 other file(s)"
      ],
      "text/plain": [
       "<IPython.core.display.HTML object>"
      ]
     },
     "metadata": {},
     "output_type": "display_data"
    },
    {
     "data": {
      "text/html": [
       "Find logs at: <code>.\\wandb\\run-20230509_193442-k543uo6s\\logs</code>"
      ],
      "text/plain": [
       "<IPython.core.display.HTML object>"
      ]
     },
     "metadata": {},
     "output_type": "display_data"
    },
    {
     "name": "stderr",
     "output_type": "stream",
     "text": [
      "\u001b[34m\u001b[1mwandb\u001b[0m: Agent Starting Run: 4pgd5da3 with config:\n",
      "\u001b[34m\u001b[1mwandb\u001b[0m: \tbi_dir: True\n",
      "\u001b[34m\u001b[1mwandb\u001b[0m: \tcell_type: rnn\n",
      "\u001b[34m\u001b[1mwandb\u001b[0m: \tdropout: 0.3\n",
      "\u001b[34m\u001b[1mwandb\u001b[0m: \tembed_size: 128\n",
      "\u001b[34m\u001b[1mwandb\u001b[0m: \thidden_size: 128\n",
      "\u001b[34m\u001b[1mwandb\u001b[0m: \tnum_epochs: 10\n",
      "\u001b[34m\u001b[1mwandb\u001b[0m: \tnum_layers: 3\n",
      "\u001b[34m\u001b[1mwandb\u001b[0m: \u001b[33mWARNING\u001b[0m Ignored wandb.init() arg project when running a sweep.\n",
      "\u001b[34m\u001b[1mwandb\u001b[0m: \u001b[33mWARNING\u001b[0m Tried to auto resume run with id k543uo6s but id 4pgd5da3 is set.\n"
     ]
    },
    {
     "data": {
      "application/vnd.jupyter.widget-view+json": {
       "model_id": "c9d990d09835406998ba347e53efca87",
       "version_major": 2,
       "version_minor": 0
      },
      "text/plain": [
       "VBox(children=(Label(value='Waiting for wandb.init()...\\r'), FloatProgress(value=0.016916666666899498, max=1.0…"
      ]
     },
     "metadata": {},
     "output_type": "display_data"
    },
    {
     "data": {
      "text/html": [
       "wandb version 0.15.2 is available!  To upgrade, please run:\n",
       " $ pip install wandb --upgrade"
      ],
      "text/plain": [
       "<IPython.core.display.HTML object>"
      ]
     },
     "metadata": {},
     "output_type": "display_data"
    },
    {
     "data": {
      "text/html": [
       "Tracking run with wandb version 0.13.11"
      ],
      "text/plain": [
       "<IPython.core.display.HTML object>"
      ]
     },
     "metadata": {},
     "output_type": "display_data"
    },
    {
     "data": {
      "text/html": [
       "Run data is saved locally in <code>C:\\Users\\HICLIPS-ASK\\wandb\\run-20230509_193546-4pgd5da3</code>"
      ],
      "text/plain": [
       "<IPython.core.display.HTML object>"
      ]
     },
     "metadata": {},
     "output_type": "display_data"
    },
    {
     "data": {
      "text/html": [
       "Resuming run <strong><a href='https://wandb.ai/am22s020/Assignment%203/runs/4pgd5da3' target=\"_blank\">gallant-sweep-40</a></strong> to <a href='https://wandb.ai/am22s020/Assignment%203' target=\"_blank\">Weights & Biases</a> (<a href='https://wandb.me/run' target=\"_blank\">docs</a>)<br/>Sweep page: <a href='https://wandb.ai/am22s020/Assignment%203/sweeps/a7mxe1u0' target=\"_blank\">https://wandb.ai/am22s020/Assignment%203/sweeps/a7mxe1u0</a>"
      ],
      "text/plain": [
       "<IPython.core.display.HTML object>"
      ]
     },
     "metadata": {},
     "output_type": "display_data"
    },
    {
     "data": {
      "text/html": [
       " View project at <a href='https://wandb.ai/am22s020/Assignment%203' target=\"_blank\">https://wandb.ai/am22s020/Assignment%203</a>"
      ],
      "text/plain": [
       "<IPython.core.display.HTML object>"
      ]
     },
     "metadata": {},
     "output_type": "display_data"
    },
    {
     "data": {
      "text/html": [
       " View sweep at <a href='https://wandb.ai/am22s020/Assignment%203/sweeps/a7mxe1u0' target=\"_blank\">https://wandb.ai/am22s020/Assignment%203/sweeps/a7mxe1u0</a>"
      ],
      "text/plain": [
       "<IPython.core.display.HTML object>"
      ]
     },
     "metadata": {},
     "output_type": "display_data"
    },
    {
     "data": {
      "text/html": [
       " View run at <a href='https://wandb.ai/am22s020/Assignment%203/runs/4pgd5da3' target=\"_blank\">https://wandb.ai/am22s020/Assignment%203/runs/4pgd5da3</a>"
      ],
      "text/plain": [
       "<IPython.core.display.HTML object>"
      ]
     },
     "metadata": {},
     "output_type": "display_data"
    },
    {
     "name": "stdout",
     "output_type": "stream",
     "text": [
      "cell_rnn_nl_3_hs_128_e_10_bd_True_dr_0.3_ems_128\n",
      "Epoch:  1 / 10\n",
      "Training Loss:  2.000258445739746\n",
      "Epoch:  2 / 10\n",
      "Training Loss:  1.6149288415908813\n"
     ]
    },
    {
     "data": {
      "text/html": [
       "Waiting for W&B process to finish... <strong style=\"color:red\">(failed 1).</strong> Press Ctrl-C to abort syncing."
      ],
      "text/plain": [
       "<IPython.core.display.HTML object>"
      ]
     },
     "metadata": {},
     "output_type": "display_data"
    },
    {
     "data": {
      "application/vnd.jupyter.widget-view+json": {
       "model_id": "32df43523a1f4b5f9b15316f152eb0b2",
       "version_major": 2,
       "version_minor": 0
      },
      "text/plain": [
       "VBox(children=(Label(value='0.000 MB of 0.000 MB uploaded (0.000 MB deduped)\\r'), FloatProgress(value=1.0, max…"
      ]
     },
     "metadata": {},
     "output_type": "display_data"
    },
    {
     "data": {
      "text/html": [
       "<style>\n",
       "    table.wandb td:nth-child(1) { padding: 0 10px; text-align: left ; width: auto;} td:nth-child(2) {text-align: left ; width: 100%}\n",
       "    .wandb-row { display: flex; flex-direction: row; flex-wrap: wrap; justify-content: flex-start; width: 100% }\n",
       "    .wandb-col { display: flex; flex-direction: column; flex-basis: 100%; flex: 1; padding: 10px; }\n",
       "    </style>\n",
       "<div class=\"wandb-row\"><div class=\"wandb-col\"><h3>Run history:</h3><br/><table class=\"wandb\"><tr><td>epoch</td><td>▁</td></tr><tr><td>train accuracy</td><td>▁</td></tr><tr><td>train loss</td><td>▁</td></tr><tr><td>valid accuracy</td><td>▁</td></tr></table><br/></div><div class=\"wandb-col\"><h3>Run summary:</h3><br/><table class=\"wandb\"><tr><td>epoch</td><td>1</td></tr><tr><td>train accuracy</td><td>0.0</td></tr><tr><td>train loss</td><td>2.00026</td></tr><tr><td>valid accuracy</td><td>0.0</td></tr></table><br/></div></div>"
      ],
      "text/plain": [
       "<IPython.core.display.HTML object>"
      ]
     },
     "metadata": {},
     "output_type": "display_data"
    },
    {
     "data": {
      "text/html": [
       " View run <strong style=\"color:#cdcd00\">gallant-sweep-40</strong> at: <a href='https://wandb.ai/am22s020/Assignment%203/runs/4pgd5da3' target=\"_blank\">https://wandb.ai/am22s020/Assignment%203/runs/4pgd5da3</a><br/>Synced 3 W&B file(s), 0 media file(s), 0 artifact file(s) and 0 other file(s)"
      ],
      "text/plain": [
       "<IPython.core.display.HTML object>"
      ]
     },
     "metadata": {},
     "output_type": "display_data"
    },
    {
     "data": {
      "text/html": [
       "Find logs at: <code>.\\wandb\\run-20230509_193546-4pgd5da3\\logs</code>"
      ],
      "text/plain": [
       "<IPython.core.display.HTML object>"
      ]
     },
     "metadata": {},
     "output_type": "display_data"
    },
    {
     "name": "stderr",
     "output_type": "stream",
     "text": [
      "\u001b[34m\u001b[1mwandb\u001b[0m: Ctrl + C detected. Stopping sweep.\n"
     ]
    }
   ],
   "source": [
    "if wandb_sweep == True:\n",
    "    wandb_sweep(project_name, entity_name)"
   ]
  }
 ],
 "metadata": {
  "kernelspec": {
   "display_name": "Python 3 (ipykernel)",
   "language": "python",
   "name": "python3"
  },
  "language_info": {
   "codemirror_mode": {
    "name": "ipython",
    "version": 3
   },
   "file_extension": ".py",
   "mimetype": "text/x-python",
   "name": "python",
   "nbconvert_exporter": "python",
   "pygments_lexer": "ipython3",
   "version": "3.9.7"
  }
 },
 "nbformat": 4,
 "nbformat_minor": 5
}
